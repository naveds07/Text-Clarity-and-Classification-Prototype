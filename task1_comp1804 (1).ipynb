{
  "nbformat": 4,
  "nbformat_minor": 0,
  "metadata": {
    "colab": {
      "provenance": []
    },
    "kernelspec": {
      "name": "python3",
      "display_name": "Python 3"
    },
    "language_info": {
      "name": "python"
    }
  },
  "cells": [
    {
      "cell_type": "code",
      "execution_count": null,
      "metadata": {
        "colab": {
          "base_uri": "https://localhost:8080/"
        },
        "id": "rRn5-wizGNQ7",
        "outputId": "6d70687f-e70a-403c-c8e4-5bfb8a96f38c"
      },
      "outputs": [
        {
          "output_type": "stream",
          "name": "stdout",
          "text": [
            "Requirement already satisfied: spacy in /usr/local/lib/python3.10/dist-packages (3.7.4)\n",
            "Requirement already satisfied: spacy-legacy<3.1.0,>=3.0.11 in /usr/local/lib/python3.10/dist-packages (from spacy) (3.0.12)\n",
            "Requirement already satisfied: spacy-loggers<2.0.0,>=1.0.0 in /usr/local/lib/python3.10/dist-packages (from spacy) (1.0.5)\n",
            "Requirement already satisfied: murmurhash<1.1.0,>=0.28.0 in /usr/local/lib/python3.10/dist-packages (from spacy) (1.0.10)\n",
            "Requirement already satisfied: cymem<2.1.0,>=2.0.2 in /usr/local/lib/python3.10/dist-packages (from spacy) (2.0.8)\n",
            "Requirement already satisfied: preshed<3.1.0,>=3.0.2 in /usr/local/lib/python3.10/dist-packages (from spacy) (3.0.9)\n",
            "Requirement already satisfied: thinc<8.3.0,>=8.2.2 in /usr/local/lib/python3.10/dist-packages (from spacy) (8.2.3)\n",
            "Requirement already satisfied: wasabi<1.2.0,>=0.9.1 in /usr/local/lib/python3.10/dist-packages (from spacy) (1.1.2)\n",
            "Requirement already satisfied: srsly<3.0.0,>=2.4.3 in /usr/local/lib/python3.10/dist-packages (from spacy) (2.4.8)\n",
            "Requirement already satisfied: catalogue<2.1.0,>=2.0.6 in /usr/local/lib/python3.10/dist-packages (from spacy) (2.0.10)\n",
            "Requirement already satisfied: weasel<0.4.0,>=0.1.0 in /usr/local/lib/python3.10/dist-packages (from spacy) (0.3.4)\n",
            "Requirement already satisfied: typer<0.10.0,>=0.3.0 in /usr/local/lib/python3.10/dist-packages (from spacy) (0.9.0)\n",
            "Requirement already satisfied: smart-open<7.0.0,>=5.2.1 in /usr/local/lib/python3.10/dist-packages (from spacy) (6.4.0)\n",
            "Requirement already satisfied: tqdm<5.0.0,>=4.38.0 in /usr/local/lib/python3.10/dist-packages (from spacy) (4.66.2)\n",
            "Requirement already satisfied: requests<3.0.0,>=2.13.0 in /usr/local/lib/python3.10/dist-packages (from spacy) (2.31.0)\n",
            "Requirement already satisfied: pydantic!=1.8,!=1.8.1,<3.0.0,>=1.7.4 in /usr/local/lib/python3.10/dist-packages (from spacy) (2.6.4)\n",
            "Requirement already satisfied: jinja2 in /usr/local/lib/python3.10/dist-packages (from spacy) (3.1.3)\n",
            "Requirement already satisfied: setuptools in /usr/local/lib/python3.10/dist-packages (from spacy) (67.7.2)\n",
            "Requirement already satisfied: packaging>=20.0 in /usr/local/lib/python3.10/dist-packages (from spacy) (24.0)\n",
            "Requirement already satisfied: langcodes<4.0.0,>=3.2.0 in /usr/local/lib/python3.10/dist-packages (from spacy) (3.3.0)\n",
            "Requirement already satisfied: numpy>=1.19.0 in /usr/local/lib/python3.10/dist-packages (from spacy) (1.25.2)\n",
            "Requirement already satisfied: annotated-types>=0.4.0 in /usr/local/lib/python3.10/dist-packages (from pydantic!=1.8,!=1.8.1,<3.0.0,>=1.7.4->spacy) (0.6.0)\n",
            "Requirement already satisfied: pydantic-core==2.16.3 in /usr/local/lib/python3.10/dist-packages (from pydantic!=1.8,!=1.8.1,<3.0.0,>=1.7.4->spacy) (2.16.3)\n",
            "Requirement already satisfied: typing-extensions>=4.6.1 in /usr/local/lib/python3.10/dist-packages (from pydantic!=1.8,!=1.8.1,<3.0.0,>=1.7.4->spacy) (4.10.0)\n",
            "Requirement already satisfied: charset-normalizer<4,>=2 in /usr/local/lib/python3.10/dist-packages (from requests<3.0.0,>=2.13.0->spacy) (3.3.2)\n",
            "Requirement already satisfied: idna<4,>=2.5 in /usr/local/lib/python3.10/dist-packages (from requests<3.0.0,>=2.13.0->spacy) (3.6)\n",
            "Requirement already satisfied: urllib3<3,>=1.21.1 in /usr/local/lib/python3.10/dist-packages (from requests<3.0.0,>=2.13.0->spacy) (2.0.7)\n",
            "Requirement already satisfied: certifi>=2017.4.17 in /usr/local/lib/python3.10/dist-packages (from requests<3.0.0,>=2.13.0->spacy) (2024.2.2)\n",
            "Requirement already satisfied: blis<0.8.0,>=0.7.8 in /usr/local/lib/python3.10/dist-packages (from thinc<8.3.0,>=8.2.2->spacy) (0.7.11)\n",
            "Requirement already satisfied: confection<1.0.0,>=0.0.1 in /usr/local/lib/python3.10/dist-packages (from thinc<8.3.0,>=8.2.2->spacy) (0.1.4)\n",
            "Requirement already satisfied: click<9.0.0,>=7.1.1 in /usr/local/lib/python3.10/dist-packages (from typer<0.10.0,>=0.3.0->spacy) (8.1.7)\n",
            "Requirement already satisfied: cloudpathlib<0.17.0,>=0.7.0 in /usr/local/lib/python3.10/dist-packages (from weasel<0.4.0,>=0.1.0->spacy) (0.16.0)\n",
            "Requirement already satisfied: MarkupSafe>=2.0 in /usr/local/lib/python3.10/dist-packages (from jinja2->spacy) (2.1.5)\n"
          ]
        }
      ],
      "source": [
        "# Importing all necessary libraries required for this coursework\n",
        "\n",
        "import numpy as np\n",
        "import pandas as pd\n",
        "import seaborn as sns\n",
        "import matplotlib.pyplot as plt\n",
        "import nltk\n",
        "from nltk.tokenize import word_tokenize\n",
        "from sklearn.impute import SimpleImputer\n",
        "from sklearn.preprocessing import OneHotEncoder, LabelEncoder, StandardScaler\n",
        "from imblearn.over_sampling import RandomOverSampler, SMOTE\n",
        "from sklearn.datasets import load_iris\n",
        "from sklearn.linear_model import LogisticRegression\n",
        "from sklearn.naive_bayes import MultinomialNB\n",
        "from sklearn.pipeline import Pipeline\n",
        "from sklearn.model_selection import train_test_split, GridSearchCV\n",
        "from sklearn.feature_extraction.text import TfidfVectorizer, CountVectorizer\n",
        "from sklearn.metrics import accuracy_score, precision_score, recall_score, f1_score, roc_auc_score, confusion_matrix, classification_report\n",
        "from sklearn.compose import ColumnTransformer\n",
        "from sklearn.ensemble import RandomForestClassifier\n",
        "from scipy.stats import zscore\n",
        "from sklearn.metrics import accuracy_score\n",
        "from sklearn.dummy import DummyClassifier\n",
        "\n",
        "!pip install --upgrade spacy"
      ]
    },
    {
      "cell_type": "code",
      "source": [
        "data = pd.read_csv('comp1804_dataset.csv')\n",
        "data"
      ],
      "metadata": {
        "colab": {
          "base_uri": "https://localhost:8080/",
          "height": 475
        },
        "id": "ZQKj7xHWGUHM",
        "outputId": "a1b6181c-33ae-40dd-a99d-14915feee956"
      },
      "execution_count": null,
      "outputs": [
        {
          "output_type": "execute_result",
          "data": {
            "text/plain": [
              "            par_id                                          paragraph  \\\n",
              "0     428209002237  Ramsay was born in Glasgow on 2 October 1852. ...   \n",
              "1     564218010072  It has been widely estimated for at least the ...   \n",
              "2     291401001672  He went on to win the Royal Medal of the Royal...   \n",
              "3      31548004883  The changes have altered many underlying assum...   \n",
              "4      50634005146  After these novels were published, Disraeli de...   \n",
              "...            ...                                                ...   \n",
              "9342  200523007578  Sir Joseph Dalton Hooker  was a British botani...   \n",
              "9343   50634005203  As successful invasions of India generally cam...   \n",
              "9344    6437003939  Hawking was born on 8 January 1942 in Oxford t...   \n",
              "9345  725259002815  More complex tasks can be making custom data e...   \n",
              "9346  109126000894  Governments, and especially the police and cou...   \n",
              "\n",
              "                           has_entity  lexicon_count  difficult_words  \\\n",
              "0      ORG_YES_PRODUCT_NO_PERSON_YES_             49             12.0   \n",
              "1       ORG_YES_PRODUCT_NO_PERSON_NO_            166             47.0   \n",
              "2       ORG_YES_PRODUCT_NO_PERSON_NO_             69             18.0   \n",
              "3       ORG_NO_PRODUCT_YES_PERSON_NO_             76             27.0   \n",
              "4     ORG_YES_PRODUCT_YES_PERSON_YES_            200             47.0   \n",
              "...                               ...            ...              ...   \n",
              "9342   ORG_YES_PRODUCT_NO_PERSON_YES_             54             16.0   \n",
              "9343   ORG_YES_PRODUCT_NO_PERSON_YES_            217             46.0   \n",
              "9344   ORG_YES_PRODUCT_NO_PERSON_YES_             91             27.0   \n",
              "9345    ORG_YES_PRODUCT_NO_PERSON_NO_             47             15.0   \n",
              "9346     ORG_NO_PRODUCT_NO_PERSON_NO_             87              8.0   \n",
              "\n",
              "     last_editor_gender                 category      text_clarity  \n",
              "0                   man              biographies      clear_enough  \n",
              "1                   man  artificial intelligence  not_clear_enough  \n",
              "2            non-binary              biographies      clear_enough  \n",
              "3            non-binary              programming      clear_enough  \n",
              "4                   man              biographies  not_clear_enough  \n",
              "...                 ...                      ...               ...  \n",
              "9342                man              biographies               NaN  \n",
              "9343              woman              biographies               NaN  \n",
              "9344              woman              biographies               NaN  \n",
              "9345                man              programming               NaN  \n",
              "9346                man               philosophy               NaN  \n",
              "\n",
              "[9347 rows x 8 columns]"
            ],
            "text/html": [
              "\n",
              "  <div id=\"df-679b35da-3e22-472c-8785-ed28a46402a2\" class=\"colab-df-container\">\n",
              "    <div>\n",
              "<style scoped>\n",
              "    .dataframe tbody tr th:only-of-type {\n",
              "        vertical-align: middle;\n",
              "    }\n",
              "\n",
              "    .dataframe tbody tr th {\n",
              "        vertical-align: top;\n",
              "    }\n",
              "\n",
              "    .dataframe thead th {\n",
              "        text-align: right;\n",
              "    }\n",
              "</style>\n",
              "<table border=\"1\" class=\"dataframe\">\n",
              "  <thead>\n",
              "    <tr style=\"text-align: right;\">\n",
              "      <th></th>\n",
              "      <th>par_id</th>\n",
              "      <th>paragraph</th>\n",
              "      <th>has_entity</th>\n",
              "      <th>lexicon_count</th>\n",
              "      <th>difficult_words</th>\n",
              "      <th>last_editor_gender</th>\n",
              "      <th>category</th>\n",
              "      <th>text_clarity</th>\n",
              "    </tr>\n",
              "  </thead>\n",
              "  <tbody>\n",
              "    <tr>\n",
              "      <th>0</th>\n",
              "      <td>428209002237</td>\n",
              "      <td>Ramsay was born in Glasgow on 2 October 1852. ...</td>\n",
              "      <td>ORG_YES_PRODUCT_NO_PERSON_YES_</td>\n",
              "      <td>49</td>\n",
              "      <td>12.0</td>\n",
              "      <td>man</td>\n",
              "      <td>biographies</td>\n",
              "      <td>clear_enough</td>\n",
              "    </tr>\n",
              "    <tr>\n",
              "      <th>1</th>\n",
              "      <td>564218010072</td>\n",
              "      <td>It has been widely estimated for at least the ...</td>\n",
              "      <td>ORG_YES_PRODUCT_NO_PERSON_NO_</td>\n",
              "      <td>166</td>\n",
              "      <td>47.0</td>\n",
              "      <td>man</td>\n",
              "      <td>artificial intelligence</td>\n",
              "      <td>not_clear_enough</td>\n",
              "    </tr>\n",
              "    <tr>\n",
              "      <th>2</th>\n",
              "      <td>291401001672</td>\n",
              "      <td>He went on to win the Royal Medal of the Royal...</td>\n",
              "      <td>ORG_YES_PRODUCT_NO_PERSON_NO_</td>\n",
              "      <td>69</td>\n",
              "      <td>18.0</td>\n",
              "      <td>non-binary</td>\n",
              "      <td>biographies</td>\n",
              "      <td>clear_enough</td>\n",
              "    </tr>\n",
              "    <tr>\n",
              "      <th>3</th>\n",
              "      <td>31548004883</td>\n",
              "      <td>The changes have altered many underlying assum...</td>\n",
              "      <td>ORG_NO_PRODUCT_YES_PERSON_NO_</td>\n",
              "      <td>76</td>\n",
              "      <td>27.0</td>\n",
              "      <td>non-binary</td>\n",
              "      <td>programming</td>\n",
              "      <td>clear_enough</td>\n",
              "    </tr>\n",
              "    <tr>\n",
              "      <th>4</th>\n",
              "      <td>50634005146</td>\n",
              "      <td>After these novels were published, Disraeli de...</td>\n",
              "      <td>ORG_YES_PRODUCT_YES_PERSON_YES_</td>\n",
              "      <td>200</td>\n",
              "      <td>47.0</td>\n",
              "      <td>man</td>\n",
              "      <td>biographies</td>\n",
              "      <td>not_clear_enough</td>\n",
              "    </tr>\n",
              "    <tr>\n",
              "      <th>...</th>\n",
              "      <td>...</td>\n",
              "      <td>...</td>\n",
              "      <td>...</td>\n",
              "      <td>...</td>\n",
              "      <td>...</td>\n",
              "      <td>...</td>\n",
              "      <td>...</td>\n",
              "      <td>...</td>\n",
              "    </tr>\n",
              "    <tr>\n",
              "      <th>9342</th>\n",
              "      <td>200523007578</td>\n",
              "      <td>Sir Joseph Dalton Hooker  was a British botani...</td>\n",
              "      <td>ORG_YES_PRODUCT_NO_PERSON_YES_</td>\n",
              "      <td>54</td>\n",
              "      <td>16.0</td>\n",
              "      <td>man</td>\n",
              "      <td>biographies</td>\n",
              "      <td>NaN</td>\n",
              "    </tr>\n",
              "    <tr>\n",
              "      <th>9343</th>\n",
              "      <td>50634005203</td>\n",
              "      <td>As successful invasions of India generally cam...</td>\n",
              "      <td>ORG_YES_PRODUCT_NO_PERSON_YES_</td>\n",
              "      <td>217</td>\n",
              "      <td>46.0</td>\n",
              "      <td>woman</td>\n",
              "      <td>biographies</td>\n",
              "      <td>NaN</td>\n",
              "    </tr>\n",
              "    <tr>\n",
              "      <th>9344</th>\n",
              "      <td>6437003939</td>\n",
              "      <td>Hawking was born on 8 January 1942 in Oxford t...</td>\n",
              "      <td>ORG_YES_PRODUCT_NO_PERSON_YES_</td>\n",
              "      <td>91</td>\n",
              "      <td>27.0</td>\n",
              "      <td>woman</td>\n",
              "      <td>biographies</td>\n",
              "      <td>NaN</td>\n",
              "    </tr>\n",
              "    <tr>\n",
              "      <th>9345</th>\n",
              "      <td>725259002815</td>\n",
              "      <td>More complex tasks can be making custom data e...</td>\n",
              "      <td>ORG_YES_PRODUCT_NO_PERSON_NO_</td>\n",
              "      <td>47</td>\n",
              "      <td>15.0</td>\n",
              "      <td>man</td>\n",
              "      <td>programming</td>\n",
              "      <td>NaN</td>\n",
              "    </tr>\n",
              "    <tr>\n",
              "      <th>9346</th>\n",
              "      <td>109126000894</td>\n",
              "      <td>Governments, and especially the police and cou...</td>\n",
              "      <td>ORG_NO_PRODUCT_NO_PERSON_NO_</td>\n",
              "      <td>87</td>\n",
              "      <td>8.0</td>\n",
              "      <td>man</td>\n",
              "      <td>philosophy</td>\n",
              "      <td>NaN</td>\n",
              "    </tr>\n",
              "  </tbody>\n",
              "</table>\n",
              "<p>9347 rows × 8 columns</p>\n",
              "</div>\n",
              "    <div class=\"colab-df-buttons\">\n",
              "\n",
              "  <div class=\"colab-df-container\">\n",
              "    <button class=\"colab-df-convert\" onclick=\"convertToInteractive('df-679b35da-3e22-472c-8785-ed28a46402a2')\"\n",
              "            title=\"Convert this dataframe to an interactive table.\"\n",
              "            style=\"display:none;\">\n",
              "\n",
              "  <svg xmlns=\"http://www.w3.org/2000/svg\" height=\"24px\" viewBox=\"0 -960 960 960\">\n",
              "    <path d=\"M120-120v-720h720v720H120Zm60-500h600v-160H180v160Zm220 220h160v-160H400v160Zm0 220h160v-160H400v160ZM180-400h160v-160H180v160Zm440 0h160v-160H620v160ZM180-180h160v-160H180v160Zm440 0h160v-160H620v160Z\"/>\n",
              "  </svg>\n",
              "    </button>\n",
              "\n",
              "  <style>\n",
              "    .colab-df-container {\n",
              "      display:flex;\n",
              "      gap: 12px;\n",
              "    }\n",
              "\n",
              "    .colab-df-convert {\n",
              "      background-color: #E8F0FE;\n",
              "      border: none;\n",
              "      border-radius: 50%;\n",
              "      cursor: pointer;\n",
              "      display: none;\n",
              "      fill: #1967D2;\n",
              "      height: 32px;\n",
              "      padding: 0 0 0 0;\n",
              "      width: 32px;\n",
              "    }\n",
              "\n",
              "    .colab-df-convert:hover {\n",
              "      background-color: #E2EBFA;\n",
              "      box-shadow: 0px 1px 2px rgba(60, 64, 67, 0.3), 0px 1px 3px 1px rgba(60, 64, 67, 0.15);\n",
              "      fill: #174EA6;\n",
              "    }\n",
              "\n",
              "    .colab-df-buttons div {\n",
              "      margin-bottom: 4px;\n",
              "    }\n",
              "\n",
              "    [theme=dark] .colab-df-convert {\n",
              "      background-color: #3B4455;\n",
              "      fill: #D2E3FC;\n",
              "    }\n",
              "\n",
              "    [theme=dark] .colab-df-convert:hover {\n",
              "      background-color: #434B5C;\n",
              "      box-shadow: 0px 1px 3px 1px rgba(0, 0, 0, 0.15);\n",
              "      filter: drop-shadow(0px 1px 2px rgba(0, 0, 0, 0.3));\n",
              "      fill: #FFFFFF;\n",
              "    }\n",
              "  </style>\n",
              "\n",
              "    <script>\n",
              "      const buttonEl =\n",
              "        document.querySelector('#df-679b35da-3e22-472c-8785-ed28a46402a2 button.colab-df-convert');\n",
              "      buttonEl.style.display =\n",
              "        google.colab.kernel.accessAllowed ? 'block' : 'none';\n",
              "\n",
              "      async function convertToInteractive(key) {\n",
              "        const element = document.querySelector('#df-679b35da-3e22-472c-8785-ed28a46402a2');\n",
              "        const dataTable =\n",
              "          await google.colab.kernel.invokeFunction('convertToInteractive',\n",
              "                                                    [key], {});\n",
              "        if (!dataTable) return;\n",
              "\n",
              "        const docLinkHtml = 'Like what you see? Visit the ' +\n",
              "          '<a target=\"_blank\" href=https://colab.research.google.com/notebooks/data_table.ipynb>data table notebook</a>'\n",
              "          + ' to learn more about interactive tables.';\n",
              "        element.innerHTML = '';\n",
              "        dataTable['output_type'] = 'display_data';\n",
              "        await google.colab.output.renderOutput(dataTable, element);\n",
              "        const docLink = document.createElement('div');\n",
              "        docLink.innerHTML = docLinkHtml;\n",
              "        element.appendChild(docLink);\n",
              "      }\n",
              "    </script>\n",
              "  </div>\n",
              "\n",
              "\n",
              "<div id=\"df-52e4fdb7-8b9a-4811-a61d-965b43ee8c88\">\n",
              "  <button class=\"colab-df-quickchart\" onclick=\"quickchart('df-52e4fdb7-8b9a-4811-a61d-965b43ee8c88')\"\n",
              "            title=\"Suggest charts\"\n",
              "            style=\"display:none;\">\n",
              "\n",
              "<svg xmlns=\"http://www.w3.org/2000/svg\" height=\"24px\"viewBox=\"0 0 24 24\"\n",
              "     width=\"24px\">\n",
              "    <g>\n",
              "        <path d=\"M19 3H5c-1.1 0-2 .9-2 2v14c0 1.1.9 2 2 2h14c1.1 0 2-.9 2-2V5c0-1.1-.9-2-2-2zM9 17H7v-7h2v7zm4 0h-2V7h2v10zm4 0h-2v-4h2v4z\"/>\n",
              "    </g>\n",
              "</svg>\n",
              "  </button>\n",
              "\n",
              "<style>\n",
              "  .colab-df-quickchart {\n",
              "      --bg-color: #E8F0FE;\n",
              "      --fill-color: #1967D2;\n",
              "      --hover-bg-color: #E2EBFA;\n",
              "      --hover-fill-color: #174EA6;\n",
              "      --disabled-fill-color: #AAA;\n",
              "      --disabled-bg-color: #DDD;\n",
              "  }\n",
              "\n",
              "  [theme=dark] .colab-df-quickchart {\n",
              "      --bg-color: #3B4455;\n",
              "      --fill-color: #D2E3FC;\n",
              "      --hover-bg-color: #434B5C;\n",
              "      --hover-fill-color: #FFFFFF;\n",
              "      --disabled-bg-color: #3B4455;\n",
              "      --disabled-fill-color: #666;\n",
              "  }\n",
              "\n",
              "  .colab-df-quickchart {\n",
              "    background-color: var(--bg-color);\n",
              "    border: none;\n",
              "    border-radius: 50%;\n",
              "    cursor: pointer;\n",
              "    display: none;\n",
              "    fill: var(--fill-color);\n",
              "    height: 32px;\n",
              "    padding: 0;\n",
              "    width: 32px;\n",
              "  }\n",
              "\n",
              "  .colab-df-quickchart:hover {\n",
              "    background-color: var(--hover-bg-color);\n",
              "    box-shadow: 0 1px 2px rgba(60, 64, 67, 0.3), 0 1px 3px 1px rgba(60, 64, 67, 0.15);\n",
              "    fill: var(--button-hover-fill-color);\n",
              "  }\n",
              "\n",
              "  .colab-df-quickchart-complete:disabled,\n",
              "  .colab-df-quickchart-complete:disabled:hover {\n",
              "    background-color: var(--disabled-bg-color);\n",
              "    fill: var(--disabled-fill-color);\n",
              "    box-shadow: none;\n",
              "  }\n",
              "\n",
              "  .colab-df-spinner {\n",
              "    border: 2px solid var(--fill-color);\n",
              "    border-color: transparent;\n",
              "    border-bottom-color: var(--fill-color);\n",
              "    animation:\n",
              "      spin 1s steps(1) infinite;\n",
              "  }\n",
              "\n",
              "  @keyframes spin {\n",
              "    0% {\n",
              "      border-color: transparent;\n",
              "      border-bottom-color: var(--fill-color);\n",
              "      border-left-color: var(--fill-color);\n",
              "    }\n",
              "    20% {\n",
              "      border-color: transparent;\n",
              "      border-left-color: var(--fill-color);\n",
              "      border-top-color: var(--fill-color);\n",
              "    }\n",
              "    30% {\n",
              "      border-color: transparent;\n",
              "      border-left-color: var(--fill-color);\n",
              "      border-top-color: var(--fill-color);\n",
              "      border-right-color: var(--fill-color);\n",
              "    }\n",
              "    40% {\n",
              "      border-color: transparent;\n",
              "      border-right-color: var(--fill-color);\n",
              "      border-top-color: var(--fill-color);\n",
              "    }\n",
              "    60% {\n",
              "      border-color: transparent;\n",
              "      border-right-color: var(--fill-color);\n",
              "    }\n",
              "    80% {\n",
              "      border-color: transparent;\n",
              "      border-right-color: var(--fill-color);\n",
              "      border-bottom-color: var(--fill-color);\n",
              "    }\n",
              "    90% {\n",
              "      border-color: transparent;\n",
              "      border-bottom-color: var(--fill-color);\n",
              "    }\n",
              "  }\n",
              "</style>\n",
              "\n",
              "  <script>\n",
              "    async function quickchart(key) {\n",
              "      const quickchartButtonEl =\n",
              "        document.querySelector('#' + key + ' button');\n",
              "      quickchartButtonEl.disabled = true;  // To prevent multiple clicks.\n",
              "      quickchartButtonEl.classList.add('colab-df-spinner');\n",
              "      try {\n",
              "        const charts = await google.colab.kernel.invokeFunction(\n",
              "            'suggestCharts', [key], {});\n",
              "      } catch (error) {\n",
              "        console.error('Error during call to suggestCharts:', error);\n",
              "      }\n",
              "      quickchartButtonEl.classList.remove('colab-df-spinner');\n",
              "      quickchartButtonEl.classList.add('colab-df-quickchart-complete');\n",
              "    }\n",
              "    (() => {\n",
              "      let quickchartButtonEl =\n",
              "        document.querySelector('#df-52e4fdb7-8b9a-4811-a61d-965b43ee8c88 button');\n",
              "      quickchartButtonEl.style.display =\n",
              "        google.colab.kernel.accessAllowed ? 'block' : 'none';\n",
              "    })();\n",
              "  </script>\n",
              "</div>\n",
              "\n",
              "  <div id=\"id_b6368036-3a97-4c59-a534-112c2ba64e73\">\n",
              "    <style>\n",
              "      .colab-df-generate {\n",
              "        background-color: #E8F0FE;\n",
              "        border: none;\n",
              "        border-radius: 50%;\n",
              "        cursor: pointer;\n",
              "        display: none;\n",
              "        fill: #1967D2;\n",
              "        height: 32px;\n",
              "        padding: 0 0 0 0;\n",
              "        width: 32px;\n",
              "      }\n",
              "\n",
              "      .colab-df-generate:hover {\n",
              "        background-color: #E2EBFA;\n",
              "        box-shadow: 0px 1px 2px rgba(60, 64, 67, 0.3), 0px 1px 3px 1px rgba(60, 64, 67, 0.15);\n",
              "        fill: #174EA6;\n",
              "      }\n",
              "\n",
              "      [theme=dark] .colab-df-generate {\n",
              "        background-color: #3B4455;\n",
              "        fill: #D2E3FC;\n",
              "      }\n",
              "\n",
              "      [theme=dark] .colab-df-generate:hover {\n",
              "        background-color: #434B5C;\n",
              "        box-shadow: 0px 1px 3px 1px rgba(0, 0, 0, 0.15);\n",
              "        filter: drop-shadow(0px 1px 2px rgba(0, 0, 0, 0.3));\n",
              "        fill: #FFFFFF;\n",
              "      }\n",
              "    </style>\n",
              "    <button class=\"colab-df-generate\" onclick=\"generateWithVariable('data')\"\n",
              "            title=\"Generate code using this dataframe.\"\n",
              "            style=\"display:none;\">\n",
              "\n",
              "  <svg xmlns=\"http://www.w3.org/2000/svg\" height=\"24px\"viewBox=\"0 0 24 24\"\n",
              "       width=\"24px\">\n",
              "    <path d=\"M7,19H8.4L18.45,9,17,7.55,7,17.6ZM5,21V16.75L18.45,3.32a2,2,0,0,1,2.83,0l1.4,1.43a1.91,1.91,0,0,1,.58,1.4,1.91,1.91,0,0,1-.58,1.4L9.25,21ZM18.45,9,17,7.55Zm-12,3A5.31,5.31,0,0,0,4.9,8.1,5.31,5.31,0,0,0,1,6.5,5.31,5.31,0,0,0,4.9,4.9,5.31,5.31,0,0,0,6.5,1,5.31,5.31,0,0,0,8.1,4.9,5.31,5.31,0,0,0,12,6.5,5.46,5.46,0,0,0,6.5,12Z\"/>\n",
              "  </svg>\n",
              "    </button>\n",
              "    <script>\n",
              "      (() => {\n",
              "      const buttonEl =\n",
              "        document.querySelector('#id_b6368036-3a97-4c59-a534-112c2ba64e73 button.colab-df-generate');\n",
              "      buttonEl.style.display =\n",
              "        google.colab.kernel.accessAllowed ? 'block' : 'none';\n",
              "\n",
              "      buttonEl.onclick = () => {\n",
              "        google.colab.notebook.generateWithVariable('data');\n",
              "      }\n",
              "      })();\n",
              "    </script>\n",
              "  </div>\n",
              "\n",
              "    </div>\n",
              "  </div>\n"
            ],
            "application/vnd.google.colaboratory.intrinsic+json": {
              "type": "dataframe",
              "variable_name": "data",
              "summary": "{\n  \"name\": \"data\",\n  \"rows\": 9347,\n  \"fields\": [\n    {\n      \"column\": \"par_id\",\n      \"properties\": {\n        \"dtype\": \"number\",\n        \"std\": 322139880749,\n        \"min\": 85003276,\n        \"max\": 1058779003275,\n        \"num_unique_values\": 9132,\n        \"samples\": [\n          759851002842,\n          77886005808,\n          325706008765\n        ],\n        \"semantic_type\": \"\",\n        \"description\": \"\"\n      }\n    },\n    {\n      \"column\": \"paragraph\",\n      \"properties\": {\n        \"dtype\": \"string\",\n        \"num_unique_values\": 8992,\n        \"samples\": [\n          \"In 1891, Thomas married Mary Kane, daughter of Sir Andrew Clark, heiress to a small fortune, which gave him the finances to hire mammal collectors and present their specimens to the museum. He also did field work himself in Western Europe and South America. His wife shared his interest in natural history, and accompanied him on collecting trips. In 1896, when William Henry Flower took control of the department, he hired Richard Lydekker to rearrange the exhibitions, allowing Thomas to concentrate on these new specimens.Thomas viewed his taxonomy efforts from the scope of British imperialism. \\\"You and I in our scientific lives have seen the general knowledge of Mammals of the world wonderfully advanced \\u2013 there are few or no blank areas anymore,\\\" he said in a letter to Gerrit Smith Miller Jr.Officially retired from the museum in 1923, he continued his work without interruption. Although popular rumours suggested he died by shooting himself with a handgun while sitting at his museum desk, he actually died at home in 1929, aged 71, about a year after the death of his wife, \\\"a severe blow from which he never recovered.\\\"\",\n          \"Disraeli always considered foreign affairs to be the most critical and interesting part of statesmanship. Nevertheless, his biographer Robert Blake doubts that his subject had specific ideas about foreign policy when he took office in 1874. He had rarely travelled abroad; since his youthful tour of the Middle East in 1830\\u20131831, he had left Britain only for his honeymoon and three visits to Paris, the last of which was in 1856. As he had criticised Gladstone for a do-nothing foreign policy, he most probably contemplated what actions would reassert Britain's place in Europe. His brief first premiership, and the first year of his second, gave him little opportunity to make his mark in foreign affairs.\",\n          \"I have sent your Watch at last & envy the felicity of it, that it should be soe near your side & soe often enjoy your Eye. ... .but have a care for it, for I have put such a spell into it; that every Beating of the Balance will tell you 'tis the Pulse of my Heart, which labors as much to serve you and more trewly than the Watch; for the Watch I beleeve will sometimes lie, and sometimes be idle & unwilling ... but as for me you may be confident I shall never ...\"\n        ],\n        \"semantic_type\": \"\",\n        \"description\": \"\"\n      }\n    },\n    {\n      \"column\": \"has_entity\",\n      \"properties\": {\n        \"dtype\": \"category\",\n        \"num_unique_values\": 9,\n        \"samples\": [\n          \"ORG_YES_PRODUCT_YES_PERSON_NO_\",\n          \"ORG_YES_PRODUCT_NO_PERSON_NO_\",\n          \"ORG_NO_PRODUCT_YES_PERSON_YES_\"\n        ],\n        \"semantic_type\": \"\",\n        \"description\": \"\"\n      }\n    },\n    {\n      \"column\": \"lexicon_count\",\n      \"properties\": {\n        \"dtype\": \"number\",\n        \"std\": 63,\n        \"min\": 0,\n        \"max\": 653,\n        \"num_unique_values\": 348,\n        \"samples\": [\n          237,\n          82,\n          274\n        ],\n        \"semantic_type\": \"\",\n        \"description\": \"\"\n      }\n    },\n    {\n      \"column\": \"difficult_words\",\n      \"properties\": {\n        \"dtype\": \"number\",\n        \"std\": 16.307358092882417,\n        \"min\": 0.0,\n        \"max\": 143.0,\n        \"num_unique_values\": 113,\n        \"samples\": [\n          96.0,\n          36.0,\n          15.0\n        ],\n        \"semantic_type\": \"\",\n        \"description\": \"\"\n      }\n    },\n    {\n      \"column\": \"last_editor_gender\",\n      \"properties\": {\n        \"dtype\": \"category\",\n        \"num_unique_values\": 4,\n        \"samples\": [\n          \"non-binary\",\n          \"prefer_not_to_say\",\n          \"man\"\n        ],\n        \"semantic_type\": \"\",\n        \"description\": \"\"\n      }\n    },\n    {\n      \"column\": \"category\",\n      \"properties\": {\n        \"dtype\": \"category\",\n        \"num_unique_values\": 10,\n        \"samples\": [\n          \"Biographies\",\n          \"artificial intelligence\",\n          \"Philosophy\"\n        ],\n        \"semantic_type\": \"\",\n        \"description\": \"\"\n      }\n    },\n    {\n      \"column\": \"text_clarity\",\n      \"properties\": {\n        \"dtype\": \"category\",\n        \"num_unique_values\": 2,\n        \"samples\": [\n          \"not_clear_enough\",\n          \"clear_enough\"\n        ],\n        \"semantic_type\": \"\",\n        \"description\": \"\"\n      }\n    }\n  ]\n}"
            }
          },
          "metadata": {},
          "execution_count": 2
        }
      ]
    },
    {
      "cell_type": "markdown",
      "source": [
        "# Scatter Plots of Dataset Parameters"
      ],
      "metadata": {
        "id": "recFBuGzax1F"
      }
    },
    {
      "source": [
        "# Scatter plot of 'text_clarity' parameter\n",
        "\n",
        "data.groupby('text_clarity').size().plot(kind='barh', color=sns.palettes.mpl_palette('Dark2'))\n",
        "plt.gca().spines[['top', 'right',]].set_visible(False)"
      ],
      "cell_type": "code",
      "execution_count": null,
      "outputs": [
        {
          "output_type": "display_data",
          "data": {
            "text/plain": [
              "<Figure size 640x480 with 1 Axes>"
            ],
            "image/png": "[encoded data removed]"
          },
          "metadata": {}
        }
      ],
      "metadata": {
        "id": "QvFQeEKiaWLh",
        "colab": {
          "base_uri": "https://localhost:8080/",
          "height": 430
        },
        "outputId": "3105b27f-d83d-4f24-b268-d40d03b1ab3c"
      }
    },
    {
      "source": [
        "# Scatter plot of 'difficult_words' parameter\n",
        "\n",
        "data['difficult_words'].plot(kind='hist', bins=30, title='difficult_words')\n",
        "plt.gca().spines[['top', 'right',]].set_visible(False)"
      ],
      "cell_type": "code",
      "execution_count": null,
      "outputs": [
        {
          "output_type": "display_data",
          "data": {
            "text/plain": [
              "<Figure size 640x480 with 1 Axes>"
            ],
            "image/png": "[encoded data removed]"
          },
          "metadata": {}
        }
      ],
      "metadata": {
        "id": "EMgozesmaFd-",
        "colab": {
          "base_uri": "https://localhost:8080/",
          "height": 452
        },
        "outputId": "1a5495de-4dd7-459e-e47f-d0d3d6f4ac5a"
      }
    },
    {
      "source": [
        "# Scatter plot of 'lexicon_count' parameter\n",
        "\n",
        "data['lexicon_count'].plot(kind='hist', bins=20, title='lexicon_count')\n",
        "plt.gca().spines[['top', 'right',]].set_visible(False)"
      ],
      "cell_type": "code",
      "execution_count": null,
      "outputs": [
        {
          "output_type": "display_data",
          "data": {
            "text/plain": [
              "<Figure size 640x480 with 1 Axes>"
            ],
            "image/png": "[encoded data removed]"
          },
          "metadata": {}
        }
      ],
      "metadata": {
        "id": "p1z4C6aGZ7x0",
        "colab": {
          "base_uri": "https://localhost:8080/",
          "height": 452
        },
        "outputId": "928b02d3-05eb-47b5-85b4-e21e34b4abe4"
      }
    },
    {
      "cell_type": "code",
      "source": [
        "# plot representation of 'lexicon_count' vs 'difficult_words'\n",
        "\n",
        "data.plot(kind='scatter', x='lexicon_count', y='difficult_words', s=32, alpha=.8)\n",
        "plt.gca().spines[['top', 'right',]]"
      ],
      "metadata": {
        "id": "D6ANhNycGpAT",
        "colab": {
          "base_uri": "https://localhost:8080/",
          "height": 468
        },
        "outputId": "99ef49de-368c-423e-ad88-98dbc375bcfe"
      },
      "execution_count": null,
      "outputs": [
        {
          "output_type": "execute_result",
          "data": {
            "text/plain": [
              "<matplotlib.spines.SpinesProxy at 0x7fde57ccf190>"
            ]
          },
          "metadata": {},
          "execution_count": 6
        },
        {
          "output_type": "display_data",
          "data": {
            "text/plain": [
              "<Figure size 640x480 with 1 Axes>"
            ],
            "image/png": "[encoded data removed]"
          },
          "metadata": {}
        }
      ]
    },
    {
      "cell_type": "code",
      "source": [
        "plt.figure(figsize=(6,4))\n",
        "plt.title('Distribution of Target Variable')\n",
        "plt.xlabel('Category')\n",
        "plt.ylabel('Count')\n",
        "data['category'].value_counts().plot(kind='barh', color='black')"
      ],
      "metadata": {
        "colab": {
          "base_uri": "https://localhost:8080/",
          "height": 409
        },
        "id": "683suBhjKIk9",
        "outputId": "723c664c-93f0-4e78-c01a-ae15b35f50d5"
      },
      "execution_count": null,
      "outputs": [
        {
          "output_type": "execute_result",
          "data": {
            "text/plain": [
              "<Axes: title={'center': 'Distribution of Target Variable'}, ylabel='Count'>"
            ]
          },
          "metadata": {},
          "execution_count": 7
        },
        {
          "output_type": "display_data",
          "data": {
            "text/plain": [
              "<Figure size 600x400 with 1 Axes>"
            ],
            "image/png": "[encoded data removed]"
          },
          "metadata": {}
        }
      ]
    },
    {
      "cell_type": "markdown",
      "source": [
        "# Statistics Summary\n"
      ],
      "metadata": {
        "id": "fyoWEZ5XGoLf"
      }
    },
    {
      "cell_type": "code",
      "source": [
        "data.shape"
      ],
      "metadata": {
        "id": "Z0UEamMSPcJM",
        "colab": {
          "base_uri": "https://localhost:8080/"
        },
        "outputId": "3c4c3234-e895-4418-c14b-b2b769549a6c"
      },
      "execution_count": null,
      "outputs": [
        {
          "output_type": "execute_result",
          "data": {
            "text/plain": [
              "(9347, 8)"
            ]
          },
          "metadata": {},
          "execution_count": 8
        }
      ]
    },
    {
      "cell_type": "code",
      "source": [
        "data.ndim"
      ],
      "metadata": {
        "id": "_STAnu5JPk9l",
        "colab": {
          "base_uri": "https://localhost:8080/"
        },
        "outputId": "d6e107b7-8e14-483b-88a6-5e2a656f3608"
      },
      "execution_count": null,
      "outputs": [
        {
          "output_type": "execute_result",
          "data": {
            "text/plain": [
              "2"
            ]
          },
          "metadata": {},
          "execution_count": 9
        }
      ]
    },
    {
      "cell_type": "code",
      "source": [
        "data.columns"
      ],
      "metadata": {
        "id": "doCEwv_CPqfZ",
        "colab": {
          "base_uri": "https://localhost:8080/"
        },
        "outputId": "b1f3be35-8d29-4760-c48d-e514ce14277f"
      },
      "execution_count": null,
      "outputs": [
        {
          "output_type": "execute_result",
          "data": {
            "text/plain": [
              "Index(['par_id', 'paragraph', 'has_entity', 'lexicon_count', 'difficult_words',\n",
              "       'last_editor_gender', 'category', 'text_clarity'],\n",
              "      dtype='object')"
            ]
          },
          "metadata": {},
          "execution_count": 10
        }
      ]
    },
    {
      "cell_type": "code",
      "source": [
        "data.describe()"
      ],
      "metadata": {
        "id": "58PzQQ9SGgMW",
        "colab": {
          "base_uri": "https://localhost:8080/",
          "height": 300
        },
        "outputId": "9e8cc398-4879-46a2-e273-217b363f38f0"
      },
      "execution_count": null,
      "outputs": [
        {
          "output_type": "execute_result",
          "data": {
            "text/plain": [
              "             par_id  lexicon_count  difficult_words\n",
              "count  9.347000e+03    9347.000000      9329.000000\n",
              "mean   3.568369e+11      81.981277        21.514203\n",
              "std    3.221399e+11      63.533532        16.307358\n",
              "min    8.500328e+07       0.000000         0.000000\n",
              "25%    7.019601e+10      33.000000         9.000000\n",
              "50%    2.684380e+11      64.000000        17.000000\n",
              "75%    6.124310e+11     117.000000        30.000000\n",
              "max    1.058779e+12     653.000000       143.000000"
            ],
            "text/html": [
              "\n",
              "  <div id=\"df-f348354d-90b3-437c-ab30-8ee06be38a4d\" class=\"colab-df-container\">\n",
              "    <div>\n",
              "<style scoped>\n",
              "    .dataframe tbody tr th:only-of-type {\n",
              "        vertical-align: middle;\n",
              "    }\n",
              "\n",
              "    .dataframe tbody tr th {\n",
              "        vertical-align: top;\n",
              "    }\n",
              "\n",
              "    .dataframe thead th {\n",
              "        text-align: right;\n",
              "    }\n",
              "</style>\n",
              "<table border=\"1\" class=\"dataframe\">\n",
              "  <thead>\n",
              "    <tr style=\"text-align: right;\">\n",
              "      <th></th>\n",
              "      <th>par_id</th>\n",
              "      <th>lexicon_count</th>\n",
              "      <th>difficult_words</th>\n",
              "    </tr>\n",
              "  </thead>\n",
              "  <tbody>\n",
              "    <tr>\n",
              "      <th>count</th>\n",
              "      <td>9.347000e+03</td>\n",
              "      <td>9347.000000</td>\n",
              "      <td>9329.000000</td>\n",
              "    </tr>\n",
              "    <tr>\n",
              "      <th>mean</th>\n",
              "      <td>3.568369e+11</td>\n",
              "      <td>81.981277</td>\n",
              "      <td>21.514203</td>\n",
              "    </tr>\n",
              "    <tr>\n",
              "      <th>std</th>\n",
              "      <td>3.221399e+11</td>\n",
              "      <td>63.533532</td>\n",
              "      <td>16.307358</td>\n",
              "    </tr>\n",
              "    <tr>\n",
              "      <th>min</th>\n",
              "      <td>8.500328e+07</td>\n",
              "      <td>0.000000</td>\n",
              "      <td>0.000000</td>\n",
              "    </tr>\n",
              "    <tr>\n",
              "      <th>25%</th>\n",
              "      <td>7.019601e+10</td>\n",
              "      <td>33.000000</td>\n",
              "      <td>9.000000</td>\n",
              "    </tr>\n",
              "    <tr>\n",
              "      <th>50%</th>\n",
              "      <td>2.684380e+11</td>\n",
              "      <td>64.000000</td>\n",
              "      <td>17.000000</td>\n",
              "    </tr>\n",
              "    <tr>\n",
              "      <th>75%</th>\n",
              "      <td>6.124310e+11</td>\n",
              "      <td>117.000000</td>\n",
              "      <td>30.000000</td>\n",
              "    </tr>\n",
              "    <tr>\n",
              "      <th>max</th>\n",
              "      <td>1.058779e+12</td>\n",
              "      <td>653.000000</td>\n",
              "      <td>143.000000</td>\n",
              "    </tr>\n",
              "  </tbody>\n",
              "</table>\n",
              "</div>\n",
              "    <div class=\"colab-df-buttons\">\n",
              "\n",
              "  <div class=\"colab-df-container\">\n",
              "    <button class=\"colab-df-convert\" onclick=\"convertToInteractive('df-f348354d-90b3-437c-ab30-8ee06be38a4d')\"\n",
              "            title=\"Convert this dataframe to an interactive table.\"\n",
              "            style=\"display:none;\">\n",
              "\n",
              "  <svg xmlns=\"http://www.w3.org/2000/svg\" height=\"24px\" viewBox=\"0 -960 960 960\">\n",
              "    <path d=\"M120-120v-720h720v720H120Zm60-500h600v-160H180v160Zm220 220h160v-160H400v160Zm0 220h160v-160H400v160ZM180-400h160v-160H180v160Zm440 0h160v-160H620v160ZM180-180h160v-160H180v160Zm440 0h160v-160H620v160Z\"/>\n",
              "  </svg>\n",
              "    </button>\n",
              "\n",
              "  <style>\n",
              "    .colab-df-container {\n",
              "      display:flex;\n",
              "      gap: 12px;\n",
              "    }\n",
              "\n",
              "    .colab-df-convert {\n",
              "      background-color: #E8F0FE;\n",
              "      border: none;\n",
              "      border-radius: 50%;\n",
              "      cursor: pointer;\n",
              "      display: none;\n",
              "      fill: #1967D2;\n",
              "      height: 32px;\n",
              "      padding: 0 0 0 0;\n",
              "      width: 32px;\n",
              "    }\n",
              "\n",
              "    .colab-df-convert:hover {\n",
              "      background-color: #E2EBFA;\n",
              "      box-shadow: 0px 1px 2px rgba(60, 64, 67, 0.3), 0px 1px 3px 1px rgba(60, 64, 67, 0.15);\n",
              "      fill: #174EA6;\n",
              "    }\n",
              "\n",
              "    .colab-df-buttons div {\n",
              "      margin-bottom: 4px;\n",
              "    }\n",
              "\n",
              "    [theme=dark] .colab-df-convert {\n",
              "      background-color: #3B4455;\n",
              "      fill: #D2E3FC;\n",
              "    }\n",
              "\n",
              "    [theme=dark] .colab-df-convert:hover {\n",
              "      background-color: #434B5C;\n",
              "      box-shadow: 0px 1px 3px 1px rgba(0, 0, 0, 0.15);\n",
              "      filter: drop-shadow(0px 1px 2px rgba(0, 0, 0, 0.3));\n",
              "      fill: #FFFFFF;\n",
              "    }\n",
              "  </style>\n",
              "\n",
              "    <script>\n",
              "      const buttonEl =\n",
              "        document.querySelector('#df-f348354d-90b3-437c-ab30-8ee06be38a4d button.colab-df-convert');\n",
              "      buttonEl.style.display =\n",
              "        google.colab.kernel.accessAllowed ? 'block' : 'none';\n",
              "\n",
              "      async function convertToInteractive(key) {\n",
              "        const element = document.querySelector('#df-f348354d-90b3-437c-ab30-8ee06be38a4d');\n",
              "        const dataTable =\n",
              "          await google.colab.kernel.invokeFunction('convertToInteractive',\n",
              "                                                    [key], {});\n",
              "        if (!dataTable) return;\n",
              "\n",
              "        const docLinkHtml = 'Like what you see? Visit the ' +\n",
              "          '<a target=\"_blank\" href=https://colab.research.google.com/notebooks/data_table.ipynb>data table notebook</a>'\n",
              "          + ' to learn more about interactive tables.';\n",
              "        element.innerHTML = '';\n",
              "        dataTable['output_type'] = 'display_data';\n",
              "        await google.colab.output.renderOutput(dataTable, element);\n",
              "        const docLink = document.createElement('div');\n",
              "        docLink.innerHTML = docLinkHtml;\n",
              "        element.appendChild(docLink);\n",
              "      }\n",
              "    </script>\n",
              "  </div>\n",
              "\n",
              "\n",
              "<div id=\"df-1139bc09-6c38-40cb-ac2f-d735fdb829b2\">\n",
              "  <button class=\"colab-df-quickchart\" onclick=\"quickchart('df-1139bc09-6c38-40cb-ac2f-d735fdb829b2')\"\n",
              "            title=\"Suggest charts\"\n",
              "            style=\"display:none;\">\n",
              "\n",
              "<svg xmlns=\"http://www.w3.org/2000/svg\" height=\"24px\"viewBox=\"0 0 24 24\"\n",
              "     width=\"24px\">\n",
              "    <g>\n",
              "        <path d=\"M19 3H5c-1.1 0-2 .9-2 2v14c0 1.1.9 2 2 2h14c1.1 0 2-.9 2-2V5c0-1.1-.9-2-2-2zM9 17H7v-7h2v7zm4 0h-2V7h2v10zm4 0h-2v-4h2v4z\"/>\n",
              "    </g>\n",
              "</svg>\n",
              "  </button>\n",
              "\n",
              "<style>\n",
              "  .colab-df-quickchart {\n",
              "      --bg-color: #E8F0FE;\n",
              "      --fill-color: #1967D2;\n",
              "      --hover-bg-color: #E2EBFA;\n",
              "      --hover-fill-color: #174EA6;\n",
              "      --disabled-fill-color: #AAA;\n",
              "      --disabled-bg-color: #DDD;\n",
              "  }\n",
              "\n",
              "  [theme=dark] .colab-df-quickchart {\n",
              "      --bg-color: #3B4455;\n",
              "      --fill-color: #D2E3FC;\n",
              "      --hover-bg-color: #434B5C;\n",
              "      --hover-fill-color: #FFFFFF;\n",
              "      --disabled-bg-color: #3B4455;\n",
              "      --disabled-fill-color: #666;\n",
              "  }\n",
              "\n",
              "  .colab-df-quickchart {\n",
              "    background-color: var(--bg-color);\n",
              "    border: none;\n",
              "    border-radius: 50%;\n",
              "    cursor: pointer;\n",
              "    display: none;\n",
              "    fill: var(--fill-color);\n",
              "    height: 32px;\n",
              "    padding: 0;\n",
              "    width: 32px;\n",
              "  }\n",
              "\n",
              "  .colab-df-quickchart:hover {\n",
              "    background-color: var(--hover-bg-color);\n",
              "    box-shadow: 0 1px 2px rgba(60, 64, 67, 0.3), 0 1px 3px 1px rgba(60, 64, 67, 0.15);\n",
              "    fill: var(--button-hover-fill-color);\n",
              "  }\n",
              "\n",
              "  .colab-df-quickchart-complete:disabled,\n",
              "  .colab-df-quickchart-complete:disabled:hover {\n",
              "    background-color: var(--disabled-bg-color);\n",
              "    fill: var(--disabled-fill-color);\n",
              "    box-shadow: none;\n",
              "  }\n",
              "\n",
              "  .colab-df-spinner {\n",
              "    border: 2px solid var(--fill-color);\n",
              "    border-color: transparent;\n",
              "    border-bottom-color: var(--fill-color);\n",
              "    animation:\n",
              "      spin 1s steps(1) infinite;\n",
              "  }\n",
              "\n",
              "  @keyframes spin {\n",
              "    0% {\n",
              "      border-color: transparent;\n",
              "      border-bottom-color: var(--fill-color);\n",
              "      border-left-color: var(--fill-color);\n",
              "    }\n",
              "    20% {\n",
              "      border-color: transparent;\n",
              "      border-left-color: var(--fill-color);\n",
              "      border-top-color: var(--fill-color);\n",
              "    }\n",
              "    30% {\n",
              "      border-color: transparent;\n",
              "      border-left-color: var(--fill-color);\n",
              "      border-top-color: var(--fill-color);\n",
              "      border-right-color: var(--fill-color);\n",
              "    }\n",
              "    40% {\n",
              "      border-color: transparent;\n",
              "      border-right-color: var(--fill-color);\n",
              "      border-top-color: var(--fill-color);\n",
              "    }\n",
              "    60% {\n",
              "      border-color: transparent;\n",
              "      border-right-color: var(--fill-color);\n",
              "    }\n",
              "    80% {\n",
              "      border-color: transparent;\n",
              "      border-right-color: var(--fill-color);\n",
              "      border-bottom-color: var(--fill-color);\n",
              "    }\n",
              "    90% {\n",
              "      border-color: transparent;\n",
              "      border-bottom-color: var(--fill-color);\n",
              "    }\n",
              "  }\n",
              "</style>\n",
              "\n",
              "  <script>\n",
              "    async function quickchart(key) {\n",
              "      const quickchartButtonEl =\n",
              "        document.querySelector('#' + key + ' button');\n",
              "      quickchartButtonEl.disabled = true;  // To prevent multiple clicks.\n",
              "      quickchartButtonEl.classList.add('colab-df-spinner');\n",
              "      try {\n",
              "        const charts = await google.colab.kernel.invokeFunction(\n",
              "            'suggestCharts', [key], {});\n",
              "      } catch (error) {\n",
              "        console.error('Error during call to suggestCharts:', error);\n",
              "      }\n",
              "      quickchartButtonEl.classList.remove('colab-df-spinner');\n",
              "      quickchartButtonEl.classList.add('colab-df-quickchart-complete');\n",
              "    }\n",
              "    (() => {\n",
              "      let quickchartButtonEl =\n",
              "        document.querySelector('#df-1139bc09-6c38-40cb-ac2f-d735fdb829b2 button');\n",
              "      quickchartButtonEl.style.display =\n",
              "        google.colab.kernel.accessAllowed ? 'block' : 'none';\n",
              "    })();\n",
              "  </script>\n",
              "</div>\n",
              "\n",
              "    </div>\n",
              "  </div>\n"
            ],
            "application/vnd.google.colaboratory.intrinsic+json": {
              "type": "dataframe",
              "summary": "{\n  \"name\": \"data\",\n  \"rows\": 8,\n  \"fields\": [\n    {\n      \"column\": \"par_id\",\n      \"properties\": {\n        \"dtype\": \"number\",\n        \"std\": 358648460872.8377,\n        \"min\": 9347.0,\n        \"max\": 1058779003275.0,\n        \"num_unique_values\": 8,\n        \"samples\": [\n          356836924493.44305,\n          268438008202.0,\n          9347.0\n        ],\n        \"semantic_type\": \"\",\n        \"description\": \"\"\n      }\n    },\n    {\n      \"column\": \"lexicon_count\",\n      \"properties\": {\n        \"dtype\": \"number\",\n        \"std\": 3260.3134392123097,\n        \"min\": 0.0,\n        \"max\": 9347.0,\n        \"num_unique_values\": 8,\n        \"samples\": [\n          81.98127741521344,\n          64.0,\n          9347.0\n        ],\n        \"semantic_type\": \"\",\n        \"description\": \"\"\n      }\n    },\n    {\n      \"column\": \"difficult_words\",\n      \"properties\": {\n        \"dtype\": \"number\",\n        \"std\": 3286.652031289839,\n        \"min\": 0.0,\n        \"max\": 9329.0,\n        \"num_unique_values\": 8,\n        \"samples\": [\n          21.514203022832028,\n          17.0,\n          9329.0\n        ],\n        \"semantic_type\": \"\",\n        \"description\": \"\"\n      }\n    }\n  ]\n}"
            }
          },
          "metadata": {},
          "execution_count": 11
        }
      ]
    },
    {
      "cell_type": "code",
      "source": [
        "data.info()"
      ],
      "metadata": {
        "id": "rWXXqBsxGs12",
        "colab": {
          "base_uri": "https://localhost:8080/"
        },
        "outputId": "5f70b868-b7ee-4900-8801-dc12b315c026"
      },
      "execution_count": null,
      "outputs": [
        {
          "output_type": "stream",
          "name": "stdout",
          "text": [
            "<class 'pandas.core.frame.DataFrame'>\n",
            "RangeIndex: 9347 entries, 0 to 9346\n",
            "Data columns (total 8 columns):\n",
            " #   Column              Non-Null Count  Dtype  \n",
            "---  ------              --------------  -----  \n",
            " 0   par_id              9347 non-null   int64  \n",
            " 1   paragraph           9347 non-null   object \n",
            " 2   has_entity          9347 non-null   object \n",
            " 3   lexicon_count       9347 non-null   int64  \n",
            " 4   difficult_words     9329 non-null   float64\n",
            " 5   last_editor_gender  9347 non-null   object \n",
            " 6   category            9286 non-null   object \n",
            " 7   text_clarity        9 non-null      object \n",
            "dtypes: float64(1), int64(2), object(5)\n",
            "memory usage: 584.3+ KB\n"
          ]
        }
      ]
    },
    {
      "cell_type": "markdown",
      "source": [
        "# Handling and Imputing missing values"
      ],
      "metadata": {
        "id": "NAEECFhLHAOW"
      }
    },
    {
      "cell_type": "code",
      "source": [
        "## Checking for missing values in the target variable - we find there are 61 missing values\n",
        "data.isnull().sum()"
      ],
      "metadata": {
        "id": "q65d6367G5BN",
        "colab": {
          "base_uri": "https://localhost:8080/"
        },
        "outputId": "a817b007-6c0a-41b2-c542-3fa5a9322172"
      },
      "execution_count": null,
      "outputs": [
        {
          "output_type": "execute_result",
          "data": {
            "text/plain": [
              "par_id                   0\n",
              "paragraph                0\n",
              "has_entity               0\n",
              "lexicon_count            0\n",
              "difficult_words         18\n",
              "last_editor_gender       0\n",
              "category                61\n",
              "text_clarity          9338\n",
              "dtype: int64"
            ]
          },
          "metadata": {},
          "execution_count": 13
        }
      ]
    },
    {
      "cell_type": "code",
      "source": [
        "# Imputing the 61 missing values found in the target variable\n",
        "category_mode = data['category'].mode()[0]\n",
        "data['category'].fillna(category_mode, inplace=True)"
      ],
      "metadata": {
        "id": "PoMZolmeHFXe"
      },
      "execution_count": null,
      "outputs": []
    },
    {
      "cell_type": "code",
      "source": [
        "# Validating that there are no missing values anymore in our target variable\n",
        "data.isnull().sum()"
      ],
      "metadata": {
        "id": "_jFBnkFIHJZH",
        "colab": {
          "base_uri": "https://localhost:8080/"
        },
        "outputId": "e131b7ba-39c8-4d56-8008-a3599503ee05"
      },
      "execution_count": null,
      "outputs": [
        {
          "output_type": "execute_result",
          "data": {
            "text/plain": [
              "par_id                   0\n",
              "paragraph                0\n",
              "has_entity               0\n",
              "lexicon_count            0\n",
              "difficult_words         18\n",
              "last_editor_gender       0\n",
              "category                 0\n",
              "text_clarity          9338\n",
              "dtype: int64"
            ]
          },
          "metadata": {},
          "execution_count": 15
        }
      ]
    },
    {
      "cell_type": "markdown",
      "source": [
        "# Exploratory Data Analysis"
      ],
      "metadata": {
        "id": "KE5-ZWEegZQR"
      }
    },
    {
      "cell_type": "code",
      "source": [
        "plt.figure(figsize=(6,4))\n",
        "plt.title('Distribution of Target Variable')\n",
        "plt.xlabel('Category')\n",
        "plt.ylabel('Count')\n",
        "data['category'].value_counts().plot(kind='barh', color='black')"
      ],
      "metadata": {
        "colab": {
          "base_uri": "https://localhost:8080/",
          "height": 409
        },
        "id": "X-3PWotpgcnQ",
        "outputId": "8d2d265a-b243-4829-e359-f4ac542707bb"
      },
      "execution_count": null,
      "outputs": [
        {
          "output_type": "execute_result",
          "data": {
            "text/plain": [
              "<Axes: title={'center': 'Distribution of Target Variable'}, ylabel='Count'>"
            ]
          },
          "metadata": {},
          "execution_count": 16
        },
        {
          "output_type": "display_data",
          "data": {
            "text/plain": [
              "<Figure size 600x400 with 1 Axes>"
            ],
            "image/png": "[encoded data removed]"
          },
          "metadata": {}
        }
      ]
    },
    {
      "cell_type": "code",
      "source": [
        "# Removing parameters with 0 counts/values\n",
        "plt.figure(figsize=(6,4))\n",
        "data['category']=data['category'].str.lower()\n",
        "plt.title('Distribution of Target Variable')\n",
        "plt.xlabel('Category')\n",
        "plt.ylabel('Count')\n",
        "data['category'].value_counts().plot(kind='barh', color='black')"
      ],
      "metadata": {
        "colab": {
          "base_uri": "https://localhost:8080/",
          "height": 409
        },
        "id": "No6CjKxHg3Z3",
        "outputId": "710daba8-bb00-4f86-c5e3-d760cea60a99"
      },
      "execution_count": null,
      "outputs": [
        {
          "output_type": "execute_result",
          "data": {
            "text/plain": [
              "<Axes: title={'center': 'Distribution of Target Variable'}, ylabel='Count'>"
            ]
          },
          "metadata": {},
          "execution_count": 17
        },
        {
          "output_type": "display_data",
          "data": {
            "text/plain": [
              "<Figure size 600x400 with 1 Axes>"
            ],
            "image/png": "[encoded data removed]"
          },
          "metadata": {}
        }
      ]
    },
    {
      "cell_type": "markdown",
      "source": [
        "# Checking and dropping duplicates"
      ],
      "metadata": {
        "id": "iyVyTbHJHPig"
      }
    },
    {
      "cell_type": "code",
      "source": [
        "# Printing duplicate rows in the input parameter - 'paragraph'\n",
        "data['paragraph']=data['paragraph'].str.lower()\n",
        "clean_data = data.drop_duplicates(subset=['paragraph'])\n",
        "print(\"Cleaned Dataset:\")\n",
        "print(clean_data.shape)"
      ],
      "metadata": {
        "id": "ZOxRurGPI7fm",
        "colab": {
          "base_uri": "https://localhost:8080/"
        },
        "outputId": "45cd4ca1-fefe-4a7b-a595-faf404e369c9"
      },
      "execution_count": null,
      "outputs": [
        {
          "output_type": "stream",
          "name": "stdout",
          "text": [
            "Cleaned Dataset:\n",
            "(8992, 8)\n"
          ]
        }
      ]
    },
    {
      "cell_type": "code",
      "source": [
        "# Printing duplicate rows in the input parameter - 'has_entity'\n",
        "data['has_entity']=data['has_entity'].str.lower()\n",
        "clean_data = data.drop_duplicates(subset=['has_entity'])\n",
        "print(\"Cleaned Dataset:\")\n",
        "print(clean_data.shape)"
      ],
      "metadata": {
        "id": "9Tjd9wMFMygE",
        "colab": {
          "base_uri": "https://localhost:8080/"
        },
        "outputId": "6ea78ddd-16db-4995-dbc1-0fe7f794f2f2"
      },
      "execution_count": null,
      "outputs": [
        {
          "output_type": "stream",
          "name": "stdout",
          "text": [
            "Cleaned Dataset:\n",
            "(9, 8)\n"
          ]
        }
      ]
    },
    {
      "cell_type": "code",
      "source": [
        "# Printing duplicate rows in the target variable\n",
        "data['category']=data['category'].str.lower()\n",
        "clean_data = data.drop_duplicates(subset=['category'])\n",
        "print('Duplicated Rows in Output Feature are:')\n",
        "print(clean_data.shape)"
      ],
      "metadata": {
        "id": "clt5gyYmM9MQ",
        "colab": {
          "base_uri": "https://localhost:8080/"
        },
        "outputId": "05791712-36d0-4c98-f4b5-7c8fdac23fdf"
      },
      "execution_count": null,
      "outputs": [
        {
          "output_type": "stream",
          "name": "stdout",
          "text": [
            "Duplicated Rows in Output Feature are:\n",
            "(5, 8)\n"
          ]
        }
      ]
    },
    {
      "cell_type": "markdown",
      "source": [
        "# Reading and Splitting data"
      ],
      "metadata": {
        "id": "k_yXzl1wPpEP"
      }
    },
    {
      "cell_type": "code",
      "source": [
        "# Selecting the features and target variable\n",
        "X = data[['has_entity', 'paragraph']]\n",
        "Y = data[['category']]"
      ],
      "metadata": {
        "id": "VdvBcd5bPeSu"
      },
      "execution_count": null,
      "outputs": []
    },
    {
      "cell_type": "code",
      "source": [
        "print(X.isna().sum())\n",
        "print(Y.isna().sum())\n",
        "print(Y.value_counts())"
      ],
      "metadata": {
        "id": "uVdf8_poQDAu",
        "colab": {
          "base_uri": "https://localhost:8080/"
        },
        "outputId": "ce9d82de-5309-4e4a-cb83-48e7f64804c1"
      },
      "execution_count": null,
      "outputs": [
        {
          "output_type": "stream",
          "name": "stdout",
          "text": [
            "has_entity    0\n",
            "paragraph     0\n",
            "dtype: int64\n",
            "category    0\n",
            "dtype: int64\n",
            "category                            \n",
            "biographies                             3016\n",
            "philosophy                              2598\n",
            "programming                             1990\n",
            "artificial intelligence                 1576\n",
            "movies about artificial intelligence     167\n",
            "dtype: int64\n"
          ]
        }
      ]
    },
    {
      "cell_type": "code",
      "source": [
        "# Splitting data in the ratio 80:20% for training and testing\n",
        "train_X, test_X, train_Y, test_Y = train_test_split(X, Y, test_size=0.2, random_state=42, shuffle=True)"
      ],
      "metadata": {
        "id": "nmJ1UegaQFg3"
      },
      "execution_count": null,
      "outputs": []
    },
    {
      "cell_type": "code",
      "source": [
        "print(train_X.shape)\n",
        "print(test_X.shape)\n",
        "print(train_Y.shape)\n",
        "print(test_Y.shape)\n",
        "print()\n",
        "print(train_X.head(10))"
      ],
      "metadata": {
        "id": "iCpuvB-UQepg",
        "colab": {
          "base_uri": "https://localhost:8080/"
        },
        "outputId": "50ce31a5-8a98-46f9-cb3e-1044aa07693b"
      },
      "execution_count": null,
      "outputs": [
        {
          "output_type": "stream",
          "name": "stdout",
          "text": [
            "(7477, 2)\n",
            "(1870, 2)\n",
            "(7477, 1)\n",
            "(1870, 1)\n",
            "\n",
            "                          has_entity  \\\n",
            "6443   org_yes_product_no_person_no_   \n",
            "5846  org_yes_product_no_person_yes_   \n",
            "7104   org_yes_product_no_person_no_   \n",
            "251   org_yes_product_no_person_yes_   \n",
            "8606   org_no_product_no_person_yes_   \n",
            "7698   org_yes_product_no_person_no_   \n",
            "8500  org_yes_product_no_person_yes_   \n",
            "7700  org_yes_product_no_person_yes_   \n",
            "7458  org_yes_product_no_person_yes_   \n",
            "4202  org_yes_product_no_person_yes_   \n",
            "\n",
            "                                              paragraph  \n",
            "6443  extension of the bank to the north-west, the e...  \n",
            "5846  thomson's separation of neon isotopes by their...  \n",
            "7104  the python license was an open-source, gpl-com...  \n",
            "251    now let's be clear before we go any further t...  \n",
            "8606  a general system of botany, descriptive and an...  \n",
            "7698  the bahaʼi faith asserts that evil is non-exis...  \n",
            "8500  in august 1993, it was discovered that the pro...  \n",
            "7700  roko's basilisk has gained a significant amoun...  \n",
            "7458  1675 – some considerations about the reconcile...  \n",
            "4202  for nearly 30 years ehrenberg examined samples...  \n"
          ]
        }
      ]
    },
    {
      "cell_type": "markdown",
      "source": [],
      "metadata": {
        "id": "Nnv2QB2KQwrE"
      }
    },
    {
      "cell_type": "markdown",
      "source": [
        "# Encoding the categorical data"
      ],
      "metadata": {
        "id": "aG01-vwbRzf5"
      }
    },
    {
      "cell_type": "code",
      "source": [
        "# Using Label Encoder for encoding the categorical data\n",
        "label_encoder = LabelEncoder()\n",
        "train_Y_encoded = label_encoder.fit_transform(train_Y)\n",
        "test_Y_encoded = label_encoder.transform(test_Y)"
      ],
      "metadata": {
        "id": "OswU7G8zQuxk",
        "colab": {
          "base_uri": "https://localhost:8080/"
        },
        "outputId": "b7620923-741e-400f-a4db-edcc61247bc3"
      },
      "execution_count": null,
      "outputs": [
        {
          "output_type": "stream",
          "name": "stderr",
          "text": [
            "/usr/local/lib/python3.10/dist-packages/sklearn/preprocessing/_label.py:116: DataConversionWarning: A column-vector y was passed when a 1d array was expected. Please change the shape of y to (n_samples, ), for example using ravel().\n",
            "  y = column_or_1d(y, warn=True)\n",
            "/usr/local/lib/python3.10/dist-packages/sklearn/preprocessing/_label.py:134: DataConversionWarning: A column-vector y was passed when a 1d array was expected. Please change the shape of y to (n_samples, ), for example using ravel().\n",
            "  y = column_or_1d(y, dtype=self.classes_.dtype, warn=True)\n"
          ]
        }
      ]
    },
    {
      "cell_type": "code",
      "source": [
        "## Text Vectorization\n",
        "vectorizer = TfidfVectorizer()\n",
        "train_X_vector = vectorizer.fit_transform(train_X['paragraph'])\n",
        "test_X_vector = vectorizer.transform(test_X['paragraph'])"
      ],
      "metadata": {
        "id": "pME8VOnaSQIT"
      },
      "execution_count": null,
      "outputs": []
    },
    {
      "cell_type": "markdown",
      "source": [
        "# Model Training"
      ],
      "metadata": {
        "id": "bAaKVjKhcWDp"
      }
    },
    {
      "cell_type": "code",
      "source": [
        "# Setting up the Multinomial Logistic Regression Classifier\n",
        "multinomial_logistic_regression = LogisticRegression(multi_class='multinomial', solver='lbfgs', random_state=42)\n",
        "\n",
        "# Training the Model\n",
        "multinomial_logistic_regression.fit(train_X_vector, train_Y)\n",
        "\n",
        "# Making Predictions with Multinomial Logistic Regression\n",
        "pred_Y_multinomial = multinomial_logistic_regression.predict(test_X_vector)\n",
        "\n",
        "# Reshaping the test_Y variable\n",
        "test_Y_reshaped = test_Y.values.ravel()\n",
        "\n",
        "# Displaying Accuracy\n",
        "accuracy_multinomial = accuracy_score(test_Y, pred_Y_multinomial)\n",
        "print(f'Accuracy with Multinomial Logistic Regression: {accuracy_multinomial:.2f}')"
      ],
      "metadata": {
        "id": "jJBr0b9vn5a0",
        "colab": {
          "base_uri": "https://localhost:8080/"
        },
        "outputId": "58f66486-c759-4879-829c-070a7d4441ba"
      },
      "execution_count": null,
      "outputs": [
        {
          "output_type": "stream",
          "name": "stderr",
          "text": [
            "/usr/local/lib/python3.10/dist-packages/sklearn/utils/validation.py:1143: DataConversionWarning: A column-vector y was passed when a 1d array was expected. Please change the shape of y to (n_samples, ), for example using ravel().\n",
            "  y = column_or_1d(y, warn=True)\n"
          ]
        },
        {
          "output_type": "stream",
          "name": "stdout",
          "text": [
            "Accuracy with Multinomial Logistic Regression: 0.92\n"
          ]
        },
        {
          "output_type": "stream",
          "name": "stderr",
          "text": [
            "/usr/local/lib/python3.10/dist-packages/sklearn/linear_model/_logistic.py:458: ConvergenceWarning: lbfgs failed to converge (status=1):\n",
            "STOP: TOTAL NO. of ITERATIONS REACHED LIMIT.\n",
            "\n",
            "Increase the number of iterations (max_iter) or scale the data as shown in:\n",
            "    https://scikit-learn.org/stable/modules/preprocessing.html\n",
            "Please also refer to the documentation for alternative solver options:\n",
            "    https://scikit-learn.org/stable/modules/linear_model.html#logistic-regression\n",
            "  n_iter_i = _check_optimize_result(\n"
          ]
        }
      ]
    },
    {
      "cell_type": "code",
      "source": [
        "# Define the hyperparameters grid\n",
        "param_grid = {\n",
        "    'C': [0.001, 0.01, 0.1, 1, 10, 100],  # Regularization parameter\n",
        "    'penalty': ['l2']                # Regularization penalty\n",
        "}\n",
        "\n",
        "# Instantiate the grid search\n",
        "grid_search = GridSearchCV(estimator=LogisticRegression(multi_class='multinomial', solver='lbfgs', random_state=42),\n",
        "                           param_grid=param_grid,\n",
        "                           cv=5,              # 5-fold cross-validation\n",
        "                           scoring='accuracy',\n",
        "                           n_jobs=-1)         # Use all available CPU cores\n",
        "\n",
        "# Fit the grid search to the data\n",
        "grid_search.fit(train_X_vector, train_Y)\n",
        "\n",
        "# Get the best hyperparameters\n",
        "best_params = grid_search.best_params_\n",
        "print(\"Best Hyperparameters:\", best_params)\n",
        "\n",
        "# Get the best model\n",
        "best_model = grid_search.best_estimator_\n",
        "\n",
        "# Make predictions with the best model\n",
        "pred_Y_best = best_model.predict(test_X_vector)\n",
        "\n",
        "# Calculate accuracy with the best model\n",
        "accuracy_best = accuracy_score(test_Y, pred_Y_best)\n",
        "print(f'Accuracy with Multinomial Logistic Regression (Best Model): {accuracy_best:.2f}')"
      ],
      "metadata": {
        "id": "RAYt3XDn5RCa",
        "colab": {
          "base_uri": "https://localhost:8080/"
        },
        "outputId": "2b641ae8-3ff8-4534-b33d-2b4dd181d5ba"
      },
      "execution_count": null,
      "outputs": [
        {
          "output_type": "stream",
          "name": "stderr",
          "text": [
            "/usr/local/lib/python3.10/dist-packages/sklearn/utils/validation.py:1143: DataConversionWarning: A column-vector y was passed when a 1d array was expected. Please change the shape of y to (n_samples, ), for example using ravel().\n",
            "  y = column_or_1d(y, warn=True)\n"
          ]
        },
        {
          "output_type": "stream",
          "name": "stdout",
          "text": [
            "Best Hyperparameters: {'C': 100, 'penalty': 'l2'}\n",
            "Accuracy with Multinomial Logistic Regression (Best Model): 0.93\n"
          ]
        },
        {
          "output_type": "stream",
          "name": "stderr",
          "text": [
            "/usr/local/lib/python3.10/dist-packages/sklearn/linear_model/_logistic.py:458: ConvergenceWarning: lbfgs failed to converge (status=1):\n",
            "STOP: TOTAL NO. of ITERATIONS REACHED LIMIT.\n",
            "\n",
            "Increase the number of iterations (max_iter) or scale the data as shown in:\n",
            "    https://scikit-learn.org/stable/modules/preprocessing.html\n",
            "Please also refer to the documentation for alternative solver options:\n",
            "    https://scikit-learn.org/stable/modules/linear_model.html#logistic-regression\n",
            "  n_iter_i = _check_optimize_result(\n"
          ]
        }
      ]
    },
    {
      "cell_type": "markdown",
      "source": [
        "# Confusion Matrix"
      ],
      "metadata": {
        "id": "Gwznu1YvIoEo"
      }
    },
    {
      "cell_type": "code",
      "source": [
        "# Computing Confusion Matrix\n",
        "con_matrix = confusion_matrix(test_Y, pred_Y_best)\n",
        "\n",
        "# Displaying Confusion Matrix\n",
        "print(\"Confusion Matrix:\")\n",
        "print(con_matrix)"
      ],
      "metadata": {
        "id": "0dYpDYmen7g_",
        "colab": {
          "base_uri": "https://localhost:8080/"
        },
        "outputId": "f768fbd3-9e37-46d5-9bc8-b7e1091b9b46"
      },
      "execution_count": null,
      "outputs": [
        {
          "output_type": "stream",
          "name": "stdout",
          "text": [
            "Confusion Matrix:\n",
            "[[301  15   0  10   9]\n",
            " [  5 541   0  27   3]\n",
            " [  0   5  32   0   1]\n",
            " [  7  20   0 481   5]\n",
            " [ 10   8   0   4 386]]\n"
          ]
        }
      ]
    },
    {
      "cell_type": "markdown",
      "source": [
        "# Classification Report"
      ],
      "metadata": {
        "id": "Jc9Cl7xCIdhO"
      }
    },
    {
      "cell_type": "code",
      "source": [
        "class_report = classification_report(test_Y, pred_Y_best)\n",
        "print(\"Classification Report:\")\n",
        "print(class_report)"
      ],
      "metadata": {
        "id": "DSkqQgXYI7g2",
        "colab": {
          "base_uri": "https://localhost:8080/"
        },
        "outputId": "139863cf-b0fe-4883-b1e8-cc5e7062d801"
      },
      "execution_count": null,
      "outputs": [
        {
          "output_type": "stream",
          "name": "stdout",
          "text": [
            "Classification Report:\n",
            "                                      precision    recall  f1-score   support\n",
            "\n",
            "             artificial intelligence       0.93      0.90      0.91       335\n",
            "                         biographies       0.92      0.94      0.93       576\n",
            "movies about artificial intelligence       1.00      0.84      0.91        38\n",
            "                          philosophy       0.92      0.94      0.93       513\n",
            "                         programming       0.96      0.95      0.95       408\n",
            "\n",
            "                            accuracy                           0.93      1870\n",
            "                           macro avg       0.95      0.91      0.93      1870\n",
            "                        weighted avg       0.93      0.93      0.93      1870\n",
            "\n"
          ]
        }
      ]
    },
    {
      "cell_type": "code",
      "source": [
        "precision = precision_score(test_Y, pred_Y_best, average='weighted')\n",
        "recall = recall_score(test_Y, pred_Y_best, average='weighted')\n",
        "f1 = f1_score(test_Y, pred_Y_best, average='weighted')\n",
        "print(f'Weighted Precision: {precision:.2f}')\n",
        "print(f'Weighted Recall: {recall:.2f}')\n",
        "print(f'Weighted F1-score: {f1:.2f}')"
      ],
      "metadata": {
        "colab": {
          "base_uri": "https://localhost:8080/"
        },
        "id": "BN2HAGKnqXGZ",
        "outputId": "4b83b944-6e07-4ca7-a756-dc2dd6651faa"
      },
      "execution_count": null,
      "outputs": [
        {
          "output_type": "stream",
          "name": "stdout",
          "text": [
            "Weighted Precision: 0.93\n",
            "Weighted Recall: 0.93\n",
            "Weighted F1-score: 0.93\n"
          ]
        }
      ]
    },
    {
      "cell_type": "code",
      "source": [
        "# Creating a DummyClassifier with strategy 'most_frequent'\n",
        "dummy_clf = DummyClassifier(strategy=\"most_frequent\")\n",
        "\n",
        "# Training the DummyClassifier on the training data\n",
        "dummy_clf.fit(train_X, train_Y)\n",
        "\n",
        "# Predicting the majority class for all samples in the test set\n",
        "baseline_pred = dummy_clf.predict(test_X)\n",
        "\n",
        "# Calculating the accuracy of the trivial baseline\n",
        "baseline_accuracy = accuracy_score(test_Y, baseline_pred)\n",
        "print(\"Trivial Baseline Accuracy:\", baseline_accuracy)"
      ],
      "metadata": {
        "id": "nWQuYDMyqk2u",
        "colab": {
          "base_uri": "https://localhost:8080/",
          "height": 211
        },
        "outputId": "2e1bf636-a8d6-42b6-837b-6012a11e8cd0"
      },
      "execution_count": null,
      "outputs": [
        {
          "output_type": "error",
          "ename": "NameError",
          "evalue": "name 'DummyClassifier' is not defined",
          "traceback": [
            "\u001b[0;31m---------------------------------------------------------------------------\u001b[0m",
            "\u001b[0;31mNameError\u001b[0m                                 Traceback (most recent call last)",
            "\u001b[0;32m<ipython-input-1-b98dbe50a909>\u001b[0m in \u001b[0;36m<cell line: 2>\u001b[0;34m()\u001b[0m\n\u001b[1;32m      1\u001b[0m \u001b[0;31m# Creating a DummyClassifier with strategy 'most_frequent'\u001b[0m\u001b[0;34m\u001b[0m\u001b[0;34m\u001b[0m\u001b[0m\n\u001b[0;32m----> 2\u001b[0;31m \u001b[0mdummy_clf\u001b[0m \u001b[0;34m=\u001b[0m \u001b[0mDummyClassifier\u001b[0m\u001b[0;34m(\u001b[0m\u001b[0mstrategy\u001b[0m\u001b[0;34m=\u001b[0m\u001b[0;34m\"most_frequent\"\u001b[0m\u001b[0;34m)\u001b[0m\u001b[0;34m\u001b[0m\u001b[0;34m\u001b[0m\u001b[0m\n\u001b[0m\u001b[1;32m      3\u001b[0m \u001b[0;34m\u001b[0m\u001b[0m\n\u001b[1;32m      4\u001b[0m \u001b[0;31m# Training the DummyClassifier on the training data\u001b[0m\u001b[0;34m\u001b[0m\u001b[0;34m\u001b[0m\u001b[0m\n\u001b[1;32m      5\u001b[0m \u001b[0mdummy_clf\u001b[0m\u001b[0;34m.\u001b[0m\u001b[0mfit\u001b[0m\u001b[0;34m(\u001b[0m\u001b[0mtrain_X\u001b[0m\u001b[0;34m,\u001b[0m \u001b[0mtrain_Y\u001b[0m\u001b[0;34m)\u001b[0m\u001b[0;34m\u001b[0m\u001b[0;34m\u001b[0m\u001b[0m\n",
            "\u001b[0;31mNameError\u001b[0m: name 'DummyClassifier' is not defined"
          ]
        }
      ]
    },
    {
      "cell_type": "code",
      "source": [],
      "metadata": {
        "id": "jX1DUtpPOcLD"
      },
      "execution_count": null,
      "outputs": []
    }
  ]
}
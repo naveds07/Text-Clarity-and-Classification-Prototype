{
  "cells": [
    {
      "cell_type": "code",
      "execution_count": null,
      "metadata": {
        "colab": {
          "base_uri": "https://localhost:8080/"
        },
        "id": "C6w3KrJrNeDu",
        "outputId": "c1933c38-f02b-4253-f41a-dbecb48188a5"
      },
      "outputs": [
        {
          "name": "stdout",
          "output_type": "stream",
          "text": [
            "Requirement already satisfied: spacy in /usr/local/lib/python3.10/dist-packages (3.7.4)\n",
            "Requirement already satisfied: spacy-legacy<3.1.0,>=3.0.11 in /usr/local/lib/python3.10/dist-packages (from spacy) (3.0.12)\n",
            "Requirement already satisfied: spacy-loggers<2.0.0,>=1.0.0 in /usr/local/lib/python3.10/dist-packages (from spacy) (1.0.5)\n",
            "Requirement already satisfied: murmurhash<1.1.0,>=0.28.0 in /usr/local/lib/python3.10/dist-packages (from spacy) (1.0.10)\n",
            "Requirement already satisfied: cymem<2.1.0,>=2.0.2 in /usr/local/lib/python3.10/dist-packages (from spacy) (2.0.8)\n",
            "Requirement already satisfied: preshed<3.1.0,>=3.0.2 in /usr/local/lib/python3.10/dist-packages (from spacy) (3.0.9)\n",
            "Requirement already satisfied: thinc<8.3.0,>=8.2.2 in /usr/local/lib/python3.10/dist-packages (from spacy) (8.2.3)\n",
            "Requirement already satisfied: wasabi<1.2.0,>=0.9.1 in /usr/local/lib/python3.10/dist-packages (from spacy) (1.1.2)\n",
            "Requirement already satisfied: srsly<3.0.0,>=2.4.3 in /usr/local/lib/python3.10/dist-packages (from spacy) (2.4.8)\n",
            "Requirement already satisfied: catalogue<2.1.0,>=2.0.6 in /usr/local/lib/python3.10/dist-packages (from spacy) (2.0.10)\n",
            "Requirement already satisfied: weasel<0.4.0,>=0.1.0 in /usr/local/lib/python3.10/dist-packages (from spacy) (0.3.4)\n",
            "Requirement already satisfied: typer<0.10.0,>=0.3.0 in /usr/local/lib/python3.10/dist-packages (from spacy) (0.9.0)\n",
            "Requirement already satisfied: smart-open<7.0.0,>=5.2.1 in /usr/local/lib/python3.10/dist-packages (from spacy) (6.4.0)\n",
            "Requirement already satisfied: tqdm<5.0.0,>=4.38.0 in /usr/local/lib/python3.10/dist-packages (from spacy) (4.66.2)\n",
            "Requirement already satisfied: requests<3.0.0,>=2.13.0 in /usr/local/lib/python3.10/dist-packages (from spacy) (2.31.0)\n",
            "Requirement already satisfied: pydantic!=1.8,!=1.8.1,<3.0.0,>=1.7.4 in /usr/local/lib/python3.10/dist-packages (from spacy) (2.6.4)\n",
            "Requirement already satisfied: jinja2 in /usr/local/lib/python3.10/dist-packages (from spacy) (3.1.3)\n",
            "Requirement already satisfied: setuptools in /usr/local/lib/python3.10/dist-packages (from spacy) (67.7.2)\n",
            "Requirement already satisfied: packaging>=20.0 in /usr/local/lib/python3.10/dist-packages (from spacy) (24.0)\n",
            "Requirement already satisfied: langcodes<4.0.0,>=3.2.0 in /usr/local/lib/python3.10/dist-packages (from spacy) (3.3.0)\n",
            "Requirement already satisfied: numpy>=1.19.0 in /usr/local/lib/python3.10/dist-packages (from spacy) (1.25.2)\n",
            "Requirement already satisfied: annotated-types>=0.4.0 in /usr/local/lib/python3.10/dist-packages (from pydantic!=1.8,!=1.8.1,<3.0.0,>=1.7.4->spacy) (0.6.0)\n",
            "Requirement already satisfied: pydantic-core==2.16.3 in /usr/local/lib/python3.10/dist-packages (from pydantic!=1.8,!=1.8.1,<3.0.0,>=1.7.4->spacy) (2.16.3)\n",
            "Requirement already satisfied: typing-extensions>=4.6.1 in /usr/local/lib/python3.10/dist-packages (from pydantic!=1.8,!=1.8.1,<3.0.0,>=1.7.4->spacy) (4.10.0)\n",
            "Requirement already satisfied: charset-normalizer<4,>=2 in /usr/local/lib/python3.10/dist-packages (from requests<3.0.0,>=2.13.0->spacy) (3.3.2)\n",
            "Requirement already satisfied: idna<4,>=2.5 in /usr/local/lib/python3.10/dist-packages (from requests<3.0.0,>=2.13.0->spacy) (3.6)\n",
            "Requirement already satisfied: urllib3<3,>=1.21.1 in /usr/local/lib/python3.10/dist-packages (from requests<3.0.0,>=2.13.0->spacy) (2.0.7)\n",
            "Requirement already satisfied: certifi>=2017.4.17 in /usr/local/lib/python3.10/dist-packages (from requests<3.0.0,>=2.13.0->spacy) (2024.2.2)\n",
            "Requirement already satisfied: blis<0.8.0,>=0.7.8 in /usr/local/lib/python3.10/dist-packages (from thinc<8.3.0,>=8.2.2->spacy) (0.7.11)\n",
            "Requirement already satisfied: confection<1.0.0,>=0.0.1 in /usr/local/lib/python3.10/dist-packages (from thinc<8.3.0,>=8.2.2->spacy) (0.1.4)\n",
            "Requirement already satisfied: click<9.0.0,>=7.1.1 in /usr/local/lib/python3.10/dist-packages (from typer<0.10.0,>=0.3.0->spacy) (8.1.7)\n",
            "Requirement already satisfied: cloudpathlib<0.17.0,>=0.7.0 in /usr/local/lib/python3.10/dist-packages (from weasel<0.4.0,>=0.1.0->spacy) (0.16.0)\n",
            "Requirement already satisfied: MarkupSafe>=2.0 in /usr/local/lib/python3.10/dist-packages (from jinja2->spacy) (2.1.5)\n"
          ]
        }
      ],
      "source": [
        "# Importing all necessary libraries required for this coursework\n",
        "\n",
        "import numpy as np\n",
        "import pandas as pd\n",
        "import seaborn as sns\n",
        "import matplotlib.pyplot as plt\n",
        "import nltk\n",
        "from nltk.tokenize import word_tokenize\n",
        "from sklearn.impute import SimpleImputer\n",
        "from sklearn.preprocessing import OneHotEncoder, LabelEncoder, StandardScaler\n",
        "from imblearn.over_sampling import RandomOverSampler, SMOTE\n",
        "from sklearn.datasets import load_iris\n",
        "from sklearn.linear_model import LogisticRegression\n",
        "from sklearn.naive_bayes import MultinomialNB\n",
        "from sklearn.pipeline import Pipeline\n",
        "from sklearn.model_selection import train_test_split, GridSearchCV\n",
        "from sklearn.feature_extraction.text import TfidfVectorizer, CountVectorizer\n",
        "from sklearn.metrics import accuracy_score, precision_score, recall_score, f1_score, roc_auc_score, confusion_matrix, classification_report\n",
        "from sklearn.compose import ColumnTransformer\n",
        "from sklearn.ensemble import RandomForestClassifier\n",
        "from scipy.stats import zscore\n",
        "from sklearn.metrics import accuracy_score\n",
        "\n",
        "!pip install --upgrade spacy"
      ]
    },
    {
      "cell_type": "markdown",
      "metadata": {
        "id": "P3RG5NY9OuRO"
      },
      "source": [
        "# Reading the Dataset"
      ]
    },
    {
      "cell_type": "code",
      "execution_count": null,
      "metadata": {
        "colab": {
          "base_uri": "https://localhost:8080/",
          "height": 475
        },
        "id": "zzGFg7V5Or_5",
        "outputId": "7f532d8c-9953-44e5-c68a-55b831b2dab4"
      },
      "outputs": [
        {
          "data": {
            "application/vnd.google.colaboratory.intrinsic+json": {
              "summary": "{\n  \"name\": \"data\",\n  \"rows\": 9347,\n  \"fields\": [\n    {\n      \"column\": \"par_id\",\n      \"properties\": {\n        \"dtype\": \"number\",\n        \"std\": 322139880749,\n        \"min\": 85003276,\n        \"max\": 1058779003275,\n        \"num_unique_values\": 9132,\n        \"samples\": [\n          759851002842,\n          77886005808,\n          325706008765\n        ],\n        \"semantic_type\": \"\",\n        \"description\": \"\"\n      }\n    },\n    {\n      \"column\": \"paragraph\",\n      \"properties\": {\n        \"dtype\": \"string\",\n        \"num_unique_values\": 8992,\n        \"samples\": [\n          \"In 1891, Thomas married Mary Kane, daughter of Sir Andrew Clark, heiress to a small fortune, which gave him the finances to hire mammal collectors and present their specimens to the museum. He also did field work himself in Western Europe and South America. His wife shared his interest in natural history, and accompanied him on collecting trips. In 1896, when William Henry Flower took control of the department, he hired Richard Lydekker to rearrange the exhibitions, allowing Thomas to concentrate on these new specimens.Thomas viewed his taxonomy efforts from the scope of British imperialism. \\\"You and I in our scientific lives have seen the general knowledge of Mammals of the world wonderfully advanced \\u2013 there are few or no blank areas anymore,\\\" he said in a letter to Gerrit Smith Miller Jr.Officially retired from the museum in 1923, he continued his work without interruption. Although popular rumours suggested he died by shooting himself with a handgun while sitting at his museum desk, he actually died at home in 1929, aged 71, about a year after the death of his wife, \\\"a severe blow from which he never recovered.\\\"\",\n          \"Disraeli always considered foreign affairs to be the most critical and interesting part of statesmanship. Nevertheless, his biographer Robert Blake doubts that his subject had specific ideas about foreign policy when he took office in 1874. He had rarely travelled abroad; since his youthful tour of the Middle East in 1830\\u20131831, he had left Britain only for his honeymoon and three visits to Paris, the last of which was in 1856. As he had criticised Gladstone for a do-nothing foreign policy, he most probably contemplated what actions would reassert Britain's place in Europe. His brief first premiership, and the first year of his second, gave him little opportunity to make his mark in foreign affairs.\",\n          \"I have sent your Watch at last & envy the felicity of it, that it should be soe near your side & soe often enjoy your Eye. ... .but have a care for it, for I have put such a spell into it; that every Beating of the Balance will tell you 'tis the Pulse of my Heart, which labors as much to serve you and more trewly than the Watch; for the Watch I beleeve will sometimes lie, and sometimes be idle & unwilling ... but as for me you may be confident I shall never ...\"\n        ],\n        \"semantic_type\": \"\",\n        \"description\": \"\"\n      }\n    },\n    {\n      \"column\": \"has_entity\",\n      \"properties\": {\n        \"dtype\": \"category\",\n        \"num_unique_values\": 9,\n        \"samples\": [\n          \"ORG_YES_PRODUCT_YES_PERSON_NO_\",\n          \"ORG_YES_PRODUCT_NO_PERSON_NO_\",\n          \"ORG_NO_PRODUCT_YES_PERSON_YES_\"\n        ],\n        \"semantic_type\": \"\",\n        \"description\": \"\"\n      }\n    },\n    {\n      \"column\": \"lexicon_count\",\n      \"properties\": {\n        \"dtype\": \"number\",\n        \"std\": 63,\n        \"min\": 0,\n        \"max\": 653,\n        \"num_unique_values\": 348,\n        \"samples\": [\n          237,\n          82,\n          274\n        ],\n        \"semantic_type\": \"\",\n        \"description\": \"\"\n      }\n    },\n    {\n      \"column\": \"difficult_words\",\n      \"properties\": {\n        \"dtype\": \"number\",\n        \"std\": 16.307358092882417,\n        \"min\": 0.0,\n        \"max\": 143.0,\n        \"num_unique_values\": 113,\n        \"samples\": [\n          96.0,\n          36.0,\n          15.0\n        ],\n        \"semantic_type\": \"\",\n        \"description\": \"\"\n      }\n    },\n    {\n      \"column\": \"last_editor_gender\",\n      \"properties\": {\n        \"dtype\": \"category\",\n        \"num_unique_values\": 4,\n        \"samples\": [\n          \"non-binary\",\n          \"prefer_not_to_say\",\n          \"man\"\n        ],\n        \"semantic_type\": \"\",\n        \"description\": \"\"\n      }\n    },\n    {\n      \"column\": \"category\",\n      \"properties\": {\n        \"dtype\": \"category\",\n        \"num_unique_values\": 10,\n        \"samples\": [\n          \"Biographies\",\n          \"artificial intelligence\",\n          \"Philosophy\"\n        ],\n        \"semantic_type\": \"\",\n        \"description\": \"\"\n      }\n    },\n    {\n      \"column\": \"text_clarity\",\n      \"properties\": {\n        \"dtype\": \"category\",\n        \"num_unique_values\": 2,\n        \"samples\": [\n          \"not_clear_enough\",\n          \"clear_enough\"\n        ],\n        \"semantic_type\": \"\",\n        \"description\": \"\"\n      }\n    }\n  ]\n}",
              "type": "dataframe",
              "variable_name": "data"
            },
            "text/html": [
              "\n",
              "  <div id=\"df-81a0fc7e-7038-4dc2-a444-edac60574963\" class=\"colab-df-container\">\n",
              "    <div>\n",
              "<style scoped>\n",
              "    .dataframe tbody tr th:only-of-type {\n",
              "        vertical-align: middle;\n",
              "    }\n",
              "\n",
              "    .dataframe tbody tr th {\n",
              "        vertical-align: top;\n",
              "    }\n",
              "\n",
              "    .dataframe thead th {\n",
              "        text-align: right;\n",
              "    }\n",
              "</style>\n",
              "<table border=\"1\" class=\"dataframe\">\n",
              "  <thead>\n",
              "    <tr style=\"text-align: right;\">\n",
              "      <th></th>\n",
              "      <th>par_id</th>\n",
              "      <th>paragraph</th>\n",
              "      <th>has_entity</th>\n",
              "      <th>lexicon_count</th>\n",
              "      <th>difficult_words</th>\n",
              "      <th>last_editor_gender</th>\n",
              "      <th>category</th>\n",
              "      <th>text_clarity</th>\n",
              "    </tr>\n",
              "  </thead>\n",
              "  <tbody>\n",
              "    <tr>\n",
              "      <th>0</th>\n",
              "      <td>428209002237</td>\n",
              "      <td>Ramsay was born in Glasgow on 2 October 1852. ...</td>\n",
              "      <td>ORG_YES_PRODUCT_NO_PERSON_YES_</td>\n",
              "      <td>49</td>\n",
              "      <td>12.0</td>\n",
              "      <td>man</td>\n",
              "      <td>biographies</td>\n",
              "      <td>clear_enough</td>\n",
              "    </tr>\n",
              "    <tr>\n",
              "      <th>1</th>\n",
              "      <td>564218010072</td>\n",
              "      <td>It has been widely estimated for at least the ...</td>\n",
              "      <td>ORG_YES_PRODUCT_NO_PERSON_NO_</td>\n",
              "      <td>166</td>\n",
              "      <td>47.0</td>\n",
              "      <td>man</td>\n",
              "      <td>artificial intelligence</td>\n",
              "      <td>not_clear_enough</td>\n",
              "    </tr>\n",
              "    <tr>\n",
              "      <th>2</th>\n",
              "      <td>291401001672</td>\n",
              "      <td>He went on to win the Royal Medal of the Royal...</td>\n",
              "      <td>ORG_YES_PRODUCT_NO_PERSON_NO_</td>\n",
              "      <td>69</td>\n",
              "      <td>18.0</td>\n",
              "      <td>non-binary</td>\n",
              "      <td>biographies</td>\n",
              "      <td>clear_enough</td>\n",
              "    </tr>\n",
              "    <tr>\n",
              "      <th>3</th>\n",
              "      <td>31548004883</td>\n",
              "      <td>The changes have altered many underlying assum...</td>\n",
              "      <td>ORG_NO_PRODUCT_YES_PERSON_NO_</td>\n",
              "      <td>76</td>\n",
              "      <td>27.0</td>\n",
              "      <td>non-binary</td>\n",
              "      <td>programming</td>\n",
              "      <td>clear_enough</td>\n",
              "    </tr>\n",
              "    <tr>\n",
              "      <th>4</th>\n",
              "      <td>50634005146</td>\n",
              "      <td>After these novels were published, Disraeli de...</td>\n",
              "      <td>ORG_YES_PRODUCT_YES_PERSON_YES_</td>\n",
              "      <td>200</td>\n",
              "      <td>47.0</td>\n",
              "      <td>man</td>\n",
              "      <td>biographies</td>\n",
              "      <td>not_clear_enough</td>\n",
              "    </tr>\n",
              "    <tr>\n",
              "      <th>...</th>\n",
              "      <td>...</td>\n",
              "      <td>...</td>\n",
              "      <td>...</td>\n",
              "      <td>...</td>\n",
              "      <td>...</td>\n",
              "      <td>...</td>\n",
              "      <td>...</td>\n",
              "      <td>...</td>\n",
              "    </tr>\n",
              "    <tr>\n",
              "      <th>9342</th>\n",
              "      <td>200523007578</td>\n",
              "      <td>Sir Joseph Dalton Hooker  was a British botani...</td>\n",
              "      <td>ORG_YES_PRODUCT_NO_PERSON_YES_</td>\n",
              "      <td>54</td>\n",
              "      <td>16.0</td>\n",
              "      <td>man</td>\n",
              "      <td>biographies</td>\n",
              "      <td>NaN</td>\n",
              "    </tr>\n",
              "    <tr>\n",
              "      <th>9343</th>\n",
              "      <td>50634005203</td>\n",
              "      <td>As successful invasions of India generally cam...</td>\n",
              "      <td>ORG_YES_PRODUCT_NO_PERSON_YES_</td>\n",
              "      <td>217</td>\n",
              "      <td>46.0</td>\n",
              "      <td>woman</td>\n",
              "      <td>biographies</td>\n",
              "      <td>NaN</td>\n",
              "    </tr>\n",
              "    <tr>\n",
              "      <th>9344</th>\n",
              "      <td>6437003939</td>\n",
              "      <td>Hawking was born on 8 January 1942 in Oxford t...</td>\n",
              "      <td>ORG_YES_PRODUCT_NO_PERSON_YES_</td>\n",
              "      <td>91</td>\n",
              "      <td>27.0</td>\n",
              "      <td>woman</td>\n",
              "      <td>biographies</td>\n",
              "      <td>NaN</td>\n",
              "    </tr>\n",
              "    <tr>\n",
              "      <th>9345</th>\n",
              "      <td>725259002815</td>\n",
              "      <td>More complex tasks can be making custom data e...</td>\n",
              "      <td>ORG_YES_PRODUCT_NO_PERSON_NO_</td>\n",
              "      <td>47</td>\n",
              "      <td>15.0</td>\n",
              "      <td>man</td>\n",
              "      <td>programming</td>\n",
              "      <td>NaN</td>\n",
              "    </tr>\n",
              "    <tr>\n",
              "      <th>9346</th>\n",
              "      <td>109126000894</td>\n",
              "      <td>Governments, and especially the police and cou...</td>\n",
              "      <td>ORG_NO_PRODUCT_NO_PERSON_NO_</td>\n",
              "      <td>87</td>\n",
              "      <td>8.0</td>\n",
              "      <td>man</td>\n",
              "      <td>philosophy</td>\n",
              "      <td>NaN</td>\n",
              "    </tr>\n",
              "  </tbody>\n",
              "</table>\n",
              "<p>9347 rows × 8 columns</p>\n",
              "</div>\n",
              "    <div class=\"colab-df-buttons\">\n",
              "\n",
              "  <div class=\"colab-df-container\">\n",
              "    <button class=\"colab-df-convert\" onclick=\"convertToInteractive('df-81a0fc7e-7038-4dc2-a444-edac60574963')\"\n",
              "            title=\"Convert this dataframe to an interactive table.\"\n",
              "            style=\"display:none;\">\n",
              "\n",
              "  <svg xmlns=\"http://www.w3.org/2000/svg\" height=\"24px\" viewBox=\"0 -960 960 960\">\n",
              "    <path d=\"M120-120v-720h720v720H120Zm60-500h600v-160H180v160Zm220 220h160v-160H400v160Zm0 220h160v-160H400v160ZM180-400h160v-160H180v160Zm440 0h160v-160H620v160ZM180-180h160v-160H180v160Zm440 0h160v-160H620v160Z\"/>\n",
              "  </svg>\n",
              "    </button>\n",
              "\n",
              "  <style>\n",
              "    .colab-df-container {\n",
              "      display:flex;\n",
              "      gap: 12px;\n",
              "    }\n",
              "\n",
              "    .colab-df-convert {\n",
              "      background-color: #E8F0FE;\n",
              "      border: none;\n",
              "      border-radius: 50%;\n",
              "      cursor: pointer;\n",
              "      display: none;\n",
              "      fill: #1967D2;\n",
              "      height: 32px;\n",
              "      padding: 0 0 0 0;\n",
              "      width: 32px;\n",
              "    }\n",
              "\n",
              "    .colab-df-convert:hover {\n",
              "      background-color: #E2EBFA;\n",
              "      box-shadow: 0px 1px 2px rgba(60, 64, 67, 0.3), 0px 1px 3px 1px rgba(60, 64, 67, 0.15);\n",
              "      fill: #174EA6;\n",
              "    }\n",
              "\n",
              "    .colab-df-buttons div {\n",
              "      margin-bottom: 4px;\n",
              "    }\n",
              "\n",
              "    [theme=dark] .colab-df-convert {\n",
              "      background-color: #3B4455;\n",
              "      fill: #D2E3FC;\n",
              "    }\n",
              "\n",
              "    [theme=dark] .colab-df-convert:hover {\n",
              "      background-color: #434B5C;\n",
              "      box-shadow: 0px 1px 3px 1px rgba(0, 0, 0, 0.15);\n",
              "      filter: drop-shadow(0px 1px 2px rgba(0, 0, 0, 0.3));\n",
              "      fill: #FFFFFF;\n",
              "    }\n",
              "  </style>\n",
              "\n",
              "    <script>\n",
              "      const buttonEl =\n",
              "        document.querySelector('#df-81a0fc7e-7038-4dc2-a444-edac60574963 button.colab-df-convert');\n",
              "      buttonEl.style.display =\n",
              "        google.colab.kernel.accessAllowed ? 'block' : 'none';\n",
              "\n",
              "      async function convertToInteractive(key) {\n",
              "        const element = document.querySelector('#df-81a0fc7e-7038-4dc2-a444-edac60574963');\n",
              "        const dataTable =\n",
              "          await google.colab.kernel.invokeFunction('convertToInteractive',\n",
              "                                                    [key], {});\n",
              "        if (!dataTable) return;\n",
              "\n",
              "        const docLinkHtml = 'Like what you see? Visit the ' +\n",
              "          '<a target=\"_blank\" href=https://colab.research.google.com/notebooks/data_table.ipynb>data table notebook</a>'\n",
              "          + ' to learn more about interactive tables.';\n",
              "        element.innerHTML = '';\n",
              "        dataTable['output_type'] = 'display_data';\n",
              "        await google.colab.output.renderOutput(dataTable, element);\n",
              "        const docLink = document.createElement('div');\n",
              "        docLink.innerHTML = docLinkHtml;\n",
              "        element.appendChild(docLink);\n",
              "      }\n",
              "    </script>\n",
              "  </div>\n",
              "\n",
              "\n",
              "<div id=\"df-ad54f9a2-0ccb-4e98-ba63-e25c6d607727\">\n",
              "  <button class=\"colab-df-quickchart\" onclick=\"quickchart('df-ad54f9a2-0ccb-4e98-ba63-e25c6d607727')\"\n",
              "            title=\"Suggest charts\"\n",
              "            style=\"display:none;\">\n",
              "\n",
              "<svg xmlns=\"http://www.w3.org/2000/svg\" height=\"24px\"viewBox=\"0 0 24 24\"\n",
              "     width=\"24px\">\n",
              "    <g>\n",
              "        <path d=\"M19 3H5c-1.1 0-2 .9-2 2v14c0 1.1.9 2 2 2h14c1.1 0 2-.9 2-2V5c0-1.1-.9-2-2-2zM9 17H7v-7h2v7zm4 0h-2V7h2v10zm4 0h-2v-4h2v4z\"/>\n",
              "    </g>\n",
              "</svg>\n",
              "  </button>\n",
              "\n",
              "<style>\n",
              "  .colab-df-quickchart {\n",
              "      --bg-color: #E8F0FE;\n",
              "      --fill-color: #1967D2;\n",
              "      --hover-bg-color: #E2EBFA;\n",
              "      --hover-fill-color: #174EA6;\n",
              "      --disabled-fill-color: #AAA;\n",
              "      --disabled-bg-color: #DDD;\n",
              "  }\n",
              "\n",
              "  [theme=dark] .colab-df-quickchart {\n",
              "      --bg-color: #3B4455;\n",
              "      --fill-color: #D2E3FC;\n",
              "      --hover-bg-color: #434B5C;\n",
              "      --hover-fill-color: #FFFFFF;\n",
              "      --disabled-bg-color: #3B4455;\n",
              "      --disabled-fill-color: #666;\n",
              "  }\n",
              "\n",
              "  .colab-df-quickchart {\n",
              "    background-color: var(--bg-color);\n",
              "    border: none;\n",
              "    border-radius: 50%;\n",
              "    cursor: pointer;\n",
              "    display: none;\n",
              "    fill: var(--fill-color);\n",
              "    height: 32px;\n",
              "    padding: 0;\n",
              "    width: 32px;\n",
              "  }\n",
              "\n",
              "  .colab-df-quickchart:hover {\n",
              "    background-color: var(--hover-bg-color);\n",
              "    box-shadow: 0 1px 2px rgba(60, 64, 67, 0.3), 0 1px 3px 1px rgba(60, 64, 67, 0.15);\n",
              "    fill: var(--button-hover-fill-color);\n",
              "  }\n",
              "\n",
              "  .colab-df-quickchart-complete:disabled,\n",
              "  .colab-df-quickchart-complete:disabled:hover {\n",
              "    background-color: var(--disabled-bg-color);\n",
              "    fill: var(--disabled-fill-color);\n",
              "    box-shadow: none;\n",
              "  }\n",
              "\n",
              "  .colab-df-spinner {\n",
              "    border: 2px solid var(--fill-color);\n",
              "    border-color: transparent;\n",
              "    border-bottom-color: var(--fill-color);\n",
              "    animation:\n",
              "      spin 1s steps(1) infinite;\n",
              "  }\n",
              "\n",
              "  @keyframes spin {\n",
              "    0% {\n",
              "      border-color: transparent;\n",
              "      border-bottom-color: var(--fill-color);\n",
              "      border-left-color: var(--fill-color);\n",
              "    }\n",
              "    20% {\n",
              "      border-color: transparent;\n",
              "      border-left-color: var(--fill-color);\n",
              "      border-top-color: var(--fill-color);\n",
              "    }\n",
              "    30% {\n",
              "      border-color: transparent;\n",
              "      border-left-color: var(--fill-color);\n",
              "      border-top-color: var(--fill-color);\n",
              "      border-right-color: var(--fill-color);\n",
              "    }\n",
              "    40% {\n",
              "      border-color: transparent;\n",
              "      border-right-color: var(--fill-color);\n",
              "      border-top-color: var(--fill-color);\n",
              "    }\n",
              "    60% {\n",
              "      border-color: transparent;\n",
              "      border-right-color: var(--fill-color);\n",
              "    }\n",
              "    80% {\n",
              "      border-color: transparent;\n",
              "      border-right-color: var(--fill-color);\n",
              "      border-bottom-color: var(--fill-color);\n",
              "    }\n",
              "    90% {\n",
              "      border-color: transparent;\n",
              "      border-bottom-color: var(--fill-color);\n",
              "    }\n",
              "  }\n",
              "</style>\n",
              "\n",
              "  <script>\n",
              "    async function quickchart(key) {\n",
              "      const quickchartButtonEl =\n",
              "        document.querySelector('#' + key + ' button');\n",
              "      quickchartButtonEl.disabled = true;  // To prevent multiple clicks.\n",
              "      quickchartButtonEl.classList.add('colab-df-spinner');\n",
              "      try {\n",
              "        const charts = await google.colab.kernel.invokeFunction(\n",
              "            'suggestCharts', [key], {});\n",
              "      } catch (error) {\n",
              "        console.error('Error during call to suggestCharts:', error);\n",
              "      }\n",
              "      quickchartButtonEl.classList.remove('colab-df-spinner');\n",
              "      quickchartButtonEl.classList.add('colab-df-quickchart-complete');\n",
              "    }\n",
              "    (() => {\n",
              "      let quickchartButtonEl =\n",
              "        document.querySelector('#df-ad54f9a2-0ccb-4e98-ba63-e25c6d607727 button');\n",
              "      quickchartButtonEl.style.display =\n",
              "        google.colab.kernel.accessAllowed ? 'block' : 'none';\n",
              "    })();\n",
              "  </script>\n",
              "</div>\n",
              "\n",
              "  <div id=\"id_848b802d-7fb3-41e0-8192-56187a42e80f\">\n",
              "    <style>\n",
              "      .colab-df-generate {\n",
              "        background-color: #E8F0FE;\n",
              "        border: none;\n",
              "        border-radius: 50%;\n",
              "        cursor: pointer;\n",
              "        display: none;\n",
              "        fill: #1967D2;\n",
              "        height: 32px;\n",
              "        padding: 0 0 0 0;\n",
              "        width: 32px;\n",
              "      }\n",
              "\n",
              "      .colab-df-generate:hover {\n",
              "        background-color: #E2EBFA;\n",
              "        box-shadow: 0px 1px 2px rgba(60, 64, 67, 0.3), 0px 1px 3px 1px rgba(60, 64, 67, 0.15);\n",
              "        fill: #174EA6;\n",
              "      }\n",
              "\n",
              "      [theme=dark] .colab-df-generate {\n",
              "        background-color: #3B4455;\n",
              "        fill: #D2E3FC;\n",
              "      }\n",
              "\n",
              "      [theme=dark] .colab-df-generate:hover {\n",
              "        background-color: #434B5C;\n",
              "        box-shadow: 0px 1px 3px 1px rgba(0, 0, 0, 0.15);\n",
              "        filter: drop-shadow(0px 1px 2px rgba(0, 0, 0, 0.3));\n",
              "        fill: #FFFFFF;\n",
              "      }\n",
              "    </style>\n",
              "    <button class=\"colab-df-generate\" onclick=\"generateWithVariable('data')\"\n",
              "            title=\"Generate code using this dataframe.\"\n",
              "            style=\"display:none;\">\n",
              "\n",
              "  <svg xmlns=\"http://www.w3.org/2000/svg\" height=\"24px\"viewBox=\"0 0 24 24\"\n",
              "       width=\"24px\">\n",
              "    <path d=\"M7,19H8.4L18.45,9,17,7.55,7,17.6ZM5,21V16.75L18.45,3.32a2,2,0,0,1,2.83,0l1.4,1.43a1.91,1.91,0,0,1,.58,1.4,1.91,1.91,0,0,1-.58,1.4L9.25,21ZM18.45,9,17,7.55Zm-12,3A5.31,5.31,0,0,0,4.9,8.1,5.31,5.31,0,0,0,1,6.5,5.31,5.31,0,0,0,4.9,4.9,5.31,5.31,0,0,0,6.5,1,5.31,5.31,0,0,0,8.1,4.9,5.31,5.31,0,0,0,12,6.5,5.46,5.46,0,0,0,6.5,12Z\"/>\n",
              "  </svg>\n",
              "    </button>\n",
              "    <script>\n",
              "      (() => {\n",
              "      const buttonEl =\n",
              "        document.querySelector('#id_848b802d-7fb3-41e0-8192-56187a42e80f button.colab-df-generate');\n",
              "      buttonEl.style.display =\n",
              "        google.colab.kernel.accessAllowed ? 'block' : 'none';\n",
              "\n",
              "      buttonEl.onclick = () => {\n",
              "        google.colab.notebook.generateWithVariable('data');\n",
              "      }\n",
              "      })();\n",
              "    </script>\n",
              "  </div>\n",
              "\n",
              "    </div>\n",
              "  </div>\n"
            ],
            "text/plain": [
              "            par_id                                          paragraph  \\\n",
              "0     428209002237  Ramsay was born in Glasgow on 2 October 1852. ...   \n",
              "1     564218010072  It has been widely estimated for at least the ...   \n",
              "2     291401001672  He went on to win the Royal Medal of the Royal...   \n",
              "3      31548004883  The changes have altered many underlying assum...   \n",
              "4      50634005146  After these novels were published, Disraeli de...   \n",
              "...            ...                                                ...   \n",
              "9342  200523007578  Sir Joseph Dalton Hooker  was a British botani...   \n",
              "9343   50634005203  As successful invasions of India generally cam...   \n",
              "9344    6437003939  Hawking was born on 8 January 1942 in Oxford t...   \n",
              "9345  725259002815  More complex tasks can be making custom data e...   \n",
              "9346  109126000894  Governments, and especially the police and cou...   \n",
              "\n",
              "                           has_entity  lexicon_count  difficult_words  \\\n",
              "0      ORG_YES_PRODUCT_NO_PERSON_YES_             49             12.0   \n",
              "1       ORG_YES_PRODUCT_NO_PERSON_NO_            166             47.0   \n",
              "2       ORG_YES_PRODUCT_NO_PERSON_NO_             69             18.0   \n",
              "3       ORG_NO_PRODUCT_YES_PERSON_NO_             76             27.0   \n",
              "4     ORG_YES_PRODUCT_YES_PERSON_YES_            200             47.0   \n",
              "...                               ...            ...              ...   \n",
              "9342   ORG_YES_PRODUCT_NO_PERSON_YES_             54             16.0   \n",
              "9343   ORG_YES_PRODUCT_NO_PERSON_YES_            217             46.0   \n",
              "9344   ORG_YES_PRODUCT_NO_PERSON_YES_             91             27.0   \n",
              "9345    ORG_YES_PRODUCT_NO_PERSON_NO_             47             15.0   \n",
              "9346     ORG_NO_PRODUCT_NO_PERSON_NO_             87              8.0   \n",
              "\n",
              "     last_editor_gender                 category      text_clarity  \n",
              "0                   man              biographies      clear_enough  \n",
              "1                   man  artificial intelligence  not_clear_enough  \n",
              "2            non-binary              biographies      clear_enough  \n",
              "3            non-binary              programming      clear_enough  \n",
              "4                   man              biographies  not_clear_enough  \n",
              "...                 ...                      ...               ...  \n",
              "9342                man              biographies               NaN  \n",
              "9343              woman              biographies               NaN  \n",
              "9344              woman              biographies               NaN  \n",
              "9345                man              programming               NaN  \n",
              "9346                man               philosophy               NaN  \n",
              "\n",
              "[9347 rows x 8 columns]"
            ]
          },
          "execution_count": 5,
          "metadata": {},
          "output_type": "execute_result"
        }
      ],
      "source": [
        "data = pd.read_csv('comp1804_dataset.csv')\n",
        "data"
      ]
    },
    {
      "cell_type": "markdown",
      "metadata": {
        "id": "x8PHZDSsPnCo"
      },
      "source": [
        "# Statistics Summary"
      ]
    },
    {
      "cell_type": "code",
      "execution_count": null,
      "metadata": {
        "colab": {
          "base_uri": "https://localhost:8080/",
          "height": 300
        },
        "id": "JQbnDiq1Pih7",
        "outputId": "2ed459d3-7e83-415b-a80a-d50960ba187f"
      },
      "outputs": [
        {
          "data": {
            "application/vnd.google.colaboratory.intrinsic+json": {
              "summary": "{\n  \"name\": \"data\",\n  \"rows\": 8,\n  \"fields\": [\n    {\n      \"column\": \"par_id\",\n      \"properties\": {\n        \"dtype\": \"number\",\n        \"std\": 358648460872.8377,\n        \"min\": 9347.0,\n        \"max\": 1058779003275.0,\n        \"num_unique_values\": 8,\n        \"samples\": [\n          356836924493.44305,\n          268438008202.0,\n          9347.0\n        ],\n        \"semantic_type\": \"\",\n        \"description\": \"\"\n      }\n    },\n    {\n      \"column\": \"lexicon_count\",\n      \"properties\": {\n        \"dtype\": \"number\",\n        \"std\": 3260.3134392123097,\n        \"min\": 0.0,\n        \"max\": 9347.0,\n        \"num_unique_values\": 8,\n        \"samples\": [\n          81.98127741521344,\n          64.0,\n          9347.0\n        ],\n        \"semantic_type\": \"\",\n        \"description\": \"\"\n      }\n    },\n    {\n      \"column\": \"difficult_words\",\n      \"properties\": {\n        \"dtype\": \"number\",\n        \"std\": 3286.652031289839,\n        \"min\": 0.0,\n        \"max\": 9329.0,\n        \"num_unique_values\": 8,\n        \"samples\": [\n          21.514203022832028,\n          17.0,\n          9329.0\n        ],\n        \"semantic_type\": \"\",\n        \"description\": \"\"\n      }\n    }\n  ]\n}",
              "type": "dataframe"
            },
            "text/html": [
              "\n",
              "  <div id=\"df-6a9bf837-63f2-4978-9124-0932377abc6c\" class=\"colab-df-container\">\n",
              "    <div>\n",
              "<style scoped>\n",
              "    .dataframe tbody tr th:only-of-type {\n",
              "        vertical-align: middle;\n",
              "    }\n",
              "\n",
              "    .dataframe tbody tr th {\n",
              "        vertical-align: top;\n",
              "    }\n",
              "\n",
              "    .dataframe thead th {\n",
              "        text-align: right;\n",
              "    }\n",
              "</style>\n",
              "<table border=\"1\" class=\"dataframe\">\n",
              "  <thead>\n",
              "    <tr style=\"text-align: right;\">\n",
              "      <th></th>\n",
              "      <th>par_id</th>\n",
              "      <th>lexicon_count</th>\n",
              "      <th>difficult_words</th>\n",
              "    </tr>\n",
              "  </thead>\n",
              "  <tbody>\n",
              "    <tr>\n",
              "      <th>count</th>\n",
              "      <td>9.347000e+03</td>\n",
              "      <td>9347.000000</td>\n",
              "      <td>9329.000000</td>\n",
              "    </tr>\n",
              "    <tr>\n",
              "      <th>mean</th>\n",
              "      <td>3.568369e+11</td>\n",
              "      <td>81.981277</td>\n",
              "      <td>21.514203</td>\n",
              "    </tr>\n",
              "    <tr>\n",
              "      <th>std</th>\n",
              "      <td>3.221399e+11</td>\n",
              "      <td>63.533532</td>\n",
              "      <td>16.307358</td>\n",
              "    </tr>\n",
              "    <tr>\n",
              "      <th>min</th>\n",
              "      <td>8.500328e+07</td>\n",
              "      <td>0.000000</td>\n",
              "      <td>0.000000</td>\n",
              "    </tr>\n",
              "    <tr>\n",
              "      <th>25%</th>\n",
              "      <td>7.019601e+10</td>\n",
              "      <td>33.000000</td>\n",
              "      <td>9.000000</td>\n",
              "    </tr>\n",
              "    <tr>\n",
              "      <th>50%</th>\n",
              "      <td>2.684380e+11</td>\n",
              "      <td>64.000000</td>\n",
              "      <td>17.000000</td>\n",
              "    </tr>\n",
              "    <tr>\n",
              "      <th>75%</th>\n",
              "      <td>6.124310e+11</td>\n",
              "      <td>117.000000</td>\n",
              "      <td>30.000000</td>\n",
              "    </tr>\n",
              "    <tr>\n",
              "      <th>max</th>\n",
              "      <td>1.058779e+12</td>\n",
              "      <td>653.000000</td>\n",
              "      <td>143.000000</td>\n",
              "    </tr>\n",
              "  </tbody>\n",
              "</table>\n",
              "</div>\n",
              "    <div class=\"colab-df-buttons\">\n",
              "\n",
              "  <div class=\"colab-df-container\">\n",
              "    <button class=\"colab-df-convert\" onclick=\"convertToInteractive('df-6a9bf837-63f2-4978-9124-0932377abc6c')\"\n",
              "            title=\"Convert this dataframe to an interactive table.\"\n",
              "            style=\"display:none;\">\n",
              "\n",
              "  <svg xmlns=\"http://www.w3.org/2000/svg\" height=\"24px\" viewBox=\"0 -960 960 960\">\n",
              "    <path d=\"M120-120v-720h720v720H120Zm60-500h600v-160H180v160Zm220 220h160v-160H400v160Zm0 220h160v-160H400v160ZM180-400h160v-160H180v160Zm440 0h160v-160H620v160ZM180-180h160v-160H180v160Zm440 0h160v-160H620v160Z\"/>\n",
              "  </svg>\n",
              "    </button>\n",
              "\n",
              "  <style>\n",
              "    .colab-df-container {\n",
              "      display:flex;\n",
              "      gap: 12px;\n",
              "    }\n",
              "\n",
              "    .colab-df-convert {\n",
              "      background-color: #E8F0FE;\n",
              "      border: none;\n",
              "      border-radius: 50%;\n",
              "      cursor: pointer;\n",
              "      display: none;\n",
              "      fill: #1967D2;\n",
              "      height: 32px;\n",
              "      padding: 0 0 0 0;\n",
              "      width: 32px;\n",
              "    }\n",
              "\n",
              "    .colab-df-convert:hover {\n",
              "      background-color: #E2EBFA;\n",
              "      box-shadow: 0px 1px 2px rgba(60, 64, 67, 0.3), 0px 1px 3px 1px rgba(60, 64, 67, 0.15);\n",
              "      fill: #174EA6;\n",
              "    }\n",
              "\n",
              "    .colab-df-buttons div {\n",
              "      margin-bottom: 4px;\n",
              "    }\n",
              "\n",
              "    [theme=dark] .colab-df-convert {\n",
              "      background-color: #3B4455;\n",
              "      fill: #D2E3FC;\n",
              "    }\n",
              "\n",
              "    [theme=dark] .colab-df-convert:hover {\n",
              "      background-color: #434B5C;\n",
              "      box-shadow: 0px 1px 3px 1px rgba(0, 0, 0, 0.15);\n",
              "      filter: drop-shadow(0px 1px 2px rgba(0, 0, 0, 0.3));\n",
              "      fill: #FFFFFF;\n",
              "    }\n",
              "  </style>\n",
              "\n",
              "    <script>\n",
              "      const buttonEl =\n",
              "        document.querySelector('#df-6a9bf837-63f2-4978-9124-0932377abc6c button.colab-df-convert');\n",
              "      buttonEl.style.display =\n",
              "        google.colab.kernel.accessAllowed ? 'block' : 'none';\n",
              "\n",
              "      async function convertToInteractive(key) {\n",
              "        const element = document.querySelector('#df-6a9bf837-63f2-4978-9124-0932377abc6c');\n",
              "        const dataTable =\n",
              "          await google.colab.kernel.invokeFunction('convertToInteractive',\n",
              "                                                    [key], {});\n",
              "        if (!dataTable) return;\n",
              "\n",
              "        const docLinkHtml = 'Like what you see? Visit the ' +\n",
              "          '<a target=\"_blank\" href=https://colab.research.google.com/notebooks/data_table.ipynb>data table notebook</a>'\n",
              "          + ' to learn more about interactive tables.';\n",
              "        element.innerHTML = '';\n",
              "        dataTable['output_type'] = 'display_data';\n",
              "        await google.colab.output.renderOutput(dataTable, element);\n",
              "        const docLink = document.createElement('div');\n",
              "        docLink.innerHTML = docLinkHtml;\n",
              "        element.appendChild(docLink);\n",
              "      }\n",
              "    </script>\n",
              "  </div>\n",
              "\n",
              "\n",
              "<div id=\"df-a98697f0-dbe3-4a64-b662-457bae1525d0\">\n",
              "  <button class=\"colab-df-quickchart\" onclick=\"quickchart('df-a98697f0-dbe3-4a64-b662-457bae1525d0')\"\n",
              "            title=\"Suggest charts\"\n",
              "            style=\"display:none;\">\n",
              "\n",
              "<svg xmlns=\"http://www.w3.org/2000/svg\" height=\"24px\"viewBox=\"0 0 24 24\"\n",
              "     width=\"24px\">\n",
              "    <g>\n",
              "        <path d=\"M19 3H5c-1.1 0-2 .9-2 2v14c0 1.1.9 2 2 2h14c1.1 0 2-.9 2-2V5c0-1.1-.9-2-2-2zM9 17H7v-7h2v7zm4 0h-2V7h2v10zm4 0h-2v-4h2v4z\"/>\n",
              "    </g>\n",
              "</svg>\n",
              "  </button>\n",
              "\n",
              "<style>\n",
              "  .colab-df-quickchart {\n",
              "      --bg-color: #E8F0FE;\n",
              "      --fill-color: #1967D2;\n",
              "      --hover-bg-color: #E2EBFA;\n",
              "      --hover-fill-color: #174EA6;\n",
              "      --disabled-fill-color: #AAA;\n",
              "      --disabled-bg-color: #DDD;\n",
              "  }\n",
              "\n",
              "  [theme=dark] .colab-df-quickchart {\n",
              "      --bg-color: #3B4455;\n",
              "      --fill-color: #D2E3FC;\n",
              "      --hover-bg-color: #434B5C;\n",
              "      --hover-fill-color: #FFFFFF;\n",
              "      --disabled-bg-color: #3B4455;\n",
              "      --disabled-fill-color: #666;\n",
              "  }\n",
              "\n",
              "  .colab-df-quickchart {\n",
              "    background-color: var(--bg-color);\n",
              "    border: none;\n",
              "    border-radius: 50%;\n",
              "    cursor: pointer;\n",
              "    display: none;\n",
              "    fill: var(--fill-color);\n",
              "    height: 32px;\n",
              "    padding: 0;\n",
              "    width: 32px;\n",
              "  }\n",
              "\n",
              "  .colab-df-quickchart:hover {\n",
              "    background-color: var(--hover-bg-color);\n",
              "    box-shadow: 0 1px 2px rgba(60, 64, 67, 0.3), 0 1px 3px 1px rgba(60, 64, 67, 0.15);\n",
              "    fill: var(--button-hover-fill-color);\n",
              "  }\n",
              "\n",
              "  .colab-df-quickchart-complete:disabled,\n",
              "  .colab-df-quickchart-complete:disabled:hover {\n",
              "    background-color: var(--disabled-bg-color);\n",
              "    fill: var(--disabled-fill-color);\n",
              "    box-shadow: none;\n",
              "  }\n",
              "\n",
              "  .colab-df-spinner {\n",
              "    border: 2px solid var(--fill-color);\n",
              "    border-color: transparent;\n",
              "    border-bottom-color: var(--fill-color);\n",
              "    animation:\n",
              "      spin 1s steps(1) infinite;\n",
              "  }\n",
              "\n",
              "  @keyframes spin {\n",
              "    0% {\n",
              "      border-color: transparent;\n",
              "      border-bottom-color: var(--fill-color);\n",
              "      border-left-color: var(--fill-color);\n",
              "    }\n",
              "    20% {\n",
              "      border-color: transparent;\n",
              "      border-left-color: var(--fill-color);\n",
              "      border-top-color: var(--fill-color);\n",
              "    }\n",
              "    30% {\n",
              "      border-color: transparent;\n",
              "      border-left-color: var(--fill-color);\n",
              "      border-top-color: var(--fill-color);\n",
              "      border-right-color: var(--fill-color);\n",
              "    }\n",
              "    40% {\n",
              "      border-color: transparent;\n",
              "      border-right-color: var(--fill-color);\n",
              "      border-top-color: var(--fill-color);\n",
              "    }\n",
              "    60% {\n",
              "      border-color: transparent;\n",
              "      border-right-color: var(--fill-color);\n",
              "    }\n",
              "    80% {\n",
              "      border-color: transparent;\n",
              "      border-right-color: var(--fill-color);\n",
              "      border-bottom-color: var(--fill-color);\n",
              "    }\n",
              "    90% {\n",
              "      border-color: transparent;\n",
              "      border-bottom-color: var(--fill-color);\n",
              "    }\n",
              "  }\n",
              "</style>\n",
              "\n",
              "  <script>\n",
              "    async function quickchart(key) {\n",
              "      const quickchartButtonEl =\n",
              "        document.querySelector('#' + key + ' button');\n",
              "      quickchartButtonEl.disabled = true;  // To prevent multiple clicks.\n",
              "      quickchartButtonEl.classList.add('colab-df-spinner');\n",
              "      try {\n",
              "        const charts = await google.colab.kernel.invokeFunction(\n",
              "            'suggestCharts', [key], {});\n",
              "      } catch (error) {\n",
              "        console.error('Error during call to suggestCharts:', error);\n",
              "      }\n",
              "      quickchartButtonEl.classList.remove('colab-df-spinner');\n",
              "      quickchartButtonEl.classList.add('colab-df-quickchart-complete');\n",
              "    }\n",
              "    (() => {\n",
              "      let quickchartButtonEl =\n",
              "        document.querySelector('#df-a98697f0-dbe3-4a64-b662-457bae1525d0 button');\n",
              "      quickchartButtonEl.style.display =\n",
              "        google.colab.kernel.accessAllowed ? 'block' : 'none';\n",
              "    })();\n",
              "  </script>\n",
              "</div>\n",
              "\n",
              "    </div>\n",
              "  </div>\n"
            ],
            "text/plain": [
              "             par_id  lexicon_count  difficult_words\n",
              "count  9.347000e+03    9347.000000      9329.000000\n",
              "mean   3.568369e+11      81.981277        21.514203\n",
              "std    3.221399e+11      63.533532        16.307358\n",
              "min    8.500328e+07       0.000000         0.000000\n",
              "25%    7.019601e+10      33.000000         9.000000\n",
              "50%    2.684380e+11      64.000000        17.000000\n",
              "75%    6.124310e+11     117.000000        30.000000\n",
              "max    1.058779e+12     653.000000       143.000000"
            ]
          },
          "execution_count": 6,
          "metadata": {},
          "output_type": "execute_result"
        }
      ],
      "source": [
        "data. describe()"
      ]
    },
    {
      "cell_type": "code",
      "execution_count": null,
      "metadata": {
        "colab": {
          "base_uri": "https://localhost:8080/"
        },
        "id": "jE3GN1UrPp-v",
        "outputId": "eff864aa-9855-48b8-cf7f-2523d3a9a7c1"
      },
      "outputs": [
        {
          "name": "stdout",
          "output_type": "stream",
          "text": [
            "<class 'pandas.core.frame.DataFrame'>\n",
            "RangeIndex: 9347 entries, 0 to 9346\n",
            "Data columns (total 8 columns):\n",
            " #   Column              Non-Null Count  Dtype  \n",
            "---  ------              --------------  -----  \n",
            " 0   par_id              9347 non-null   int64  \n",
            " 1   paragraph           9347 non-null   object \n",
            " 2   has_entity          9347 non-null   object \n",
            " 3   lexicon_count       9347 non-null   int64  \n",
            " 4   difficult_words     9329 non-null   float64\n",
            " 5   last_editor_gender  9347 non-null   object \n",
            " 6   category            9286 non-null   object \n",
            " 7   text_clarity        9 non-null      object \n",
            "dtypes: float64(1), int64(2), object(5)\n",
            "memory usage: 584.3+ KB\n"
          ]
        }
      ],
      "source": [
        "data.info()"
      ]
    },
    {
      "cell_type": "code",
      "execution_count": null,
      "metadata": {
        "colab": {
          "base_uri": "https://localhost:8080/"
        },
        "id": "k7LO3SktPtGI",
        "outputId": "794b7ec1-54c5-47ab-eff3-237843ce71c0"
      },
      "outputs": [
        {
          "data": {
            "text/plain": [
              "(9347, 8)"
            ]
          },
          "execution_count": 8,
          "metadata": {},
          "output_type": "execute_result"
        }
      ],
      "source": [
        "data.shape"
      ]
    },
    {
      "cell_type": "code",
      "execution_count": null,
      "metadata": {
        "colab": {
          "base_uri": "https://localhost:8080/"
        },
        "id": "WEjznFy2Ptt9",
        "outputId": "13765a05-5955-40f6-d740-80280fee42b0"
      },
      "outputs": [
        {
          "data": {
            "text/plain": [
              "2"
            ]
          },
          "execution_count": 9,
          "metadata": {},
          "output_type": "execute_result"
        }
      ],
      "source": [
        "data.ndim"
      ]
    },
    {
      "cell_type": "markdown",
      "metadata": {
        "id": "hkF27wHVRHxP"
      },
      "source": [
        "# Handling and Imputing msising values"
      ]
    },
    {
      "cell_type": "code",
      "execution_count": null,
      "metadata": {
        "colab": {
          "base_uri": "https://localhost:8080/"
        },
        "id": "mqA2UMk4Pu4y",
        "outputId": "1e61bef7-26bd-44fa-9da3-79e8284dbfe6"
      },
      "outputs": [
        {
          "data": {
            "text/plain": [
              "par_id                   0\n",
              "paragraph                0\n",
              "has_entity               0\n",
              "lexicon_count            0\n",
              "difficult_words         18\n",
              "last_editor_gender       0\n",
              "category                61\n",
              "text_clarity          9338\n",
              "dtype: int64"
            ]
          },
          "execution_count": 10,
          "metadata": {},
          "output_type": "execute_result"
        }
      ],
      "source": [
        "## Checking for missing values in the  dataset\n",
        "data.isnull().sum()"
      ]
    },
    {
      "cell_type": "code",
      "execution_count": null,
      "metadata": {
        "id": "GOxGhFJMWpL4"
      },
      "outputs": [],
      "source": [
        "data.dropna(subset=['difficult_words'], inplace=True)"
      ]
    },
    {
      "cell_type": "code",
      "execution_count": null,
      "metadata": {
        "colab": {
          "base_uri": "https://localhost:8080/"
        },
        "id": "RfiyFjdDWo1N",
        "outputId": "a1a7844c-aae5-47fc-f3cf-92d568db1b16"
      },
      "outputs": [
        {
          "data": {
            "text/plain": [
              "par_id                   0\n",
              "paragraph                0\n",
              "has_entity               0\n",
              "lexicon_count            0\n",
              "difficult_words          0\n",
              "last_editor_gender       0\n",
              "category                61\n",
              "text_clarity          9320\n",
              "dtype: int64"
            ]
          },
          "execution_count": 12,
          "metadata": {},
          "output_type": "execute_result"
        }
      ],
      "source": [
        "data.isnull().sum()"
      ]
    },
    {
      "cell_type": "markdown",
      "metadata": {
        "id": "4zSZ9jKYRf--"
      },
      "source": [
        "# Checking and dropping duplicates"
      ]
    },
    {
      "cell_type": "code",
      "execution_count": null,
      "metadata": {
        "colab": {
          "base_uri": "https://localhost:8080/"
        },
        "id": "h7QSBwjeRWYR",
        "outputId": "89445c06-e3ee-49f6-8a0f-670ab98e0b28"
      },
      "outputs": [
        {
          "name": "stdout",
          "output_type": "stream",
          "text": [
            "Cleaned Dataset:\n",
            "(8974, 8)\n"
          ]
        }
      ],
      "source": [
        "# Printing data after removing duplicate rows in the input parameter - 'paragraph'\n",
        "data['paragraph']=data['paragraph'].str.lower()\n",
        "clean_data = data.drop_duplicates(subset=['paragraph'])\n",
        "print(\"Cleaned Dataset:\")\n",
        "print(clean_data.shape)"
      ]
    },
    {
      "cell_type": "code",
      "execution_count": null,
      "metadata": {
        "colab": {
          "base_uri": "https://localhost:8080/"
        },
        "id": "ivghd94cB9Cv",
        "outputId": "a6e0d26b-96fc-478e-d7e8-c615a1e99529"
      },
      "outputs": [
        {
          "name": "stdout",
          "output_type": "stream",
          "text": [
            "Cleaned Dataset:\n",
            "(9, 8)\n"
          ]
        }
      ],
      "source": [
        "# Printing data after duplicate rows in the input parameter - 'has_entity'\n",
        "data['has_entity']=data['has_entity'].str.lower()\n",
        "clean_data = data.drop_duplicates(subset=['has_entity'])\n",
        "print(\"Cleaned Dataset:\")\n",
        "print(clean_data.shape)"
      ]
    },
    {
      "cell_type": "markdown",
      "metadata": {
        "id": "DXRHzGAPdbGp"
      },
      "source": [
        "# Distribution of Labels"
      ]
    },
    {
      "cell_type": "code",
      "execution_count": null,
      "metadata": {
        "colab": {
          "base_uri": "https://localhost:8080/"
        },
        "id": "Jdj0q5rlRwjE",
        "outputId": "b8405706-8fe9-45e5-f5bf-0545b828a574"
      },
      "outputs": [
        {
          "name": "stdout",
          "output_type": "stream",
          "text": [
            "Distribution of 'text_clarity' labels:\n",
            "clear_enough        5\n",
            "not_clear_enough    4\n",
            "Name: text_clarity, dtype: int64\n"
          ]
        }
      ],
      "source": [
        "print(\"Distribution of 'text_clarity' labels:\")\n",
        "print(data['text_clarity'].value_counts())"
      ]
    },
    {
      "cell_type": "code",
      "execution_count": null,
      "metadata": {
        "colab": {
          "base_uri": "https://localhost:8080/"
        },
        "id": "5yjLR3L5tcql",
        "outputId": "7c3942ae-a84f-47f9-f134-4badc08a3abc"
      },
      "outputs": [
        {
          "name": "stdout",
          "output_type": "stream",
          "text": [
            "Distribution of 'Caregory' labels:\n",
            "biographies                             2937\n",
            "philosophy                              2580\n",
            "programming                             1977\n",
            "artificial intelligence                 1560\n",
            "movies about artificial intelligence     166\n",
            "Philosophy                                13\n",
            "Biographies                               13\n",
            "Artificial intelligence                   11\n",
            "Programming                               10\n",
            "Movies about artificial intelligence       1\n",
            "Name: category, dtype: int64\n"
          ]
        }
      ],
      "source": [
        "print(\"Distribution of 'Caregory' labels:\")\n",
        "print(data['category'].value_counts())"
      ]
    },
    {
      "cell_type": "markdown",
      "metadata": {
        "id": "xAPwmtpqgq8q"
      },
      "source": [
        "# Exploratory Data Analysis"
      ]
    },
    {
      "cell_type": "code",
      "execution_count": null,
      "metadata": {
        "colab": {
          "base_uri": "https://localhost:8080/",
          "height": 430
        },
        "id": "_rrZXglZtrzK",
        "outputId": "0072f660-02b3-4dea-ef7b-7a0c89cf4eb2"
      },
      "outputs": [
        {
          "data": {
            "image/png": "[encoded data removed]",
            "text/plain": [
              "<Figure size 640x480 with 1 Axes>"
            ]
          },
          "metadata": {},
          "output_type": "display_data"
        }
      ],
      "source": [
        "# Scatter plot of 'text_clarity' parameter\n",
        "\n",
        "data.groupby('text_clarity').size().plot(kind='barh', color=sns.palettes.mpl_palette('Dark2'))\n",
        "plt.gca().spines[['top', 'right',]].set_visible(False)"
      ]
    },
    {
      "cell_type": "code",
      "execution_count": null,
      "metadata": {
        "colab": {
          "base_uri": "https://localhost:8080/"
        },
        "id": "Y0A7nsx3tpHN",
        "outputId": "33576dc7-1511-4bc5-ec5c-36ccf36855e5"
      },
      "outputs": [
        {
          "name": "stdout",
          "output_type": "stream",
          "text": [
            "\n",
            "Text Length Analysis:\n",
            "2       42\n",
            "110     31\n",
            "111     31\n",
            "112     30\n",
            "117     29\n",
            "        ..\n",
            "1472     1\n",
            "1781     1\n",
            "1150     1\n",
            "1295     1\n",
            "1275     1\n",
            "Name: paragraph, Length: 1473, dtype: int64\n",
            "0        284\n",
            "1       1039\n",
            "2        425\n",
            "3        514\n",
            "4       1235\n",
            "        ... \n",
            "9342     334\n",
            "9343    1319\n",
            "9344     616\n",
            "9345     275\n",
            "9346     492\n",
            "Name: paragraph, Length: 9329, dtype: int64\n"
          ]
        }
      ],
      "source": [
        "tl = data['paragraph'].apply(len)\n",
        "print(\"\\nText Length Analysis:\")\n",
        "print(tl.value_counts())\n",
        "#print(df[['text_clarity', 'text_length']].groupby('text_clarity').describe())\n",
        "d=pd.Series(tl)\n",
        "print(d)"
      ]
    },
    {
      "cell_type": "code",
      "execution_count": null,
      "metadata": {
        "colab": {
          "base_uri": "https://localhost:8080/",
          "height": 409
        },
        "id": "DLxJoxSVf9Du",
        "outputId": "1ec3e4a3-35bf-46a4-9a1f-730983262a67"
      },
      "outputs": [
        {
          "data": {
            "text/plain": [
              "<Axes: title={'center': 'Distribution of  Variable'}, ylabel='Count'>"
            ]
          },
          "execution_count": 19,
          "metadata": {},
          "output_type": "execute_result"
        },
        {
          "data": {
            "image/png": "[encoded data removed]",
            "text/plain": [
              "<Figure size 600x400 with 1 Axes>"
            ]
          },
          "metadata": {},
          "output_type": "display_data"
        }
      ],
      "source": [
        "plt.figure(figsize=(6,4))\n",
        "plt.title('Distribution of  Variable')\n",
        "plt.xlabel('Category')\n",
        "plt.ylabel('Count')\n",
        "d.value_counts().plot(kind='barh', color='blue')"
      ]
    },
    {
      "cell_type": "code",
      "execution_count": null,
      "metadata": {
        "id": "GRsQwKb9qXg4"
      },
      "outputs": [],
      "source": []
    },
    {
      "cell_type": "markdown",
      "metadata": {
        "id": "vSB7_p_liXWT"
      },
      "source": [
        "# Reading and Splitting data"
      ]
    },
    {
      "cell_type": "code",
      "execution_count": null,
      "metadata": {
        "id": "SljPaDB_hRVZ"
      },
      "outputs": [],
      "source": [
        "# Selecting the features and target variable\n",
        "X = data[['paragraph','has_entity']]\n",
        "Y = data[['text_clarity']]"
      ]
    },
    {
      "cell_type": "code",
      "execution_count": null,
      "metadata": {
        "colab": {
          "base_uri": "https://localhost:8080/"
        },
        "id": "ua4DggVTiwfk",
        "outputId": "1490b3b1-3bf8-41ff-cbf1-57867b3c9fa0"
      },
      "outputs": [
        {
          "name": "stdout",
          "output_type": "stream",
          "text": [
            "paragraph     0\n",
            "has_entity    0\n",
            "dtype: int64\n",
            "text_clarity    9320\n",
            "dtype: int64\n",
            "text_clarity    \n",
            "clear_enough        5\n",
            "not_clear_enough    4\n",
            "dtype: int64\n"
          ]
        }
      ],
      "source": [
        "print(X.isna().sum())\n",
        "print(Y.isna().sum())\n",
        "print(Y.value_counts())"
      ]
    },
    {
      "cell_type": "code",
      "execution_count": null,
      "metadata": {
        "colab": {
          "base_uri": "https://localhost:8080/"
        },
        "id": "ISv5XKlPFNLI",
        "outputId": "0161077a-e16a-4ed7-d6c2-23cac8411578"
      },
      "outputs": [
        {
          "name": "stdout",
          "output_type": "stream",
          "text": [
            "                                              paragraph  \\\n",
            "0     ramsay was born in glasgow on 2 october 1852. ...   \n",
            "1     it has been widely estimated for at least the ...   \n",
            "2     he went on to win the royal medal of the royal...   \n",
            "3     the changes have altered many underlying assum...   \n",
            "4     after these novels were published, disraeli de...   \n",
            "...                                                 ...   \n",
            "9324  sir joseph dalton hooker  was a british botani...   \n",
            "9325  as successful invasions of india generally cam...   \n",
            "9326  hawking was born on 8 january 1942 in oxford t...   \n",
            "9327  more complex tasks can be making custom data e...   \n",
            "9328  governments, and especially the police and cou...   \n",
            "\n",
            "                           has_entity  \n",
            "0      org_yes_product_no_person_yes_  \n",
            "1       org_yes_product_no_person_no_  \n",
            "2       org_yes_product_no_person_no_  \n",
            "3       org_no_product_yes_person_no_  \n",
            "4     org_yes_product_yes_person_yes_  \n",
            "...                               ...  \n",
            "9324   org_yes_product_no_person_yes_  \n",
            "9325   org_yes_product_no_person_yes_  \n",
            "9326   org_yes_product_no_person_yes_  \n",
            "9327    org_yes_product_no_person_no_  \n",
            "9328     org_no_product_no_person_no_  \n",
            "\n",
            "[9329 rows x 2 columns]\n"
          ]
        }
      ],
      "source": [
        "# Instantiate the SimpleImputer with a strategy (e.g., most_frequent)\n",
        "imputer = SimpleImputer(strategy='most_frequent')\n",
        "\n",
        "# Fit and transform the selected columns\n",
        "X_impute = pd.DataFrame(imputer.fit_transform(X), columns=X.columns)\n",
        "#Y_impute = pd.DataFrame(imputer.fit_transform(Y), columns=X.columns)\n",
        "# Display the DataFrame with imputed values\n",
        "print(X_impute)\n",
        "#print(Y_impute)"
      ]
    },
    {
      "cell_type": "code",
      "execution_count": null,
      "metadata": {
        "id": "xRtoAza9i1GS"
      },
      "outputs": [],
      "source": [
        "# Splitting data in the ratio 80:20% for training and testing\n",
        "train_X, test_X, train_Y, test_Y = train_test_split(X, Y, test_size=0.3, random_state=42, shuffle=True)"
      ]
    },
    {
      "cell_type": "code",
      "execution_count": null,
      "metadata": {
        "colab": {
          "base_uri": "https://localhost:8080/"
        },
        "id": "etlPrRBQ3xtJ",
        "outputId": "fe0868e8-2580-43da-c790-7a87048096db"
      },
      "outputs": [
        {
          "name": "stdout",
          "output_type": "stream",
          "text": [
            "(6530, 2)\n",
            "(2799, 2)\n",
            "(6530, 1)\n",
            "(2799, 1)\n",
            "\n",
            "                                              paragraph  \\\n",
            "894   bloch won the nobel prize in physiology or med...   \n",
            "6960  free will is a major problem in ethical philos...   \n",
            "1851  newcomb's paradox is related to logical fatali...   \n",
            "8159  transtheism, refers to a system of thought or ...   \n",
            "3897  in october 1791 soane was appointed clerk of w...   \n",
            "325   in a letter dated 16 september 1855, lister re...   \n",
            "1216  in prolog, program logic is expressed in terms...   \n",
            "9211  in december 1837, the hanoverian government di...   \n",
            "6334  isaac newton affirmed his belief in the truth ...   \n",
            "5308  unlike some object-oriented languages, actions...   \n",
            "\n",
            "                           has_entity  \n",
            "894     org_no_product_no_person_yes_  \n",
            "6960     org_no_product_no_person_no_  \n",
            "1851    org_no_product_no_person_yes_  \n",
            "8159     org_no_product_no_person_no_  \n",
            "3897   org_yes_product_no_person_yes_  \n",
            "325     org_no_product_no_person_yes_  \n",
            "1216   org_yes_product_no_person_yes_  \n",
            "9211  org_yes_product_yes_person_yes_  \n",
            "6334   org_yes_product_no_person_yes_  \n",
            "5308   org_yes_product_no_person_yes_  \n"
          ]
        }
      ],
      "source": [
        "print(train_X.shape)\n",
        "print(test_X.shape)\n",
        "print(train_Y.shape)\n",
        "print(test_Y.shape)\n",
        "print()\n",
        "print(train_X.head(10))"
      ]
    },
    {
      "cell_type": "code",
      "execution_count": null,
      "metadata": {
        "colab": {
          "base_uri": "https://localhost:8080/"
        },
        "id": "iPcevKtw4Euu",
        "outputId": "408c1965-ba55-476a-b2e2-c2553a4511e6"
      },
      "outputs": [
        {
          "name": "stdout",
          "output_type": "stream",
          "text": [
            "                                              paragraph  \\\n",
            "894   bloch won the nobel prize in physiology or med...   \n",
            "6960  free will is a major problem in ethical philos...   \n",
            "1851  newcomb's paradox is related to logical fatali...   \n",
            "8159  transtheism, refers to a system of thought or ...   \n",
            "3897  in october 1791 soane was appointed clerk of w...   \n",
            "...                                                 ...   \n",
            "5739  with the improvement of 3g and lte internet co...   \n",
            "5196  identity does actually have valid uses though,...   \n",
            "5395  the cpu knows what machine code to execute, ba...   \n",
            "861   socrates here argues that while the materials ...   \n",
            "7279  the goback statement is a return statement and...   \n",
            "\n",
            "                          has_entity      manual_label  \n",
            "894    org_no_product_no_person_yes_  not_clear_enough  \n",
            "6960    org_no_product_no_person_no_  not_clear_enough  \n",
            "1851   org_no_product_no_person_yes_  not_clear_enough  \n",
            "8159    org_no_product_no_person_no_  not_clear_enough  \n",
            "3897  org_yes_product_no_person_yes_  not_clear_enough  \n",
            "...                              ...               ...  \n",
            "5739    org_no_product_no_person_no_                    \n",
            "5196    org_no_product_no_person_no_                    \n",
            "5395   org_yes_product_no_person_no_                    \n",
            "861     org_no_product_no_person_no_                    \n",
            "7279   org_yes_product_no_person_no_                    \n",
            "\n",
            "[6530 rows x 3 columns]\n"
          ]
        }
      ],
      "source": [
        "# Labelling dataset based on parameter\n",
        "train_X['manual_label'] = ''\n",
        "count=0\n",
        "\n",
        "# Drop rows with missing values in the entire dataset\n",
        "train_X = train_X.dropna()\n",
        "test_X = test_X.dropna()\n",
        "\n",
        "\n",
        "# Manually labelling paragraphs based on 'has_entity' conditions\n",
        "for index, row in train_X.iterrows():\n",
        "    has_org = 'ORG_YES' in row['has_entity']\n",
        "    has_product = 'PRODUCT_YES' in row['has_entity']\n",
        "    has_person = 'PERSON_YES' in row['has_entity']\n",
        "\n",
        "    if (has_org and has_product) or (has_org and has_person) or (has_product and has_person):\n",
        "        train_X.at[index, 'manual_label'] = 'clear_enough'\n",
        "    elif not has_org and not has_product and not has_person:\n",
        "        train_X.at[index, 'manual_label'] = 'not_clear_enough'\n",
        "    elif has_org and has_product and has_person:\n",
        "        train_X.at[index, 'manual_label'] = 'clear_enough'\n",
        "    else:\n",
        "        train_X.at[index, 'manual_label'] = 'clear_enough'\n",
        "\n",
        "    count+=1\n",
        "\n",
        "    if count == 100:\n",
        "        break\n",
        "\n",
        "# Display the labeled DataFrame\n",
        "print(train_X[['paragraph', 'has_entity', 'manual_label']])"
      ]
    },
    {
      "cell_type": "code",
      "execution_count": null,
      "metadata": {
        "colab": {
          "base_uri": "https://localhost:8080/"
        },
        "id": "MO8Au2JnFtMf",
        "outputId": "a158a7b6-049e-431f-c236-330a722b7d55"
      },
      "outputs": [
        {
          "name": "stdout",
          "output_type": "stream",
          "text": [
            "                                              paragraph  \\\n",
            "4766  in the 1930s huxley visited kenya and other ea...   \n",
            "2254  the kural text and its author have been highly...   \n",
            "4890  following the death of their father, william s...   \n",
            "1374  in both cases, it is assumed that the training...   \n",
            "1011  in the open society and its enemies and the po...   \n",
            "...                                                 ...   \n",
            "8457  swarm grammars are swarms of stochastic gramma...   \n",
            "2265  newman's studies were interrupted by world war...   \n",
            "5077   the \"better\" solution is only in comparison t...   \n",
            "3642  in 2020, marega et al. published experiments w...   \n",
            "3706  the following program illustrates dynamic memo...   \n",
            "\n",
            "                           has_entity      manual_label  \n",
            "4766    org_no_product_no_person_yes_  not_clear_enough  \n",
            "2254  org_yes_product_yes_person_yes_  not_clear_enough  \n",
            "4890   org_yes_product_no_person_yes_  not_clear_enough  \n",
            "1374     org_no_product_no_person_no_  not_clear_enough  \n",
            "1011    org_yes_product_no_person_no_  not_clear_enough  \n",
            "...                               ...               ...  \n",
            "8457     org_no_product_no_person_no_                    \n",
            "2265   org_yes_product_no_person_yes_                    \n",
            "5077     org_no_product_no_person_no_                    \n",
            "3642   org_yes_product_no_person_yes_                    \n",
            "3706     org_no_product_no_person_no_                    \n",
            "\n",
            "[2799 rows x 3 columns]\n"
          ]
        }
      ],
      "source": [
        "# Manually labelling paragraphs based on 'has_entity' conditions\n",
        "\n",
        "test_X['manual_label'] = ''\n",
        "count=0\n",
        "\n",
        "for index, row in test_X.iterrows():\n",
        "    has_org = 'ORG_YES' in row['has_entity']\n",
        "    has_product = 'PRODUCT_YES' in row['has_entity']\n",
        "    has_person = 'PERSON_YES' in row['has_entity']\n",
        "\n",
        "    if (has_org and has_product) or (has_org and has_person) or (has_product and has_person):\n",
        "        test_X.at[index, 'manual_label'] = 'not_clear_enough'\n",
        "    elif not has_org and not has_product and not has_person:\n",
        "        test_X.at[index, 'manual_label'] = 'not_clear_enough'\n",
        "    elif has_org and has_product and has_person:\n",
        "        test_X.at[index, 'manual_label'] = 'not_clear_enough'\n",
        "    else:\n",
        "        test_X.at[index, 'manual_label'] = 'clear_enough'\n",
        "\n",
        "    count+=1\n",
        "\n",
        "    if count == 100:\n",
        "        break\n",
        "\n",
        "# Display the labeled DataFrame\n",
        "print(test_X[['paragraph', 'has_entity', 'manual_label']])"
      ]
    },
    {
      "cell_type": "markdown",
      "metadata": {
        "id": "Evc1BDo0BbLK"
      },
      "source": [
        "# Encoding the categorical data\n"
      ]
    },
    {
      "cell_type": "code",
      "execution_count": null,
      "metadata": {
        "id": "whlLt5Mn9Zyi"
      },
      "outputs": [],
      "source": [
        "# Using Label Encoder for encoding the categorical data\n",
        "label_encoder = LabelEncoder()\n",
        "train_Y_encoded = label_encoder.fit_transform(train_X['manual_label'])\n",
        "test_Y_encoded = label_encoder.transform(test_X['manual_label'])"
      ]
    },
    {
      "cell_type": "code",
      "execution_count": null,
      "metadata": {
        "id": "qtHhv6GkBe07"
      },
      "outputs": [],
      "source": [
        "## Text Vectorization\n",
        "vectorizer = TfidfVectorizer()\n",
        "train_X_vector = vectorizer.fit_transform(train_X['paragraph'])\n",
        "test_X_vector = vectorizer.transform(test_X['paragraph'])"
      ]
    },
    {
      "cell_type": "code",
      "execution_count": null,
      "metadata": {
        "id": "kPb9iIZVJzRC"
      },
      "outputs": [],
      "source": [
        "# Target variable\n",
        "train_Y = train_Y_encoded\n",
        "test_Y = test_Y_encoded"
      ]
    },
    {
      "cell_type": "code",
      "execution_count": null,
      "metadata": {
        "colab": {
          "base_uri": "https://localhost:8080/"
        },
        "id": "n4TBl90MBhBE",
        "outputId": "5ab8c599-01b6-4320-a30f-109727780482"
      },
      "outputs": [
        {
          "name": "stdout",
          "output_type": "stream",
          "text": [
            "Accuracy with Logistic Regression: 0.96\n"
          ]
        }
      ],
      "source": [
        "## Using logistic regression machine learning algorithm\n",
        "\n",
        "# Setting up the Logistic Regression Classifier\n",
        "logistic_regression = LogisticRegression(random_state=42)\n",
        "\n",
        "# Training the Model\n",
        "logistic_regression.fit(train_X_vector, train_Y)\n",
        "\n",
        "# Making Predictions with Logistic Regression\n",
        "pred_Y_logistic = logistic_regression.predict(test_X_vector)\n",
        "\n",
        "# Displaying Accuracy\n",
        "accuracy_logistic = accuracy_score(test_Y, pred_Y_logistic)\n",
        "print(f'Accuracy with Logistic Regression: {accuracy_logistic:.2f}')"
      ]
    },
    {
      "cell_type": "code",
      "execution_count": null,
      "metadata": {
        "colab": {
          "base_uri": "https://localhost:8080/"
        },
        "id": "BFi41YBDoC6H",
        "outputId": "b03bf4d9-8aec-4280-ee6d-3ef24d84522d"
      },
      "outputs": [
        {
          "name": "stdout",
          "output_type": "stream",
          "text": [
            "Accuracy with Multinomial Naive Bayes Classifier: 0.96\n"
          ]
        }
      ],
      "source": [
        "# Using Multinomial algorithm\n",
        "from sklearn.naive_bayes import MultinomialNB\n",
        "\n",
        "# Setting up the Multinomial Naive Bayes Classifier\n",
        "multinomial_classifier = MultinomialNB()\n",
        "\n",
        "# Training the Model\n",
        "multinomial_classifier.fit(train_X_vector, train_Y)\n",
        "\n",
        "# Making Predictions with Multinomial Naive Bayes Classifier\n",
        "pred_Y_multinomial = multinomial_classifier.predict(test_X_vector)\n",
        "\n",
        "# Displaying Accuracy\n",
        "accuracy_multinomial = accuracy_score(test_Y, pred_Y_multinomial)\n",
        "print(f'Accuracy with Multinomial Naive Bayes Classifier: {accuracy_multinomial:.2f}')"
      ]
    },
    {
      "cell_type": "code",
      "execution_count": null,
      "metadata": {
        "colab": {
          "base_uri": "https://localhost:8080/"
        },
        "id": "FlcPSjzq1A-N",
        "outputId": "9bca05eb-65d2-41f0-a28f-e66360ef84a7"
      },
      "outputs": [
        {
          "name": "stdout",
          "output_type": "stream",
          "text": [
            "Best Hyperparameters: {'alpha': 2.0}\n",
            "Best Accuracy: 0.9846860643185298\n"
          ]
        }
      ],
      "source": [
        "# Define the hyperparameters grid\n",
        "param_grid = {\n",
        "    'alpha': [0.1, 0.5, 1.0, 2.0]\n",
        "}\n",
        "\n",
        "# Initialize the Multinomial Naive Bayes Classifier\n",
        "multinomial_classifier = MultinomialNB()\n",
        "\n",
        "# Initialize Grid Search Cross-Validation\n",
        "grid_search = GridSearchCV(estimator=multinomial_classifier, param_grid=param_grid, cv=5, scoring='accuracy', n_jobs=-1)\n",
        "\n",
        "# Perform Grid Search Cross-Validation\n",
        "grid_search.fit(train_X_vector, train_Y)\n",
        "\n",
        "# Get the best parameters and best score\n",
        "best_params = grid_search.best_params_\n",
        "best_score = grid_search.best_score_\n",
        "\n",
        "print(\"Best Hyperparameters:\", best_params)\n",
        "print(\"Best Accuracy:\", best_score)"
      ]
    },
    {
      "cell_type": "code",
      "execution_count": null,
      "metadata": {
        "colab": {
          "base_uri": "https://localhost:8080/"
        },
        "id": "ycsTecd21Qwz",
        "outputId": "98eb5ca9-ec5f-4b36-e5e3-5ad39b953531"
      },
      "outputs": [
        {
          "name": "stdout",
          "output_type": "stream",
          "text": [
            "Hyperparameter Tuning Results:\n",
            "  param_alpha  mean_test_score\n",
            "3         2.0         0.984686\n",
            "2         1.0         0.984533\n",
            "1         0.5         0.984380\n",
            "0         0.1         0.981930\n"
          ]
        }
      ],
      "source": [
        "# Get the hyperparameters and their corresponding mean test scores\n",
        "results = pd.DataFrame(grid_search.cv_results_)[['param_alpha', 'mean_test_score']]\n",
        "\n",
        "# Sort the results by mean test score in descending order\n",
        "results.sort_values(by='mean_test_score', ascending=False, inplace=True)\n",
        "\n",
        "# Display the results as a table\n",
        "print(\"Hyperparameter Tuning Results:\")\n",
        "print(results)"
      ]
    },
    {
      "cell_type": "markdown",
      "metadata": {
        "id": "v0A4zMn-10Zi"
      },
      "source": [
        "# Confusion Matrix"
      ]
    },
    {
      "cell_type": "code",
      "execution_count": null,
      "metadata": {
        "colab": {
          "base_uri": "https://localhost:8080/"
        },
        "id": "s_NjnRvvNBrr",
        "outputId": "c1db14b7-8c3e-4f62-d4f9-27e5b3a514bd"
      },
      "outputs": [
        {
          "name": "stdout",
          "output_type": "stream",
          "text": [
            "Confusion Matrix:\n",
            "[[2699    0]\n",
            " [ 100    0]]\n"
          ]
        }
      ],
      "source": [
        "conf_matrix = confusion_matrix(test_Y, pred_Y_logistic)\n",
        "print(\"Confusion Matrix:\")\n",
        "print(conf_matrix)"
      ]
    },
    {
      "cell_type": "markdown",
      "metadata": {
        "id": "6b7KShSo1nyc"
      },
      "source": [
        "# Classification Report"
      ]
    },
    {
      "cell_type": "code",
      "execution_count": null,
      "metadata": {
        "colab": {
          "base_uri": "https://localhost:8080/"
        },
        "id": "AGEywjmx1hIq",
        "outputId": "95667524-f621-44eb-9843-b4e4d6385b15"
      },
      "outputs": [
        {
          "name": "stdout",
          "output_type": "stream",
          "text": [
            "Classification Report:\n",
            "              precision    recall  f1-score   support\n",
            "\n",
            "           0       0.96      1.00      0.98      2699\n",
            "           1       0.00      0.00      0.00       100\n",
            "\n",
            "    accuracy                           0.96      2799\n",
            "   macro avg       0.48      0.50      0.49      2799\n",
            "weighted avg       0.93      0.96      0.95      2799\n",
            "\n"
          ]
        },
        {
          "name": "stderr",
          "output_type": "stream",
          "text": [
            "/usr/local/lib/python3.10/dist-packages/sklearn/metrics/_classification.py:1344: UndefinedMetricWarning: Precision and F-score are ill-defined and being set to 0.0 in labels with no predicted samples. Use `zero_division` parameter to control this behavior.\n",
            "  _warn_prf(average, modifier, msg_start, len(result))\n",
            "/usr/local/lib/python3.10/dist-packages/sklearn/metrics/_classification.py:1344: UndefinedMetricWarning: Precision and F-score are ill-defined and being set to 0.0 in labels with no predicted samples. Use `zero_division` parameter to control this behavior.\n",
            "  _warn_prf(average, modifier, msg_start, len(result))\n",
            "/usr/local/lib/python3.10/dist-packages/sklearn/metrics/_classification.py:1344: UndefinedMetricWarning: Precision and F-score are ill-defined and being set to 0.0 in labels with no predicted samples. Use `zero_division` parameter to control this behavior.\n",
            "  _warn_prf(average, modifier, msg_start, len(result))\n"
          ]
        }
      ],
      "source": [
        "class_report = classification_report(test_Y, pred_Y_logistic)\n",
        "print(\"Classification Report:\")\n",
        "print(class_report)"
      ]
    },
    {
      "cell_type": "code",
      "execution_count": null,
      "metadata": {
        "colab": {
          "base_uri": "https://localhost:8080/"
        },
        "id": "TqBx4pEKNvij",
        "outputId": "7e82b45a-2d6d-4f64-f607-bf44cf181e73"
      },
      "outputs": [
        {
          "name": "stdout",
          "output_type": "stream",
          "text": [
            "Majority Baseline Accuracy: 0.5016077170418006\n"
          ]
        }
      ],
      "source": [
        "from sklearn.dummy import DummyClassifier\n",
        "\n",
        "# Creating a DummyClassifier with strategy 'most_frequent'\n",
        "maj_clf = DummyClassifier(strategy=\"uniform\")\n",
        "\n",
        "# Training the DummyClassifier on the training data\n",
        "maj_clf.fit(train_X, train_Y)\n",
        "\n",
        "# Predicting the majority class for all samples in the test set\n",
        "maj_pred = maj_clf.predict(test_X)\n",
        "\n",
        "# Calculating the accuracy of the majority trivial baseline\n",
        "majority_accuracy = accuracy_score(test_Y, maj_pred)\n",
        "print(\"Majority Baseline Accuracy:\", majority_accuracy)"
      ]
    },
    {
      "cell_type": "code",
      "execution_count": null,
      "metadata": {
        "colab": {
          "base_uri": "https://localhost:8080/"
        },
        "id": "fCKzS4nVUigE",
        "outputId": "555ed404-3301-450f-f61a-a18294698995"
      },
      "outputs": [
        {
          "name": "stdout",
          "output_type": "stream",
          "text": [
            "Train Accuracy: 0.98\n",
            "Test Accuracy: 0.96\n",
            "The model does not appear to be overfitting.\n"
          ]
        }
      ],
      "source": [
        "# Instantiate the Multinomial Naive Bayes Classifier\n",
        "multinomial_classifier = MultinomialNB()\n",
        "\n",
        "# Fit the model to the training data\n",
        "multinomial_classifier.fit(train_X_vector, train_Y)\n",
        "\n",
        "# Make predictions on the training and test data\n",
        "train_pred = multinomial_classifier.predict(train_X_vector)\n",
        "test_pred = multinomial_classifier.predict(test_X_vector)\n",
        "\n",
        "# Calculate accuracy on train and test data\n",
        "train_accuracy = accuracy_score(train_Y, train_pred)\n",
        "test_accuracy = accuracy_score(test_Y, test_pred)\n",
        "\n",
        "print(f\"Train Accuracy: {train_accuracy:.2f}\")\n",
        "print(f\"Test Accuracy: {test_accuracy:.2f}\")\n",
        "\n",
        "# Check for overfitting\n",
        "if abs(train_accuracy - test_accuracy) > 0.05:\n",
        "    print(\"The model may be overfitting.\")\n",
        "else:\n",
        "    print(\"The model does not appear to be overfitting.\")"
      ]
    }
  ],
  "metadata": {
    "colab": {
      "provenance": []
    },
    "kernelspec": {
      "display_name": "Python 3",
      "name": "python3"
    },
    "language_info": {
      "name": "python"
    }
  },
  "nbformat": 4,
  "nbformat_minor": 0
}
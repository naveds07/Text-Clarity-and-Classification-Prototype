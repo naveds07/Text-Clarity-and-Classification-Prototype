{
  "nbformat": 4,
  "nbformat_minor": 0,
  "metadata": {
    "colab": {
      "provenance": []
    },
    "kernelspec": {
      "name": "python3",
      "display_name": "Python 3"
    },
    "language_info": {
      "name": "python"
    }
  },
  "cells": [
    {
      "cell_type": "code",
      "execution_count": 65,
      "metadata": {
        "colab": {
          "base_uri": "https://localhost:8080/"
        },
        "id": "rRn5-wizGNQ7",
        "outputId": "406928ae-2d81-4b64-b198-2328c403ab62"
      },
      "outputs": [
        {
          "output_type": "stream",
          "name": "stdout",
          "text": [
            "Requirement already satisfied: spacy in /usr/local/lib/python3.10/dist-packages (3.7.4)\n",
            "Requirement already satisfied: spacy-legacy<3.1.0,>=3.0.11 in /usr/local/lib/python3.10/dist-packages (from spacy) (3.0.12)\n",
            "Requirement already satisfied: spacy-loggers<2.0.0,>=1.0.0 in /usr/local/lib/python3.10/dist-packages (from spacy) (1.0.5)\n",
            "Requirement already satisfied: murmurhash<1.1.0,>=0.28.0 in /usr/local/lib/python3.10/dist-packages (from spacy) (1.0.10)\n",
            "Requirement already satisfied: cymem<2.1.0,>=2.0.2 in /usr/local/lib/python3.10/dist-packages (from spacy) (2.0.8)\n",
            "Requirement already satisfied: preshed<3.1.0,>=3.0.2 in /usr/local/lib/python3.10/dist-packages (from spacy) (3.0.9)\n",
            "Requirement already satisfied: thinc<8.3.0,>=8.2.2 in /usr/local/lib/python3.10/dist-packages (from spacy) (8.2.3)\n",
            "Requirement already satisfied: wasabi<1.2.0,>=0.9.1 in /usr/local/lib/python3.10/dist-packages (from spacy) (1.1.2)\n",
            "Requirement already satisfied: srsly<3.0.0,>=2.4.3 in /usr/local/lib/python3.10/dist-packages (from spacy) (2.4.8)\n",
            "Requirement already satisfied: catalogue<2.1.0,>=2.0.6 in /usr/local/lib/python3.10/dist-packages (from spacy) (2.0.10)\n",
            "Requirement already satisfied: weasel<0.4.0,>=0.1.0 in /usr/local/lib/python3.10/dist-packages (from spacy) (0.3.4)\n",
            "Requirement already satisfied: typer<0.10.0,>=0.3.0 in /usr/local/lib/python3.10/dist-packages (from spacy) (0.9.0)\n",
            "Requirement already satisfied: smart-open<7.0.0,>=5.2.1 in /usr/local/lib/python3.10/dist-packages (from spacy) (6.4.0)\n",
            "Requirement already satisfied: tqdm<5.0.0,>=4.38.0 in /usr/local/lib/python3.10/dist-packages (from spacy) (4.66.2)\n",
            "Requirement already satisfied: requests<3.0.0,>=2.13.0 in /usr/local/lib/python3.10/dist-packages (from spacy) (2.31.0)\n",
            "Requirement already satisfied: pydantic!=1.8,!=1.8.1,<3.0.0,>=1.7.4 in /usr/local/lib/python3.10/dist-packages (from spacy) (2.6.3)\n",
            "Requirement already satisfied: jinja2 in /usr/local/lib/python3.10/dist-packages (from spacy) (3.1.3)\n",
            "Requirement already satisfied: setuptools in /usr/local/lib/python3.10/dist-packages (from spacy) (67.7.2)\n",
            "Requirement already satisfied: packaging>=20.0 in /usr/local/lib/python3.10/dist-packages (from spacy) (23.2)\n",
            "Requirement already satisfied: langcodes<4.0.0,>=3.2.0 in /usr/local/lib/python3.10/dist-packages (from spacy) (3.3.0)\n",
            "Requirement already satisfied: numpy>=1.19.0 in /usr/local/lib/python3.10/dist-packages (from spacy) (1.25.2)\n",
            "Requirement already satisfied: annotated-types>=0.4.0 in /usr/local/lib/python3.10/dist-packages (from pydantic!=1.8,!=1.8.1,<3.0.0,>=1.7.4->spacy) (0.6.0)\n",
            "Requirement already satisfied: pydantic-core==2.16.3 in /usr/local/lib/python3.10/dist-packages (from pydantic!=1.8,!=1.8.1,<3.0.0,>=1.7.4->spacy) (2.16.3)\n",
            "Requirement already satisfied: typing-extensions>=4.6.1 in /usr/local/lib/python3.10/dist-packages (from pydantic!=1.8,!=1.8.1,<3.0.0,>=1.7.4->spacy) (4.10.0)\n",
            "Requirement already satisfied: charset-normalizer<4,>=2 in /usr/local/lib/python3.10/dist-packages (from requests<3.0.0,>=2.13.0->spacy) (3.3.2)\n",
            "Requirement already satisfied: idna<4,>=2.5 in /usr/local/lib/python3.10/dist-packages (from requests<3.0.0,>=2.13.0->spacy) (3.6)\n",
            "Requirement already satisfied: urllib3<3,>=1.21.1 in /usr/local/lib/python3.10/dist-packages (from requests<3.0.0,>=2.13.0->spacy) (2.0.7)\n",
            "Requirement already satisfied: certifi>=2017.4.17 in /usr/local/lib/python3.10/dist-packages (from requests<3.0.0,>=2.13.0->spacy) (2024.2.2)\n",
            "Requirement already satisfied: blis<0.8.0,>=0.7.8 in /usr/local/lib/python3.10/dist-packages (from thinc<8.3.0,>=8.2.2->spacy) (0.7.11)\n",
            "Requirement already satisfied: confection<1.0.0,>=0.0.1 in /usr/local/lib/python3.10/dist-packages (from thinc<8.3.0,>=8.2.2->spacy) (0.1.4)\n",
            "Requirement already satisfied: click<9.0.0,>=7.1.1 in /usr/local/lib/python3.10/dist-packages (from typer<0.10.0,>=0.3.0->spacy) (8.1.7)\n",
            "Requirement already satisfied: cloudpathlib<0.17.0,>=0.7.0 in /usr/local/lib/python3.10/dist-packages (from weasel<0.4.0,>=0.1.0->spacy) (0.16.0)\n",
            "Requirement already satisfied: MarkupSafe>=2.0 in /usr/local/lib/python3.10/dist-packages (from jinja2->spacy) (2.1.5)\n"
          ]
        }
      ],
      "source": [
        "# Importing all necessary libraries required for this coursework\n",
        "\n",
        "import numpy as np\n",
        "import pandas as pd\n",
        "import seaborn as sns\n",
        "import matplotlib.pyplot as plt\n",
        "import nltk\n",
        "from nltk.tokenize import word_tokenize\n",
        "from sklearn.impute import SimpleImputer\n",
        "from sklearn.preprocessing import OneHotEncoder, LabelEncoder, StandardScaler\n",
        "from imblearn.over_sampling import RandomOverSampler, SMOTE\n",
        "from sklearn.datasets import load_iris\n",
        "from sklearn.linear_model import LogisticRegression\n",
        "from sklearn.naive_bayes import MultinomialNB\n",
        "from sklearn.pipeline import Pipeline\n",
        "from sklearn.model_selection import train_test_split, GridSearchCV\n",
        "from sklearn.feature_extraction.text import TfidfVectorizer, CountVectorizer\n",
        "from sklearn.metrics import accuracy_score, precision_score, recall_score, f1_score, roc_auc_score, confusion_matrix, classification_report\n",
        "from sklearn.compose import ColumnTransformer\n",
        "from sklearn.ensemble import RandomForestClassifier\n",
        "from scipy.stats import zscore\n",
        "from sklearn.metrics import accuracy_score\n",
        "\n",
        "!pip install --upgrade spacy"
      ]
    },
    {
      "cell_type": "code",
      "source": [
        "data = pd.read_csv('comp1804_coursework_dataset_23-24.csv')\n",
        "data"
      ],
      "metadata": {
        "colab": {
          "base_uri": "https://localhost:8080/",
          "height": 1000
        },
        "id": "ZQKj7xHWGUHM",
        "outputId": "358ba74a-360d-455b-dcf8-2e2b5e1b10e9"
      },
      "execution_count": 66,
      "outputs": [
        {
          "output_type": "execute_result",
          "data": {
            "text/plain": [
              "            par_id                                          paragraph  \\\n",
              "0     428209002237  Ramsay was born in Glasgow on 2 October 1852. ...   \n",
              "1     564218010072  It has been widely estimated for at least the ...   \n",
              "2     291401001672  He went on to win the Royal Medal of the Royal...   \n",
              "3      31548004883  The changes have altered many underlying assum...   \n",
              "4      50634005146  After these novels were published, Disraeli de...   \n",
              "...            ...                                                ...   \n",
              "9342  200523007578  Sir Joseph Dalton Hooker  was a British botani...   \n",
              "9343   50634005203  As successful invasions of India generally cam...   \n",
              "9344    6437003939  Hawking was born on 8 January 1942 in Oxford t...   \n",
              "9345  725259002815  More complex tasks can be making custom data e...   \n",
              "9346  109126000894  Governments, and especially the police and cou...   \n",
              "\n",
              "                           has_entity  lexicon_count  difficult_words  \\\n",
              "0      ORG_YES_PRODUCT_NO_PERSON_YES_             49             12.0   \n",
              "1       ORG_YES_PRODUCT_NO_PERSON_NO_            166             47.0   \n",
              "2       ORG_YES_PRODUCT_NO_PERSON_NO_             69             18.0   \n",
              "3       ORG_NO_PRODUCT_YES_PERSON_NO_             76             27.0   \n",
              "4     ORG_YES_PRODUCT_YES_PERSON_YES_            200             47.0   \n",
              "...                               ...            ...              ...   \n",
              "9342   ORG_YES_PRODUCT_NO_PERSON_YES_             54             16.0   \n",
              "9343   ORG_YES_PRODUCT_NO_PERSON_YES_            217             46.0   \n",
              "9344   ORG_YES_PRODUCT_NO_PERSON_YES_             91             27.0   \n",
              "9345    ORG_YES_PRODUCT_NO_PERSON_NO_             47             15.0   \n",
              "9346     ORG_NO_PRODUCT_NO_PERSON_NO_             87              8.0   \n",
              "\n",
              "     last_editor_gender                 category      text_clarity  \n",
              "0                   man              biographies      clear_enough  \n",
              "1                   man  artificial intelligence  not_clear_enough  \n",
              "2            non-binary              biographies      clear_enough  \n",
              "3            non-binary              programming      clear_enough  \n",
              "4                   man              biographies  not_clear_enough  \n",
              "...                 ...                      ...               ...  \n",
              "9342                man              biographies               NaN  \n",
              "9343              woman              biographies               NaN  \n",
              "9344              woman              biographies               NaN  \n",
              "9345                man              programming               NaN  \n",
              "9346                man               philosophy               NaN  \n",
              "\n",
              "[9347 rows x 8 columns]"
            ],
            "text/html": [
              "\n",
              "  <div id=\"df-1cc12d60-e9f5-44db-98e1-4e9e8f4b3888\" class=\"colab-df-container\">\n",
              "    <div>\n",
              "<style scoped>\n",
              "    .dataframe tbody tr th:only-of-type {\n",
              "        vertical-align: middle;\n",
              "    }\n",
              "\n",
              "    .dataframe tbody tr th {\n",
              "        vertical-align: top;\n",
              "    }\n",
              "\n",
              "    .dataframe thead th {\n",
              "        text-align: right;\n",
              "    }\n",
              "</style>\n",
              "<table border=\"1\" class=\"dataframe\">\n",
              "  <thead>\n",
              "    <tr style=\"text-align: right;\">\n",
              "      <th></th>\n",
              "      <th>par_id</th>\n",
              "      <th>paragraph</th>\n",
              "      <th>has_entity</th>\n",
              "      <th>lexicon_count</th>\n",
              "      <th>difficult_words</th>\n",
              "      <th>last_editor_gender</th>\n",
              "      <th>category</th>\n",
              "      <th>text_clarity</th>\n",
              "    </tr>\n",
              "  </thead>\n",
              "  <tbody>\n",
              "    <tr>\n",
              "      <th>0</th>\n",
              "      <td>428209002237</td>\n",
              "      <td>Ramsay was born in Glasgow on 2 October 1852. ...</td>\n",
              "      <td>ORG_YES_PRODUCT_NO_PERSON_YES_</td>\n",
              "      <td>49</td>\n",
              "      <td>12.0</td>\n",
              "      <td>man</td>\n",
              "      <td>biographies</td>\n",
              "      <td>clear_enough</td>\n",
              "    </tr>\n",
              "    <tr>\n",
              "      <th>1</th>\n",
              "      <td>564218010072</td>\n",
              "      <td>It has been widely estimated for at least the ...</td>\n",
              "      <td>ORG_YES_PRODUCT_NO_PERSON_NO_</td>\n",
              "      <td>166</td>\n",
              "      <td>47.0</td>\n",
              "      <td>man</td>\n",
              "      <td>artificial intelligence</td>\n",
              "      <td>not_clear_enough</td>\n",
              "    </tr>\n",
              "    <tr>\n",
              "      <th>2</th>\n",
              "      <td>291401001672</td>\n",
              "      <td>He went on to win the Royal Medal of the Royal...</td>\n",
              "      <td>ORG_YES_PRODUCT_NO_PERSON_NO_</td>\n",
              "      <td>69</td>\n",
              "      <td>18.0</td>\n",
              "      <td>non-binary</td>\n",
              "      <td>biographies</td>\n",
              "      <td>clear_enough</td>\n",
              "    </tr>\n",
              "    <tr>\n",
              "      <th>3</th>\n",
              "      <td>31548004883</td>\n",
              "      <td>The changes have altered many underlying assum...</td>\n",
              "      <td>ORG_NO_PRODUCT_YES_PERSON_NO_</td>\n",
              "      <td>76</td>\n",
              "      <td>27.0</td>\n",
              "      <td>non-binary</td>\n",
              "      <td>programming</td>\n",
              "      <td>clear_enough</td>\n",
              "    </tr>\n",
              "    <tr>\n",
              "      <th>4</th>\n",
              "      <td>50634005146</td>\n",
              "      <td>After these novels were published, Disraeli de...</td>\n",
              "      <td>ORG_YES_PRODUCT_YES_PERSON_YES_</td>\n",
              "      <td>200</td>\n",
              "      <td>47.0</td>\n",
              "      <td>man</td>\n",
              "      <td>biographies</td>\n",
              "      <td>not_clear_enough</td>\n",
              "    </tr>\n",
              "    <tr>\n",
              "      <th>...</th>\n",
              "      <td>...</td>\n",
              "      <td>...</td>\n",
              "      <td>...</td>\n",
              "      <td>...</td>\n",
              "      <td>...</td>\n",
              "      <td>...</td>\n",
              "      <td>...</td>\n",
              "      <td>...</td>\n",
              "    </tr>\n",
              "    <tr>\n",
              "      <th>9342</th>\n",
              "      <td>200523007578</td>\n",
              "      <td>Sir Joseph Dalton Hooker  was a British botani...</td>\n",
              "      <td>ORG_YES_PRODUCT_NO_PERSON_YES_</td>\n",
              "      <td>54</td>\n",
              "      <td>16.0</td>\n",
              "      <td>man</td>\n",
              "      <td>biographies</td>\n",
              "      <td>NaN</td>\n",
              "    </tr>\n",
              "    <tr>\n",
              "      <th>9343</th>\n",
              "      <td>50634005203</td>\n",
              "      <td>As successful invasions of India generally cam...</td>\n",
              "      <td>ORG_YES_PRODUCT_NO_PERSON_YES_</td>\n",
              "      <td>217</td>\n",
              "      <td>46.0</td>\n",
              "      <td>woman</td>\n",
              "      <td>biographies</td>\n",
              "      <td>NaN</td>\n",
              "    </tr>\n",
              "    <tr>\n",
              "      <th>9344</th>\n",
              "      <td>6437003939</td>\n",
              "      <td>Hawking was born on 8 January 1942 in Oxford t...</td>\n",
              "      <td>ORG_YES_PRODUCT_NO_PERSON_YES_</td>\n",
              "      <td>91</td>\n",
              "      <td>27.0</td>\n",
              "      <td>woman</td>\n",
              "      <td>biographies</td>\n",
              "      <td>NaN</td>\n",
              "    </tr>\n",
              "    <tr>\n",
              "      <th>9345</th>\n",
              "      <td>725259002815</td>\n",
              "      <td>More complex tasks can be making custom data e...</td>\n",
              "      <td>ORG_YES_PRODUCT_NO_PERSON_NO_</td>\n",
              "      <td>47</td>\n",
              "      <td>15.0</td>\n",
              "      <td>man</td>\n",
              "      <td>programming</td>\n",
              "      <td>NaN</td>\n",
              "    </tr>\n",
              "    <tr>\n",
              "      <th>9346</th>\n",
              "      <td>109126000894</td>\n",
              "      <td>Governments, and especially the police and cou...</td>\n",
              "      <td>ORG_NO_PRODUCT_NO_PERSON_NO_</td>\n",
              "      <td>87</td>\n",
              "      <td>8.0</td>\n",
              "      <td>man</td>\n",
              "      <td>philosophy</td>\n",
              "      <td>NaN</td>\n",
              "    </tr>\n",
              "  </tbody>\n",
              "</table>\n",
              "<p>9347 rows × 8 columns</p>\n",
              "</div>\n",
              "    <div class=\"colab-df-buttons\">\n",
              "\n",
              "  <div class=\"colab-df-container\">\n",
              "    <button class=\"colab-df-convert\" onclick=\"convertToInteractive('df-1cc12d60-e9f5-44db-98e1-4e9e8f4b3888')\"\n",
              "            title=\"Convert this dataframe to an interactive table.\"\n",
              "            style=\"display:none;\">\n",
              "\n",
              "  <svg xmlns=\"http://www.w3.org/2000/svg\" height=\"24px\" viewBox=\"0 -960 960 960\">\n",
              "    <path d=\"M120-120v-720h720v720H120Zm60-500h600v-160H180v160Zm220 220h160v-160H400v160Zm0 220h160v-160H400v160ZM180-400h160v-160H180v160Zm440 0h160v-160H620v160ZM180-180h160v-160H180v160Zm440 0h160v-160H620v160Z\"/>\n",
              "  </svg>\n",
              "    </button>\n",
              "\n",
              "  <style>\n",
              "    .colab-df-container {\n",
              "      display:flex;\n",
              "      gap: 12px;\n",
              "    }\n",
              "\n",
              "    .colab-df-convert {\n",
              "      background-color: #E8F0FE;\n",
              "      border: none;\n",
              "      border-radius: 50%;\n",
              "      cursor: pointer;\n",
              "      display: none;\n",
              "      fill: #1967D2;\n",
              "      height: 32px;\n",
              "      padding: 0 0 0 0;\n",
              "      width: 32px;\n",
              "    }\n",
              "\n",
              "    .colab-df-convert:hover {\n",
              "      background-color: #E2EBFA;\n",
              "      box-shadow: 0px 1px 2px rgba(60, 64, 67, 0.3), 0px 1px 3px 1px rgba(60, 64, 67, 0.15);\n",
              "      fill: #174EA6;\n",
              "    }\n",
              "\n",
              "    .colab-df-buttons div {\n",
              "      margin-bottom: 4px;\n",
              "    }\n",
              "\n",
              "    [theme=dark] .colab-df-convert {\n",
              "      background-color: #3B4455;\n",
              "      fill: #D2E3FC;\n",
              "    }\n",
              "\n",
              "    [theme=dark] .colab-df-convert:hover {\n",
              "      background-color: #434B5C;\n",
              "      box-shadow: 0px 1px 3px 1px rgba(0, 0, 0, 0.15);\n",
              "      filter: drop-shadow(0px 1px 2px rgba(0, 0, 0, 0.3));\n",
              "      fill: #FFFFFF;\n",
              "    }\n",
              "  </style>\n",
              "\n",
              "    <script>\n",
              "      const buttonEl =\n",
              "        document.querySelector('#df-1cc12d60-e9f5-44db-98e1-4e9e8f4b3888 button.colab-df-convert');\n",
              "      buttonEl.style.display =\n",
              "        google.colab.kernel.accessAllowed ? 'block' : 'none';\n",
              "\n",
              "      async function convertToInteractive(key) {\n",
              "        const element = document.querySelector('#df-1cc12d60-e9f5-44db-98e1-4e9e8f4b3888');\n",
              "        const dataTable =\n",
              "          await google.colab.kernel.invokeFunction('convertToInteractive',\n",
              "                                                    [key], {});\n",
              "        if (!dataTable) return;\n",
              "\n",
              "        const docLinkHtml = 'Like what you see? Visit the ' +\n",
              "          '<a target=\"_blank\" href=https://colab.research.google.com/notebooks/data_table.ipynb>data table notebook</a>'\n",
              "          + ' to learn more about interactive tables.';\n",
              "        element.innerHTML = '';\n",
              "        dataTable['output_type'] = 'display_data';\n",
              "        await google.colab.output.renderOutput(dataTable, element);\n",
              "        const docLink = document.createElement('div');\n",
              "        docLink.innerHTML = docLinkHtml;\n",
              "        element.appendChild(docLink);\n",
              "      }\n",
              "    </script>\n",
              "  </div>\n",
              "\n",
              "\n",
              "<div id=\"df-2196adee-8965-42aa-873f-837d8df10971\">\n",
              "  <button class=\"colab-df-quickchart\" onclick=\"quickchart('df-2196adee-8965-42aa-873f-837d8df10971')\"\n",
              "            title=\"Suggest charts\"\n",
              "            style=\"display:none;\">\n",
              "\n",
              "<svg xmlns=\"http://www.w3.org/2000/svg\" height=\"24px\"viewBox=\"0 0 24 24\"\n",
              "     width=\"24px\">\n",
              "    <g>\n",
              "        <path d=\"M19 3H5c-1.1 0-2 .9-2 2v14c0 1.1.9 2 2 2h14c1.1 0 2-.9 2-2V5c0-1.1-.9-2-2-2zM9 17H7v-7h2v7zm4 0h-2V7h2v10zm4 0h-2v-4h2v4z\"/>\n",
              "    </g>\n",
              "</svg>\n",
              "  </button>\n",
              "\n",
              "<style>\n",
              "  .colab-df-quickchart {\n",
              "      --bg-color: #E8F0FE;\n",
              "      --fill-color: #1967D2;\n",
              "      --hover-bg-color: #E2EBFA;\n",
              "      --hover-fill-color: #174EA6;\n",
              "      --disabled-fill-color: #AAA;\n",
              "      --disabled-bg-color: #DDD;\n",
              "  }\n",
              "\n",
              "  [theme=dark] .colab-df-quickchart {\n",
              "      --bg-color: #3B4455;\n",
              "      --fill-color: #D2E3FC;\n",
              "      --hover-bg-color: #434B5C;\n",
              "      --hover-fill-color: #FFFFFF;\n",
              "      --disabled-bg-color: #3B4455;\n",
              "      --disabled-fill-color: #666;\n",
              "  }\n",
              "\n",
              "  .colab-df-quickchart {\n",
              "    background-color: var(--bg-color);\n",
              "    border: none;\n",
              "    border-radius: 50%;\n",
              "    cursor: pointer;\n",
              "    display: none;\n",
              "    fill: var(--fill-color);\n",
              "    height: 32px;\n",
              "    padding: 0;\n",
              "    width: 32px;\n",
              "  }\n",
              "\n",
              "  .colab-df-quickchart:hover {\n",
              "    background-color: var(--hover-bg-color);\n",
              "    box-shadow: 0 1px 2px rgba(60, 64, 67, 0.3), 0 1px 3px 1px rgba(60, 64, 67, 0.15);\n",
              "    fill: var(--button-hover-fill-color);\n",
              "  }\n",
              "\n",
              "  .colab-df-quickchart-complete:disabled,\n",
              "  .colab-df-quickchart-complete:disabled:hover {\n",
              "    background-color: var(--disabled-bg-color);\n",
              "    fill: var(--disabled-fill-color);\n",
              "    box-shadow: none;\n",
              "  }\n",
              "\n",
              "  .colab-df-spinner {\n",
              "    border: 2px solid var(--fill-color);\n",
              "    border-color: transparent;\n",
              "    border-bottom-color: var(--fill-color);\n",
              "    animation:\n",
              "      spin 1s steps(1) infinite;\n",
              "  }\n",
              "\n",
              "  @keyframes spin {\n",
              "    0% {\n",
              "      border-color: transparent;\n",
              "      border-bottom-color: var(--fill-color);\n",
              "      border-left-color: var(--fill-color);\n",
              "    }\n",
              "    20% {\n",
              "      border-color: transparent;\n",
              "      border-left-color: var(--fill-color);\n",
              "      border-top-color: var(--fill-color);\n",
              "    }\n",
              "    30% {\n",
              "      border-color: transparent;\n",
              "      border-left-color: var(--fill-color);\n",
              "      border-top-color: var(--fill-color);\n",
              "      border-right-color: var(--fill-color);\n",
              "    }\n",
              "    40% {\n",
              "      border-color: transparent;\n",
              "      border-right-color: var(--fill-color);\n",
              "      border-top-color: var(--fill-color);\n",
              "    }\n",
              "    60% {\n",
              "      border-color: transparent;\n",
              "      border-right-color: var(--fill-color);\n",
              "    }\n",
              "    80% {\n",
              "      border-color: transparent;\n",
              "      border-right-color: var(--fill-color);\n",
              "      border-bottom-color: var(--fill-color);\n",
              "    }\n",
              "    90% {\n",
              "      border-color: transparent;\n",
              "      border-bottom-color: var(--fill-color);\n",
              "    }\n",
              "  }\n",
              "</style>\n",
              "\n",
              "  <script>\n",
              "    async function quickchart(key) {\n",
              "      const quickchartButtonEl =\n",
              "        document.querySelector('#' + key + ' button');\n",
              "      quickchartButtonEl.disabled = true;  // To prevent multiple clicks.\n",
              "      quickchartButtonEl.classList.add('colab-df-spinner');\n",
              "      try {\n",
              "        const charts = await google.colab.kernel.invokeFunction(\n",
              "            'suggestCharts', [key], {});\n",
              "      } catch (error) {\n",
              "        console.error('Error during call to suggestCharts:', error);\n",
              "      }\n",
              "      quickchartButtonEl.classList.remove('colab-df-spinner');\n",
              "      quickchartButtonEl.classList.add('colab-df-quickchart-complete');\n",
              "    }\n",
              "    (() => {\n",
              "      let quickchartButtonEl =\n",
              "        document.querySelector('#df-2196adee-8965-42aa-873f-837d8df10971 button');\n",
              "      quickchartButtonEl.style.display =\n",
              "        google.colab.kernel.accessAllowed ? 'block' : 'none';\n",
              "    })();\n",
              "  </script>\n",
              "</div>\n",
              "    </div>\n",
              "  </div>\n"
            ],
            "application/vnd.google.colaboratory.intrinsic+json": {
              "type": "dataframe",
              "variable_name": "data",
              "summary": "{\n  \"name\": \"data\",\n  \"rows\": 9347,\n  \"fields\": [\n    {\n      \"column\": \"par_id\",\n      \"properties\": {\n        \"dtype\": \"number\",\n        \"std\": 322139880749,\n        \"min\": 85003276,\n        \"max\": 1058779003275,\n        \"num_unique_values\": 9132,\n        \"samples\": [\n          759851002842,\n          77886005808,\n          325706008765\n        ],\n        \"semantic_type\": \"\",\n        \"description\": \"\"\n      }\n    },\n    {\n      \"column\": \"paragraph\",\n      \"properties\": {\n        \"dtype\": \"string\",\n        \"num_unique_values\": 8992,\n        \"samples\": [\n          \"In 1891, Thomas married Mary Kane, daughter of Sir Andrew Clark, heiress to a small fortune, which gave him the finances to hire mammal collectors and present their specimens to the museum. He also did field work himself in Western Europe and South America. His wife shared his interest in natural history, and accompanied him on collecting trips. In 1896, when William Henry Flower took control of the department, he hired Richard Lydekker to rearrange the exhibitions, allowing Thomas to concentrate on these new specimens.Thomas viewed his taxonomy efforts from the scope of British imperialism. \\\"You and I in our scientific lives have seen the general knowledge of Mammals of the world wonderfully advanced \\u2013 there are few or no blank areas anymore,\\\" he said in a letter to Gerrit Smith Miller Jr.Officially retired from the museum in 1923, he continued his work without interruption. Although popular rumours suggested he died by shooting himself with a handgun while sitting at his museum desk, he actually died at home in 1929, aged 71, about a year after the death of his wife, \\\"a severe blow from which he never recovered.\\\"\",\n          \"Disraeli always considered foreign affairs to be the most critical and interesting part of statesmanship. Nevertheless, his biographer Robert Blake doubts that his subject had specific ideas about foreign policy when he took office in 1874. He had rarely travelled abroad; since his youthful tour of the Middle East in 1830\\u20131831, he had left Britain only for his honeymoon and three visits to Paris, the last of which was in 1856. As he had criticised Gladstone for a do-nothing foreign policy, he most probably contemplated what actions would reassert Britain's place in Europe. His brief first premiership, and the first year of his second, gave him little opportunity to make his mark in foreign affairs.\",\n          \"I have sent your Watch at last & envy the felicity of it, that it should be soe near your side & soe often enjoy your Eye. ... .but have a care for it, for I have put such a spell into it; that every Beating of the Balance will tell you 'tis the Pulse of my Heart, which labors as much to serve you and more trewly than the Watch; for the Watch I beleeve will sometimes lie, and sometimes be idle & unwilling ... but as for me you may be confident I shall never ...\"\n        ],\n        \"semantic_type\": \"\",\n        \"description\": \"\"\n      }\n    },\n    {\n      \"column\": \"has_entity\",\n      \"properties\": {\n        \"dtype\": \"category\",\n        \"num_unique_values\": 9,\n        \"samples\": [\n          \"ORG_YES_PRODUCT_YES_PERSON_NO_\",\n          \"ORG_YES_PRODUCT_NO_PERSON_NO_\",\n          \"ORG_NO_PRODUCT_YES_PERSON_YES_\"\n        ],\n        \"semantic_type\": \"\",\n        \"description\": \"\"\n      }\n    },\n    {\n      \"column\": \"lexicon_count\",\n      \"properties\": {\n        \"dtype\": \"number\",\n        \"std\": 63,\n        \"min\": 0,\n        \"max\": 653,\n        \"num_unique_values\": 348,\n        \"samples\": [\n          237,\n          82,\n          274\n        ],\n        \"semantic_type\": \"\",\n        \"description\": \"\"\n      }\n    },\n    {\n      \"column\": \"difficult_words\",\n      \"properties\": {\n        \"dtype\": \"number\",\n        \"std\": 16.307358092882417,\n        \"min\": 0.0,\n        \"max\": 143.0,\n        \"num_unique_values\": 113,\n        \"samples\": [\n          96.0,\n          36.0,\n          15.0\n        ],\n        \"semantic_type\": \"\",\n        \"description\": \"\"\n      }\n    },\n    {\n      \"column\": \"last_editor_gender\",\n      \"properties\": {\n        \"dtype\": \"category\",\n        \"num_unique_values\": 4,\n        \"samples\": [\n          \"non-binary\",\n          \"prefer_not_to_say\",\n          \"man\"\n        ],\n        \"semantic_type\": \"\",\n        \"description\": \"\"\n      }\n    },\n    {\n      \"column\": \"category\",\n      \"properties\": {\n        \"dtype\": \"category\",\n        \"num_unique_values\": 10,\n        \"samples\": [\n          \"Biographies\",\n          \"artificial intelligence\",\n          \"Philosophy\"\n        ],\n        \"semantic_type\": \"\",\n        \"description\": \"\"\n      }\n    },\n    {\n      \"column\": \"text_clarity\",\n      \"properties\": {\n        \"dtype\": \"category\",\n        \"num_unique_values\": 2,\n        \"samples\": [\n          \"not_clear_enough\",\n          \"clear_enough\"\n        ],\n        \"semantic_type\": \"\",\n        \"description\": \"\"\n      }\n    }\n  ]\n}"
            }
          },
          "metadata": {},
          "execution_count": 66
        }
      ]
    },
    {
      "cell_type": "code",
      "source": [],
      "metadata": {
        "id": "D6ANhNycGpAT"
      },
      "execution_count": 66,
      "outputs": []
    },
    {
      "cell_type": "markdown",
      "source": [
        "# Statistics Summary\n"
      ],
      "metadata": {
        "id": "fyoWEZ5XGoLf"
      }
    },
    {
      "cell_type": "code",
      "source": [
        "data.describe()"
      ],
      "metadata": {
        "colab": {
          "base_uri": "https://localhost:8080/",
          "height": 300
        },
        "id": "58PzQQ9SGgMW",
        "outputId": "f4bd9c54-6450-4e2c-ae7e-fd41b610fd2a"
      },
      "execution_count": 67,
      "outputs": [
        {
          "output_type": "execute_result",
          "data": {
            "text/plain": [
              "             par_id  lexicon_count  difficult_words\n",
              "count  9.347000e+03    9347.000000      9329.000000\n",
              "mean   3.568369e+11      81.981277        21.514203\n",
              "std    3.221399e+11      63.533532        16.307358\n",
              "min    8.500328e+07       0.000000         0.000000\n",
              "25%    7.019601e+10      33.000000         9.000000\n",
              "50%    2.684380e+11      64.000000        17.000000\n",
              "75%    6.124310e+11     117.000000        30.000000\n",
              "max    1.058779e+12     653.000000       143.000000"
            ],
            "text/html": [
              "\n",
              "  <div id=\"df-de3791a8-9e48-4b59-8b3f-5348d64fc8d1\" class=\"colab-df-container\">\n",
              "    <div>\n",
              "<style scoped>\n",
              "    .dataframe tbody tr th:only-of-type {\n",
              "        vertical-align: middle;\n",
              "    }\n",
              "\n",
              "    .dataframe tbody tr th {\n",
              "        vertical-align: top;\n",
              "    }\n",
              "\n",
              "    .dataframe thead th {\n",
              "        text-align: right;\n",
              "    }\n",
              "</style>\n",
              "<table border=\"1\" class=\"dataframe\">\n",
              "  <thead>\n",
              "    <tr style=\"text-align: right;\">\n",
              "      <th></th>\n",
              "      <th>par_id</th>\n",
              "      <th>lexicon_count</th>\n",
              "      <th>difficult_words</th>\n",
              "    </tr>\n",
              "  </thead>\n",
              "  <tbody>\n",
              "    <tr>\n",
              "      <th>count</th>\n",
              "      <td>9.347000e+03</td>\n",
              "      <td>9347.000000</td>\n",
              "      <td>9329.000000</td>\n",
              "    </tr>\n",
              "    <tr>\n",
              "      <th>mean</th>\n",
              "      <td>3.568369e+11</td>\n",
              "      <td>81.981277</td>\n",
              "      <td>21.514203</td>\n",
              "    </tr>\n",
              "    <tr>\n",
              "      <th>std</th>\n",
              "      <td>3.221399e+11</td>\n",
              "      <td>63.533532</td>\n",
              "      <td>16.307358</td>\n",
              "    </tr>\n",
              "    <tr>\n",
              "      <th>min</th>\n",
              "      <td>8.500328e+07</td>\n",
              "      <td>0.000000</td>\n",
              "      <td>0.000000</td>\n",
              "    </tr>\n",
              "    <tr>\n",
              "      <th>25%</th>\n",
              "      <td>7.019601e+10</td>\n",
              "      <td>33.000000</td>\n",
              "      <td>9.000000</td>\n",
              "    </tr>\n",
              "    <tr>\n",
              "      <th>50%</th>\n",
              "      <td>2.684380e+11</td>\n",
              "      <td>64.000000</td>\n",
              "      <td>17.000000</td>\n",
              "    </tr>\n",
              "    <tr>\n",
              "      <th>75%</th>\n",
              "      <td>6.124310e+11</td>\n",
              "      <td>117.000000</td>\n",
              "      <td>30.000000</td>\n",
              "    </tr>\n",
              "    <tr>\n",
              "      <th>max</th>\n",
              "      <td>1.058779e+12</td>\n",
              "      <td>653.000000</td>\n",
              "      <td>143.000000</td>\n",
              "    </tr>\n",
              "  </tbody>\n",
              "</table>\n",
              "</div>\n",
              "    <div class=\"colab-df-buttons\">\n",
              "\n",
              "  <div class=\"colab-df-container\">\n",
              "    <button class=\"colab-df-convert\" onclick=\"convertToInteractive('df-de3791a8-9e48-4b59-8b3f-5348d64fc8d1')\"\n",
              "            title=\"Convert this dataframe to an interactive table.\"\n",
              "            style=\"display:none;\">\n",
              "\n",
              "  <svg xmlns=\"http://www.w3.org/2000/svg\" height=\"24px\" viewBox=\"0 -960 960 960\">\n",
              "    <path d=\"M120-120v-720h720v720H120Zm60-500h600v-160H180v160Zm220 220h160v-160H400v160Zm0 220h160v-160H400v160ZM180-400h160v-160H180v160Zm440 0h160v-160H620v160ZM180-180h160v-160H180v160Zm440 0h160v-160H620v160Z\"/>\n",
              "  </svg>\n",
              "    </button>\n",
              "\n",
              "  <style>\n",
              "    .colab-df-container {\n",
              "      display:flex;\n",
              "      gap: 12px;\n",
              "    }\n",
              "\n",
              "    .colab-df-convert {\n",
              "      background-color: #E8F0FE;\n",
              "      border: none;\n",
              "      border-radius: 50%;\n",
              "      cursor: pointer;\n",
              "      display: none;\n",
              "      fill: #1967D2;\n",
              "      height: 32px;\n",
              "      padding: 0 0 0 0;\n",
              "      width: 32px;\n",
              "    }\n",
              "\n",
              "    .colab-df-convert:hover {\n",
              "      background-color: #E2EBFA;\n",
              "      box-shadow: 0px 1px 2px rgba(60, 64, 67, 0.3), 0px 1px 3px 1px rgba(60, 64, 67, 0.15);\n",
              "      fill: #174EA6;\n",
              "    }\n",
              "\n",
              "    .colab-df-buttons div {\n",
              "      margin-bottom: 4px;\n",
              "    }\n",
              "\n",
              "    [theme=dark] .colab-df-convert {\n",
              "      background-color: #3B4455;\n",
              "      fill: #D2E3FC;\n",
              "    }\n",
              "\n",
              "    [theme=dark] .colab-df-convert:hover {\n",
              "      background-color: #434B5C;\n",
              "      box-shadow: 0px 1px 3px 1px rgba(0, 0, 0, 0.15);\n",
              "      filter: drop-shadow(0px 1px 2px rgba(0, 0, 0, 0.3));\n",
              "      fill: #FFFFFF;\n",
              "    }\n",
              "  </style>\n",
              "\n",
              "    <script>\n",
              "      const buttonEl =\n",
              "        document.querySelector('#df-de3791a8-9e48-4b59-8b3f-5348d64fc8d1 button.colab-df-convert');\n",
              "      buttonEl.style.display =\n",
              "        google.colab.kernel.accessAllowed ? 'block' : 'none';\n",
              "\n",
              "      async function convertToInteractive(key) {\n",
              "        const element = document.querySelector('#df-de3791a8-9e48-4b59-8b3f-5348d64fc8d1');\n",
              "        const dataTable =\n",
              "          await google.colab.kernel.invokeFunction('convertToInteractive',\n",
              "                                                    [key], {});\n",
              "        if (!dataTable) return;\n",
              "\n",
              "        const docLinkHtml = 'Like what you see? Visit the ' +\n",
              "          '<a target=\"_blank\" href=https://colab.research.google.com/notebooks/data_table.ipynb>data table notebook</a>'\n",
              "          + ' to learn more about interactive tables.';\n",
              "        element.innerHTML = '';\n",
              "        dataTable['output_type'] = 'display_data';\n",
              "        await google.colab.output.renderOutput(dataTable, element);\n",
              "        const docLink = document.createElement('div');\n",
              "        docLink.innerHTML = docLinkHtml;\n",
              "        element.appendChild(docLink);\n",
              "      }\n",
              "    </script>\n",
              "  </div>\n",
              "\n",
              "\n",
              "<div id=\"df-4d085c11-2ded-4ce1-9df6-e9748ffaf09f\">\n",
              "  <button class=\"colab-df-quickchart\" onclick=\"quickchart('df-4d085c11-2ded-4ce1-9df6-e9748ffaf09f')\"\n",
              "            title=\"Suggest charts\"\n",
              "            style=\"display:none;\">\n",
              "\n",
              "<svg xmlns=\"http://www.w3.org/2000/svg\" height=\"24px\"viewBox=\"0 0 24 24\"\n",
              "     width=\"24px\">\n",
              "    <g>\n",
              "        <path d=\"M19 3H5c-1.1 0-2 .9-2 2v14c0 1.1.9 2 2 2h14c1.1 0 2-.9 2-2V5c0-1.1-.9-2-2-2zM9 17H7v-7h2v7zm4 0h-2V7h2v10zm4 0h-2v-4h2v4z\"/>\n",
              "    </g>\n",
              "</svg>\n",
              "  </button>\n",
              "\n",
              "<style>\n",
              "  .colab-df-quickchart {\n",
              "      --bg-color: #E8F0FE;\n",
              "      --fill-color: #1967D2;\n",
              "      --hover-bg-color: #E2EBFA;\n",
              "      --hover-fill-color: #174EA6;\n",
              "      --disabled-fill-color: #AAA;\n",
              "      --disabled-bg-color: #DDD;\n",
              "  }\n",
              "\n",
              "  [theme=dark] .colab-df-quickchart {\n",
              "      --bg-color: #3B4455;\n",
              "      --fill-color: #D2E3FC;\n",
              "      --hover-bg-color: #434B5C;\n",
              "      --hover-fill-color: #FFFFFF;\n",
              "      --disabled-bg-color: #3B4455;\n",
              "      --disabled-fill-color: #666;\n",
              "  }\n",
              "\n",
              "  .colab-df-quickchart {\n",
              "    background-color: var(--bg-color);\n",
              "    border: none;\n",
              "    border-radius: 50%;\n",
              "    cursor: pointer;\n",
              "    display: none;\n",
              "    fill: var(--fill-color);\n",
              "    height: 32px;\n",
              "    padding: 0;\n",
              "    width: 32px;\n",
              "  }\n",
              "\n",
              "  .colab-df-quickchart:hover {\n",
              "    background-color: var(--hover-bg-color);\n",
              "    box-shadow: 0 1px 2px rgba(60, 64, 67, 0.3), 0 1px 3px 1px rgba(60, 64, 67, 0.15);\n",
              "    fill: var(--button-hover-fill-color);\n",
              "  }\n",
              "\n",
              "  .colab-df-quickchart-complete:disabled,\n",
              "  .colab-df-quickchart-complete:disabled:hover {\n",
              "    background-color: var(--disabled-bg-color);\n",
              "    fill: var(--disabled-fill-color);\n",
              "    box-shadow: none;\n",
              "  }\n",
              "\n",
              "  .colab-df-spinner {\n",
              "    border: 2px solid var(--fill-color);\n",
              "    border-color: transparent;\n",
              "    border-bottom-color: var(--fill-color);\n",
              "    animation:\n",
              "      spin 1s steps(1) infinite;\n",
              "  }\n",
              "\n",
              "  @keyframes spin {\n",
              "    0% {\n",
              "      border-color: transparent;\n",
              "      border-bottom-color: var(--fill-color);\n",
              "      border-left-color: var(--fill-color);\n",
              "    }\n",
              "    20% {\n",
              "      border-color: transparent;\n",
              "      border-left-color: var(--fill-color);\n",
              "      border-top-color: var(--fill-color);\n",
              "    }\n",
              "    30% {\n",
              "      border-color: transparent;\n",
              "      border-left-color: var(--fill-color);\n",
              "      border-top-color: var(--fill-color);\n",
              "      border-right-color: var(--fill-color);\n",
              "    }\n",
              "    40% {\n",
              "      border-color: transparent;\n",
              "      border-right-color: var(--fill-color);\n",
              "      border-top-color: var(--fill-color);\n",
              "    }\n",
              "    60% {\n",
              "      border-color: transparent;\n",
              "      border-right-color: var(--fill-color);\n",
              "    }\n",
              "    80% {\n",
              "      border-color: transparent;\n",
              "      border-right-color: var(--fill-color);\n",
              "      border-bottom-color: var(--fill-color);\n",
              "    }\n",
              "    90% {\n",
              "      border-color: transparent;\n",
              "      border-bottom-color: var(--fill-color);\n",
              "    }\n",
              "  }\n",
              "</style>\n",
              "\n",
              "  <script>\n",
              "    async function quickchart(key) {\n",
              "      const quickchartButtonEl =\n",
              "        document.querySelector('#' + key + ' button');\n",
              "      quickchartButtonEl.disabled = true;  // To prevent multiple clicks.\n",
              "      quickchartButtonEl.classList.add('colab-df-spinner');\n",
              "      try {\n",
              "        const charts = await google.colab.kernel.invokeFunction(\n",
              "            'suggestCharts', [key], {});\n",
              "      } catch (error) {\n",
              "        console.error('Error during call to suggestCharts:', error);\n",
              "      }\n",
              "      quickchartButtonEl.classList.remove('colab-df-spinner');\n",
              "      quickchartButtonEl.classList.add('colab-df-quickchart-complete');\n",
              "    }\n",
              "    (() => {\n",
              "      let quickchartButtonEl =\n",
              "        document.querySelector('#df-4d085c11-2ded-4ce1-9df6-e9748ffaf09f button');\n",
              "      quickchartButtonEl.style.display =\n",
              "        google.colab.kernel.accessAllowed ? 'block' : 'none';\n",
              "    })();\n",
              "  </script>\n",
              "</div>\n",
              "    </div>\n",
              "  </div>\n"
            ],
            "application/vnd.google.colaboratory.intrinsic+json": {
              "type": "dataframe",
              "summary": "{\n  \"name\": \"data\",\n  \"rows\": 8,\n  \"fields\": [\n    {\n      \"column\": \"par_id\",\n      \"properties\": {\n        \"dtype\": \"number\",\n        \"std\": 358648460872.8377,\n        \"min\": 9347.0,\n        \"max\": 1058779003275.0,\n        \"num_unique_values\": 8,\n        \"samples\": [\n          356836924493.44305,\n          268438008202.0,\n          9347.0\n        ],\n        \"semantic_type\": \"\",\n        \"description\": \"\"\n      }\n    },\n    {\n      \"column\": \"lexicon_count\",\n      \"properties\": {\n        \"dtype\": \"number\",\n        \"std\": 3260.3134392123097,\n        \"min\": 0.0,\n        \"max\": 9347.0,\n        \"num_unique_values\": 8,\n        \"samples\": [\n          81.98127741521344,\n          64.0,\n          9347.0\n        ],\n        \"semantic_type\": \"\",\n        \"description\": \"\"\n      }\n    },\n    {\n      \"column\": \"difficult_words\",\n      \"properties\": {\n        \"dtype\": \"number\",\n        \"std\": 3286.652031289839,\n        \"min\": 0.0,\n        \"max\": 9329.0,\n        \"num_unique_values\": 8,\n        \"samples\": [\n          21.514203022832028,\n          17.0,\n          9329.0\n        ],\n        \"semantic_type\": \"\",\n        \"description\": \"\"\n      }\n    }\n  ]\n}"
            }
          },
          "metadata": {},
          "execution_count": 67
        }
      ]
    },
    {
      "cell_type": "code",
      "source": [
        "data.info()"
      ],
      "metadata": {
        "colab": {
          "base_uri": "https://localhost:8080/"
        },
        "id": "rWXXqBsxGs12",
        "outputId": "e098ae54-7c8f-4bb4-8cc9-0286080917af"
      },
      "execution_count": 68,
      "outputs": [
        {
          "output_type": "stream",
          "name": "stdout",
          "text": [
            "<class 'pandas.core.frame.DataFrame'>\n",
            "RangeIndex: 9347 entries, 0 to 9346\n",
            "Data columns (total 8 columns):\n",
            " #   Column              Non-Null Count  Dtype  \n",
            "---  ------              --------------  -----  \n",
            " 0   par_id              9347 non-null   int64  \n",
            " 1   paragraph           9347 non-null   object \n",
            " 2   has_entity          9347 non-null   object \n",
            " 3   lexicon_count       9347 non-null   int64  \n",
            " 4   difficult_words     9329 non-null   float64\n",
            " 5   last_editor_gender  9347 non-null   object \n",
            " 6   category            9286 non-null   object \n",
            " 7   text_clarity        9 non-null      object \n",
            "dtypes: float64(1), int64(2), object(5)\n",
            "memory usage: 584.3+ KB\n"
          ]
        }
      ]
    },
    {
      "cell_type": "code",
      "source": [
        "data.shape"
      ],
      "metadata": {
        "colab": {
          "base_uri": "https://localhost:8080/"
        },
        "id": "82XSSKWdGvfq",
        "outputId": "5f88fb0c-fd2b-4a36-d46b-25193fdb8c15"
      },
      "execution_count": 69,
      "outputs": [
        {
          "output_type": "execute_result",
          "data": {
            "text/plain": [
              "(9347, 8)"
            ]
          },
          "metadata": {},
          "execution_count": 69
        }
      ]
    },
    {
      "cell_type": "code",
      "source": [
        "data.ndim"
      ],
      "metadata": {
        "colab": {
          "base_uri": "https://localhost:8080/"
        },
        "id": "DeDDbCBeG1Rc",
        "outputId": "c443b2ba-fbb0-4f1c-adab-df0e575efc2a"
      },
      "execution_count": 70,
      "outputs": [
        {
          "output_type": "execute_result",
          "data": {
            "text/plain": [
              "2"
            ]
          },
          "metadata": {},
          "execution_count": 70
        }
      ]
    },
    {
      "cell_type": "code",
      "source": [
        "data.columns"
      ],
      "metadata": {
        "colab": {
          "base_uri": "https://localhost:8080/"
        },
        "id": "86zLYi3dG2T9",
        "outputId": "cefd7f2e-c1df-4b43-8a8c-c78cfc1c04d1"
      },
      "execution_count": 71,
      "outputs": [
        {
          "output_type": "execute_result",
          "data": {
            "text/plain": [
              "Index(['par_id', 'paragraph', 'has_entity', 'lexicon_count', 'difficult_words',\n",
              "       'last_editor_gender', 'category', 'text_clarity'],\n",
              "      dtype='object')"
            ]
          },
          "metadata": {},
          "execution_count": 71
        }
      ]
    },
    {
      "cell_type": "markdown",
      "source": [
        "# Handling and Imputing missing values"
      ],
      "metadata": {
        "id": "NAEECFhLHAOW"
      }
    },
    {
      "cell_type": "code",
      "source": [
        "## Checking for missing values in the target variable - we find there are 61 missing values\n",
        "data.isnull().sum()"
      ],
      "metadata": {
        "colab": {
          "base_uri": "https://localhost:8080/"
        },
        "id": "q65d6367G5BN",
        "outputId": "55e0261b-b36c-4db6-8050-975ec77d0655"
      },
      "execution_count": 72,
      "outputs": [
        {
          "output_type": "execute_result",
          "data": {
            "text/plain": [
              "par_id                   0\n",
              "paragraph                0\n",
              "has_entity               0\n",
              "lexicon_count            0\n",
              "difficult_words         18\n",
              "last_editor_gender       0\n",
              "category                61\n",
              "text_clarity          9338\n",
              "dtype: int64"
            ]
          },
          "metadata": {},
          "execution_count": 72
        }
      ]
    },
    {
      "cell_type": "code",
      "source": [
        "# Imputing the 61 missing values found in the target variable\n",
        "category_mode = data['category'].mode()[0]\n",
        "data['category'].fillna(category_mode, inplace=True)"
      ],
      "metadata": {
        "id": "PoMZolmeHFXe"
      },
      "execution_count": 73,
      "outputs": []
    },
    {
      "cell_type": "code",
      "source": [
        "# Validating that there are no missing values anymore in our target variable\n",
        "data.isnull().sum()"
      ],
      "metadata": {
        "colab": {
          "base_uri": "https://localhost:8080/"
        },
        "id": "_jFBnkFIHJZH",
        "outputId": "2a933d84-2d88-4c0f-a0b0-ea6e3350d767"
      },
      "execution_count": 74,
      "outputs": [
        {
          "output_type": "execute_result",
          "data": {
            "text/plain": [
              "par_id                   0\n",
              "paragraph                0\n",
              "has_entity               0\n",
              "lexicon_count            0\n",
              "difficult_words         18\n",
              "last_editor_gender       0\n",
              "category                 0\n",
              "text_clarity          9338\n",
              "dtype: int64"
            ]
          },
          "metadata": {},
          "execution_count": 74
        }
      ]
    },
    {
      "cell_type": "markdown",
      "source": [
        "# Checking and dropping duplicates"
      ],
      "metadata": {
        "id": "iyVyTbHJHPig"
      }
    },
    {
      "cell_type": "code",
      "source": [
        "# Printing duplicate rows in the input parameter - 'paragraph'\n",
        "data['paragraph']=data['paragraph'].str.lower()\n",
        "clean_data = data.drop_duplicates(subset=['paragraph'])\n",
        "print(\"Cleaned Dataset:\")\n",
        "print(clean_data.shape)"
      ],
      "metadata": {
        "colab": {
          "base_uri": "https://localhost:8080/"
        },
        "id": "ZOxRurGPI7fm",
        "outputId": "abb4f587-c4e4-4f2c-f9b6-dec7aae35b71"
      },
      "execution_count": 75,
      "outputs": [
        {
          "output_type": "stream",
          "name": "stdout",
          "text": [
            "Cleaned Dataset:\n",
            "(8992, 8)\n"
          ]
        }
      ]
    },
    {
      "cell_type": "code",
      "source": [
        "# Printing duplicate rows in the input parameter - 'has_entity'\n",
        "data['has_entity']=data['has_entity'].str.lower()\n",
        "clean_data = data.drop_duplicates(subset=['has_entity'])\n",
        "print(\"Cleaned Dataset:\")\n",
        "print(clean_data.shape)"
      ],
      "metadata": {
        "colab": {
          "base_uri": "https://localhost:8080/"
        },
        "id": "9Tjd9wMFMygE",
        "outputId": "4463647b-41bd-4983-a08c-912d81fbf556"
      },
      "execution_count": 76,
      "outputs": [
        {
          "output_type": "stream",
          "name": "stdout",
          "text": [
            "Cleaned Dataset:\n",
            "(9, 8)\n"
          ]
        }
      ]
    },
    {
      "cell_type": "code",
      "source": [
        "# Printing duplicate rows in the target variable\n",
        "data['category']=data['category'].str.lower()\n",
        "clean_data = data.drop_duplicates(subset=['category'])\n",
        "print('Duplicated Rows in Output Feature are:')\n",
        "print(clean_data.shape)"
      ],
      "metadata": {
        "colab": {
          "base_uri": "https://localhost:8080/"
        },
        "id": "clt5gyYmM9MQ",
        "outputId": "0f6b99b8-e4ab-4d1f-d121-45c166a8ecbf"
      },
      "execution_count": 77,
      "outputs": [
        {
          "output_type": "stream",
          "name": "stdout",
          "text": [
            "Duplicated Rows in Output Feature are:\n",
            "(5, 8)\n"
          ]
        }
      ]
    },
    {
      "cell_type": "markdown",
      "source": [
        "# Exploratory Data Analysis"
      ],
      "metadata": {
        "id": "cz98LLu8PWCg"
      }
    },
    {
      "cell_type": "code",
      "source": [
        "plt.figure(figsize=(6,4))\n",
        "plt.title('Distribution of Target Variable')\n",
        "plt.xlabel('Category')\n",
        "plt.ylabel('Count')\n",
        "data['category'].value_counts().plot(kind='barh', color='black')"
      ],
      "metadata": {
        "colab": {
          "base_uri": "https://localhost:8080/",
          "height": 408
        },
        "id": "9tNoPO35NHyA",
        "outputId": "7b9f6d94-3faa-4f73-ddd0-69adb6fff87f"
      },
      "execution_count": 78,
      "outputs": [
        {
          "output_type": "execute_result",
          "data": {
            "text/plain": [
              "<Axes: title={'center': 'Distribution of Target Variable'}, ylabel='Count'>"
            ]
          },
          "metadata": {},
          "execution_count": 78
        },
        {
          "output_type": "display_data",
          "data": {
            "text/plain": [
              "<Figure size 600x400 with 1 Axes>"
            ],
            "image/png": "[encoded data removed]"
          },
          "metadata": {}
        }
      ]
    },
    {
      "cell_type": "code",
      "source": [
        "# Removing parameters with 0 counts/values\n",
        "plt.figure(figsize=(6,4))\n",
        "data['category']=data['category'].str.lower()\n",
        "plt.title('Distribution of Target Variable')\n",
        "plt.xlabel('Category')\n",
        "plt.ylabel('Count')\n",
        "data['category'].value_counts().plot(kind='barh', color='black')"
      ],
      "metadata": {
        "colab": {
          "base_uri": "https://localhost:8080/",
          "height": 408
        },
        "id": "ZOg7Cs2sPb6K",
        "outputId": "1c20af51-22b0-4448-c089-6292c6b77177"
      },
      "execution_count": 79,
      "outputs": [
        {
          "output_type": "execute_result",
          "data": {
            "text/plain": [
              "<Axes: title={'center': 'Distribution of Target Variable'}, ylabel='Count'>"
            ]
          },
          "metadata": {},
          "execution_count": 79
        },
        {
          "output_type": "display_data",
          "data": {
            "text/plain": [
              "<Figure size 600x400 with 1 Axes>"
            ],
            "image/png": "[encoded data removed]"
          },
          "metadata": {}
        }
      ]
    },
    {
      "cell_type": "markdown",
      "source": [
        "# Reading and Splitting data"
      ],
      "metadata": {
        "id": "k_yXzl1wPpEP"
      }
    },
    {
      "cell_type": "code",
      "source": [
        "# Selecting the features and target variable\n",
        "X = data[['has_entity', 'paragraph']]\n",
        "Y = data[['category']]"
      ],
      "metadata": {
        "id": "VdvBcd5bPeSu"
      },
      "execution_count": 80,
      "outputs": []
    },
    {
      "cell_type": "code",
      "source": [
        "print(X.isna().sum())\n",
        "print(Y.isna().sum())\n",
        "print(Y.value_counts())"
      ],
      "metadata": {
        "colab": {
          "base_uri": "https://localhost:8080/"
        },
        "id": "uVdf8_poQDAu",
        "outputId": "8483bf99-6f83-43f7-cc90-e2d6d0ede996"
      },
      "execution_count": 81,
      "outputs": [
        {
          "output_type": "stream",
          "name": "stdout",
          "text": [
            "has_entity    0\n",
            "paragraph     0\n",
            "dtype: int64\n",
            "category    0\n",
            "dtype: int64\n",
            "category                            \n",
            "biographies                             3016\n",
            "philosophy                              2598\n",
            "programming                             1990\n",
            "artificial intelligence                 1576\n",
            "movies about artificial intelligence     167\n",
            "dtype: int64\n"
          ]
        }
      ]
    },
    {
      "cell_type": "code",
      "source": [
        "# Splitting data in the ratio 80:20% for training and testing\n",
        "train_X, test_X, train_Y, test_Y = train_test_split(X, Y, test_size=0.2, random_state=42, shuffle=True)"
      ],
      "metadata": {
        "id": "nmJ1UegaQFg3"
      },
      "execution_count": 82,
      "outputs": []
    },
    {
      "cell_type": "code",
      "source": [
        "print(train_X.value_counts())"
      ],
      "metadata": {
        "colab": {
          "base_uri": "https://localhost:8080/"
        },
        "id": "BrPOfcHuQP81",
        "outputId": "77107336-6885-4db8-979b-5c1e3e1b6717"
      },
      "execution_count": 83,
      "outputs": [
        {
          "output_type": "stream",
          "name": "stdout",
          "text": [
            "has_entity                       paragraph                                                                                                                                                                                                                                                                                                                                                                                                                                                                                                                                                                                                                                                                                                                                                                                                            \n",
            "org_no_product_no_person_no_     -1                                                                                                                                                                                                                                                                                                                                                                                                                                                                                                                                                                                                                                                                                                                                                                                                                       15\n",
            "org_yes_product_no_person_yes_   -1                                                                                                                                                                                                                                                                                                                                                                                                                                                                                                                                                                                                                                                                                                                                                                                                                        9\n",
            "org_yes_product_no_person_no_    -1                                                                                                                                                                                                                                                                                                                                                                                                                                                                                                                                                                                                                                                                                                                                                                                                                        5\n",
            "org_no_product_no_person_yes_    -1                                                                                                                                                                                                                                                                                                                                                                                                                                                                                                                                                                                                                                                                                                                                                                                                                        4\n",
            "org_yes_product_no_person_yes_   the theory is associated with mencius and wang yangming. it contrasts with xunzi's theory of evil human nature.                                                                                                                                                                                                                                                                                                                                                                                                                                                                                                                                                                                                                                                                                                           3\n",
            "                                                                                                                                                                                                                                                                                                                                                                                                                                                                                                                                                                                                                                                                                                                                                                                                                                                          ..\n",
            "org_no_product_no_person_yes_    breuer began to see his patient almost every day as the symptoms increased and became more persistent. he found that when, with his encouragement, she told fantasy stories her condition improved, and most of her symptoms had disappeared by april 1881. however, following the death of her father in that month her condition deteriorated again. breuer recorded that some of the symptoms eventually remitted spontaneously, and that full recovery was achieved by inducing her to recall events that had precipitated the occurrence of a specific symptom. this recovery is disputed.                                                                                                                                                                                                                           1\n",
            "                                 brenner was married to may brenner  from december 1952 until her death in january 2010; their children include belinda, carla, stefan, and his stepson jonathan balkind from his wife's first marriage to marcus balkind. he lived in ely, cambridgeshire. he was an atheist.brenner died on 5 april 2019, in singapore, at the age of 92.                                                                                                                                                                                                                                                                                                                                                                                                                                                                                1\n",
            "                                 brenner then focused on establishing caenorhabditis elegans as a model organism for the investigation of animal development including development of the nervous system. brenner chose this 1 millimeter-long soil roundworm mainly because it is simple, is easy to grow in bulk populations, and turned out to be convenient for genetic analysis. for this work, he shared the 2002 nobel prize in physiology or medicine with robert horvitz and john sulston. his nobel lecture in december 2002, \"nature's gift to science\" is a homage to this modest nematode. he considers chosing the right organism is as important as picking the right problems to work on. in recognition of his pioneering work on c. elegans, another closely related nematode was given the scientific name caenorhabditis brenneri.     1\n",
            "                                 brenner s. 2001. my life in science, with lewis wolpert; edited by errol c. friedberg and eleanor lawrence. biomed central.                                                                                                                                                                                                                                                                                                                                                                                                                                                                                                                                                                                                                                                                                               1\n",
            "org_yes_product_yes_person_yes_  zetalisp, also termed lisp machine lisp – used on the lisp machines, direct descendant of maclisp. zetalisp had a big influence on common lisp.                                                                                                                                                                                                                                                                                                                                                                                                                                                                                                                                                                                                                                                                           1\n",
            "Length: 7238, dtype: int64\n"
          ]
        }
      ]
    },
    {
      "cell_type": "code",
      "source": [
        "print(train_X.shape)\n",
        "print(test_X.shape)\n",
        "print(train_Y.shape)\n",
        "print(test_Y.shape)\n",
        "print()\n",
        "print(train_X.head(10))"
      ],
      "metadata": {
        "colab": {
          "base_uri": "https://localhost:8080/"
        },
        "id": "iCpuvB-UQepg",
        "outputId": "84188d27-753e-43f5-a580-e8687a33a332"
      },
      "execution_count": 84,
      "outputs": [
        {
          "output_type": "stream",
          "name": "stdout",
          "text": [
            "(7477, 2)\n",
            "(1870, 2)\n",
            "(7477, 1)\n",
            "(1870, 1)\n",
            "\n",
            "                          has_entity  \\\n",
            "6443   org_yes_product_no_person_no_   \n",
            "5846  org_yes_product_no_person_yes_   \n",
            "7104   org_yes_product_no_person_no_   \n",
            "251   org_yes_product_no_person_yes_   \n",
            "8606   org_no_product_no_person_yes_   \n",
            "7698   org_yes_product_no_person_no_   \n",
            "8500  org_yes_product_no_person_yes_   \n",
            "7700  org_yes_product_no_person_yes_   \n",
            "7458  org_yes_product_no_person_yes_   \n",
            "4202  org_yes_product_no_person_yes_   \n",
            "\n",
            "                                              paragraph  \n",
            "6443  extension of the bank to the north-west, the e...  \n",
            "5846  thomson's separation of neon isotopes by their...  \n",
            "7104  the python license was an open-source, gpl-com...  \n",
            "251    now let's be clear before we go any further t...  \n",
            "8606  a general system of botany, descriptive and an...  \n",
            "7698  the bahaʼi faith asserts that evil is non-exis...  \n",
            "8500  in august 1993, it was discovered that the pro...  \n",
            "7700  roko's basilisk has gained a significant amoun...  \n",
            "7458  1675 – some considerations about the reconcile...  \n",
            "4202  for nearly 30 years ehrenberg examined samples...  \n"
          ]
        }
      ]
    },
    {
      "cell_type": "markdown",
      "source": [],
      "metadata": {
        "id": "Nnv2QB2KQwrE"
      }
    },
    {
      "cell_type": "code",
      "source": [
        "print(train_X.value_counts())"
      ],
      "metadata": {
        "colab": {
          "base_uri": "https://localhost:8080/"
        },
        "id": "KK5afLtdQpov",
        "outputId": "c9aa416f-10de-477c-f61c-a5424b17c892"
      },
      "execution_count": 85,
      "outputs": [
        {
          "output_type": "stream",
          "name": "stdout",
          "text": [
            "has_entity                       paragraph                                                                                                                                                                                                                                                                                                                                                                                                                                                                                                                                                                                                                                                                                                                                                                                                            \n",
            "org_no_product_no_person_no_     -1                                                                                                                                                                                                                                                                                                                                                                                                                                                                                                                                                                                                                                                                                                                                                                                                                       15\n",
            "org_yes_product_no_person_yes_   -1                                                                                                                                                                                                                                                                                                                                                                                                                                                                                                                                                                                                                                                                                                                                                                                                                        9\n",
            "org_yes_product_no_person_no_    -1                                                                                                                                                                                                                                                                                                                                                                                                                                                                                                                                                                                                                                                                                                                                                                                                                        5\n",
            "org_no_product_no_person_yes_    -1                                                                                                                                                                                                                                                                                                                                                                                                                                                                                                                                                                                                                                                                                                                                                                                                                        4\n",
            "org_yes_product_no_person_yes_   the theory is associated with mencius and wang yangming. it contrasts with xunzi's theory of evil human nature.                                                                                                                                                                                                                                                                                                                                                                                                                                                                                                                                                                                                                                                                                                           3\n",
            "                                                                                                                                                                                                                                                                                                                                                                                                                                                                                                                                                                                                                                                                                                                                                                                                                                                          ..\n",
            "org_no_product_no_person_yes_    breuer began to see his patient almost every day as the symptoms increased and became more persistent. he found that when, with his encouragement, she told fantasy stories her condition improved, and most of her symptoms had disappeared by april 1881. however, following the death of her father in that month her condition deteriorated again. breuer recorded that some of the symptoms eventually remitted spontaneously, and that full recovery was achieved by inducing her to recall events that had precipitated the occurrence of a specific symptom. this recovery is disputed.                                                                                                                                                                                                                           1\n",
            "                                 brenner was married to may brenner  from december 1952 until her death in january 2010; their children include belinda, carla, stefan, and his stepson jonathan balkind from his wife's first marriage to marcus balkind. he lived in ely, cambridgeshire. he was an atheist.brenner died on 5 april 2019, in singapore, at the age of 92.                                                                                                                                                                                                                                                                                                                                                                                                                                                                                1\n",
            "                                 brenner then focused on establishing caenorhabditis elegans as a model organism for the investigation of animal development including development of the nervous system. brenner chose this 1 millimeter-long soil roundworm mainly because it is simple, is easy to grow in bulk populations, and turned out to be convenient for genetic analysis. for this work, he shared the 2002 nobel prize in physiology or medicine with robert horvitz and john sulston. his nobel lecture in december 2002, \"nature's gift to science\" is a homage to this modest nematode. he considers chosing the right organism is as important as picking the right problems to work on. in recognition of his pioneering work on c. elegans, another closely related nematode was given the scientific name caenorhabditis brenneri.     1\n",
            "                                 brenner s. 2001. my life in science, with lewis wolpert; edited by errol c. friedberg and eleanor lawrence. biomed central.                                                                                                                                                                                                                                                                                                                                                                                                                                                                                                                                                                                                                                                                                               1\n",
            "org_yes_product_yes_person_yes_  zetalisp, also termed lisp machine lisp – used on the lisp machines, direct descendant of maclisp. zetalisp had a big influence on common lisp.                                                                                                                                                                                                                                                                                                                                                                                                                                                                                                                                                                                                                                                                           1\n",
            "Length: 7238, dtype: int64\n"
          ]
        }
      ]
    },
    {
      "cell_type": "markdown",
      "source": [
        "# Encoding the categorical data"
      ],
      "metadata": {
        "id": "aG01-vwbRzf5"
      }
    },
    {
      "cell_type": "code",
      "source": [
        "# Using Label Encoder for encoding the categorical data\n",
        "label_encoder = LabelEncoder()\n",
        "train_Y_encoded = label_encoder.fit_transform(train_Y)\n",
        "test_Y_encoded = label_encoder.transform(test_Y)"
      ],
      "metadata": {
        "colab": {
          "base_uri": "https://localhost:8080/"
        },
        "id": "OswU7G8zQuxk",
        "outputId": "479432e6-4545-47d0-ca54-4762423613bd"
      },
      "execution_count": 86,
      "outputs": [
        {
          "output_type": "stream",
          "name": "stderr",
          "text": [
            "/usr/local/lib/python3.10/dist-packages/sklearn/preprocessing/_label.py:116: DataConversionWarning: A column-vector y was passed when a 1d array was expected. Please change the shape of y to (n_samples, ), for example using ravel().\n",
            "  y = column_or_1d(y, warn=True)\n",
            "/usr/local/lib/python3.10/dist-packages/sklearn/preprocessing/_label.py:134: DataConversionWarning: A column-vector y was passed when a 1d array was expected. Please change the shape of y to (n_samples, ), for example using ravel().\n",
            "  y = column_or_1d(y, dtype=self.classes_.dtype, warn=True)\n"
          ]
        }
      ]
    },
    {
      "cell_type": "code",
      "source": [
        "## Text Vectorization\n",
        "vectorizer = TfidfVectorizer()\n",
        "train_X_vector = vectorizer.fit_transform(train_X['paragraph'])\n",
        "test_X_vector = vectorizer.transform(test_X['paragraph'])"
      ],
      "metadata": {
        "id": "pME8VOnaSQIT"
      },
      "execution_count": 87,
      "outputs": []
    },
    {
      "cell_type": "code",
      "source": [
        "## Using logistic regression machine learning algorithm\n",
        "\n",
        "# Setting up the Logistic Regression Classifier\n",
        "logistic_regression = LogisticRegression(random_state=42)\n",
        "\n",
        "# Training the Model\n",
        "logistic_regression.fit(train_X_vector, train_Y)\n",
        "\n",
        "# Making Predictions with Logistic Regression\n",
        "pred_Y_logistic = logistic_regression.predict(test_X_vector)\n",
        "\n",
        "# Displaying Accuracy\n",
        "accuracy_logistic = accuracy_score(test_Y, pred_Y_logistic)\n",
        "print(f'Accuracy with Logistic Regression: {accuracy_logistic:.2f}')"
      ],
      "metadata": {
        "colab": {
          "base_uri": "https://localhost:8080/"
        },
        "id": "db6lLRoNTzPf",
        "outputId": "c0a7972c-b90d-4f4b-aa3c-462216e47345"
      },
      "execution_count": 88,
      "outputs": [
        {
          "output_type": "stream",
          "name": "stderr",
          "text": [
            "/usr/local/lib/python3.10/dist-packages/sklearn/utils/validation.py:1143: DataConversionWarning: A column-vector y was passed when a 1d array was expected. Please change the shape of y to (n_samples, ), for example using ravel().\n",
            "  y = column_or_1d(y, warn=True)\n"
          ]
        },
        {
          "output_type": "stream",
          "name": "stdout",
          "text": [
            "Accuracy with Logistic Regression: 0.92\n"
          ]
        },
        {
          "output_type": "stream",
          "name": "stderr",
          "text": [
            "/usr/local/lib/python3.10/dist-packages/sklearn/linear_model/_logistic.py:458: ConvergenceWarning: lbfgs failed to converge (status=1):\n",
            "STOP: TOTAL NO. of ITERATIONS REACHED LIMIT.\n",
            "\n",
            "Increase the number of iterations (max_iter) or scale the data as shown in:\n",
            "    https://scikit-learn.org/stable/modules/preprocessing.html\n",
            "Please also refer to the documentation for alternative solver options:\n",
            "    https://scikit-learn.org/stable/modules/linear_model.html#logistic-regression\n",
            "  n_iter_i = _check_optimize_result(\n"
          ]
        }
      ]
    },
    {
      "cell_type": "markdown",
      "source": [
        "# Confusion Matrix"
      ],
      "metadata": {
        "id": "Gwznu1YvIoEo"
      }
    },
    {
      "cell_type": "code",
      "source": [
        "# Computing Confusion Matrix\n",
        "con_matrix = confusion_matrix(test_Y, pred_Y_logistic)\n",
        "\n",
        "# Displaying Confusion Matrix\n",
        "print(\"Confusion Matrix:\")\n",
        "print(con_matrix)"
      ],
      "metadata": {
        "colab": {
          "base_uri": "https://localhost:8080/"
        },
        "id": "0dYpDYmen7g_",
        "outputId": "8ead2150-e6b6-4423-919a-e53b24db63da"
      },
      "execution_count": 89,
      "outputs": [
        {
          "output_type": "stream",
          "name": "stdout",
          "text": [
            "Confusion Matrix:\n",
            "[[290  10   0  22  13]\n",
            " [  3 533   0  37   3]\n",
            " [  1  11  23   2   1]\n",
            " [  5  17   0 485   6]\n",
            " [  6   7   0   6 389]]\n"
          ]
        }
      ]
    },
    {
      "cell_type": "code",
      "source": [],
      "metadata": {
        "id": "DSkqQgXYI7g2"
      },
      "execution_count": 89,
      "outputs": []
    }
  ]
}